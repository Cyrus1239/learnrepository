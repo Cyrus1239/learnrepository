{
 "cells": [
  {
   "cell_type": "markdown",
   "id": "23d28bba",
   "metadata": {},
   "source": [
    "# FILE INPUT/OUTPUT OPERATORS"
   ]
  },
  {
   "cell_type": "markdown",
   "id": "923fb81e",
   "metadata": {},
   "source": [
    "f=open(C:\\Python\\file1.txt,'w')\n",
    "f=open(C:\\python\\file1.txt,'r')"
   ]
  },
  {
   "cell_type": "code",
   "execution_count": 19,
   "id": "67221ba2",
   "metadata": {},
   "outputs": [],
   "source": [
    "savefile=open('C:\\\\Python\\\\june7file.txt','w')"
   ]
  },
  {
   "cell_type": "code",
   "execution_count": 20,
   "id": "028dc21f",
   "metadata": {},
   "outputs": [
    {
     "data": {
      "text/plain": [
       "45"
      ]
     },
     "execution_count": 20,
     "metadata": {},
     "output_type": "execute_result"
    }
   ],
   "source": [
    "savefile.write('We are learning file input output operations.')"
   ]
  },
  {
   "cell_type": "code",
   "execution_count": 21,
   "id": "500c5746",
   "metadata": {},
   "outputs": [],
   "source": [
    "savefile.close()"
   ]
  },
  {
   "cell_type": "code",
   "execution_count": 22,
   "id": "de1e5f5b",
   "metadata": {},
   "outputs": [],
   "source": [
    "readme=open('C:\\\\Python\\\\june7file.txt','r')"
   ]
  },
  {
   "cell_type": "code",
   "execution_count": 23,
   "id": "0554d774",
   "metadata": {},
   "outputs": [
    {
     "name": "stdout",
     "output_type": "stream",
     "text": [
      "We are learning file input output operations.\n"
     ]
    }
   ],
   "source": [
    "print(readme.read())"
   ]
  },
  {
   "cell_type": "code",
   "execution_count": 24,
   "id": "dc976ee8",
   "metadata": {},
   "outputs": [],
   "source": [
    "readme.close()"
   ]
  },
  {
   "cell_type": "code",
   "execution_count": 25,
   "id": "e685995d",
   "metadata": {},
   "outputs": [],
   "source": [
    "appendfile=open('C:\\\\Python\\\\june7file.txt','a')"
   ]
  },
  {
   "cell_type": "code",
   "execution_count": 26,
   "id": "19dd85e7",
   "metadata": {},
   "outputs": [
    {
     "data": {
      "text/plain": [
       "42"
      ]
     },
     "execution_count": 26,
     "metadata": {},
     "output_type": "execute_result"
    }
   ],
   "source": [
    "appendfile.write('\\n Now for testing i am adding second line.')"
   ]
  },
  {
   "cell_type": "code",
   "execution_count": 27,
   "id": "7bcea36f",
   "metadata": {},
   "outputs": [],
   "source": [
    "appendfile.close()"
   ]
  },
  {
   "cell_type": "code",
   "execution_count": 28,
   "id": "7d8dd516",
   "metadata": {},
   "outputs": [],
   "source": [
    "readme=open('C:\\\\Python\\\\june7file.txt','r')"
   ]
  },
  {
   "cell_type": "code",
   "execution_count": 29,
   "id": "8c316360",
   "metadata": {},
   "outputs": [
    {
     "name": "stdout",
     "output_type": "stream",
     "text": [
      "We are learning file input output operations.\n",
      " Now for testing i am adding second line.\n"
     ]
    }
   ],
   "source": [
    "print(readme.read())"
   ]
  },
  {
   "cell_type": "code",
   "execution_count": 30,
   "id": "39944f1c",
   "metadata": {},
   "outputs": [],
   "source": [
    "readme.close()"
   ]
  },
  {
   "cell_type": "markdown",
   "id": "652ac1be",
   "metadata": {},
   "source": [
    "# Pickle in Python : Object Serialization"
   ]
  },
  {
   "cell_type": "code",
   "execution_count": 31,
   "id": "3ba74c7d",
   "metadata": {},
   "outputs": [],
   "source": [
    "import pickle"
   ]
  },
  {
   "cell_type": "code",
   "execution_count": 32,
   "id": "37263bd1",
   "metadata": {},
   "outputs": [],
   "source": [
    "flower_dict = {1:'Rose', 2:'Lily',3:'Lotus',4:'Tulip'}"
   ]
  },
  {
   "cell_type": "code",
   "execution_count": 33,
   "id": "532c8077",
   "metadata": {},
   "outputs": [],
   "source": [
    "filename = 'flower'\n",
    "outfile = open('flower.obj','wb')  #wb=write binary"
   ]
  },
  {
   "cell_type": "code",
   "execution_count": 34,
   "id": "70a47cfe",
   "metadata": {},
   "outputs": [],
   "source": [
    "#filename='flower'\n",
    "outfile= open('flower.obj','wb')    # we can also write = 'c:\\\\'python\\\\flower.obj','wb'"
   ]
  },
  {
   "cell_type": "code",
   "execution_count": 35,
   "id": "8552ec42",
   "metadata": {},
   "outputs": [],
   "source": [
    "# pickling the file\n",
    "# dump method serialize\n",
    "pickle.dump(flower_dict,outfile)\n",
    "outfile.close()"
   ]
  },
  {
   "cell_type": "markdown",
   "id": "a4736ff4",
   "metadata": {},
   "source": [
    "#unpickle the file\n",
    "infile=open(filename,'rb')"
   ]
  },
  {
   "cell_type": "code",
   "execution_count": 37,
   "id": "08197e6b",
   "metadata": {},
   "outputs": [],
   "source": [
    "# unpickle the file\n",
    "infile=open('flower.obj','rb')"
   ]
  },
  {
   "cell_type": "code",
   "execution_count": 38,
   "id": "7276bbff",
   "metadata": {},
   "outputs": [],
   "source": [
    "#de-serialize\n",
    "#load method\n",
    "new_dict=pickle.load(infile)"
   ]
  },
  {
   "cell_type": "code",
   "execution_count": 39,
   "id": "8e6f027d",
   "metadata": {},
   "outputs": [],
   "source": [
    "infile.close()"
   ]
  },
  {
   "cell_type": "code",
   "execution_count": 40,
   "id": "fdd0859d",
   "metadata": {},
   "outputs": [
    {
     "name": "stdout",
     "output_type": "stream",
     "text": [
      "{1: 'Rose', 2: 'Lily', 3: 'Lotus', 4: 'Tulip'}\n"
     ]
    }
   ],
   "source": [
    "print(new_dict)"
   ]
  },
  {
   "cell_type": "code",
   "execution_count": 41,
   "id": "9aeb68c3",
   "metadata": {},
   "outputs": [
    {
     "name": "stdout",
     "output_type": "stream",
     "text": [
      "True\n"
     ]
    }
   ],
   "source": [
    "#compare\n",
    "print(new_dict==flower_dict)"
   ]
  },
  {
   "cell_type": "code",
   "execution_count": 42,
   "id": "053d6aab",
   "metadata": {},
   "outputs": [
    {
     "name": "stdout",
     "output_type": "stream",
     "text": [
      "<class 'dict'>\n"
     ]
    }
   ],
   "source": [
    "# check type dict\n",
    "print(type(new_dict))"
   ]
  },
  {
   "cell_type": "markdown",
   "id": "16745579",
   "metadata": {},
   "source": [
    "# EXCEPTIONS"
   ]
  },
  {
   "cell_type": "code",
   "execution_count": 43,
   "id": "afd64442",
   "metadata": {},
   "outputs": [
    {
     "ename": "ZeroDivisionError",
     "evalue": "division by zero",
     "output_type": "error",
     "traceback": [
      "\u001b[1;31m---------------------------------------------------------------------------\u001b[0m",
      "\u001b[1;31mZeroDivisionError\u001b[0m                         Traceback (most recent call last)",
      "\u001b[1;32mC:\\Users\\RANJAN~1\\AppData\\Local\\Temp/ipykernel_8080/530406163.py\u001b[0m in \u001b[0;36m<module>\u001b[1;34m\u001b[0m\n\u001b[1;32m----> 1\u001b[1;33m \u001b[1;36m10\u001b[0m\u001b[1;33m/\u001b[0m\u001b[1;36m0\u001b[0m\u001b[1;33m\u001b[0m\u001b[1;33m\u001b[0m\u001b[0m\n\u001b[0m",
      "\u001b[1;31mZeroDivisionError\u001b[0m: division by zero"
     ]
    }
   ],
   "source": [
    "10/0"
   ]
  },
  {
   "cell_type": "code",
   "execution_count": 44,
   "id": "660cdf34",
   "metadata": {},
   "outputs": [
    {
     "ename": "NameError",
     "evalue": "name 'Number' is not defined",
     "output_type": "error",
     "traceback": [
      "\u001b[1;31m---------------------------------------------------------------------------\u001b[0m",
      "\u001b[1;31mNameError\u001b[0m                                 Traceback (most recent call last)",
      "\u001b[1;32mC:\\Users\\RANJAN~1\\AppData\\Local\\Temp/ipykernel_8080/3124395544.py\u001b[0m in \u001b[0;36m<module>\u001b[1;34m\u001b[0m\n\u001b[1;32m----> 1\u001b[1;33m \u001b[1;36m8\u001b[0m\u001b[1;33m+\u001b[0m\u001b[0mNumber\u001b[0m\u001b[1;33m*\u001b[0m\u001b[1;36m2\u001b[0m\u001b[1;33m\u001b[0m\u001b[1;33m\u001b[0m\u001b[0m\n\u001b[0m",
      "\u001b[1;31mNameError\u001b[0m: name 'Number' is not defined"
     ]
    }
   ],
   "source": [
    "8+Number*2"
   ]
  },
  {
   "cell_type": "code",
   "execution_count": 45,
   "id": "2a0963ab",
   "metadata": {},
   "outputs": [
    {
     "ename": "TypeError",
     "evalue": "can only concatenate str (not \"int\") to str",
     "output_type": "error",
     "traceback": [
      "\u001b[1;31m---------------------------------------------------------------------------\u001b[0m",
      "\u001b[1;31mTypeError\u001b[0m                                 Traceback (most recent call last)",
      "\u001b[1;32mC:\\Users\\RANJAN~1\\AppData\\Local\\Temp/ipykernel_8080/3639722995.py\u001b[0m in \u001b[0;36m<module>\u001b[1;34m\u001b[0m\n\u001b[1;32m----> 1\u001b[1;33m \u001b[1;34m'9'\u001b[0m\u001b[1;33m+\u001b[0m\u001b[1;36m9\u001b[0m\u001b[1;33m\u001b[0m\u001b[1;33m\u001b[0m\u001b[0m\n\u001b[0m",
      "\u001b[1;31mTypeError\u001b[0m: can only concatenate str (not \"int\") to str"
     ]
    }
   ],
   "source": [
    "'9'+9"
   ]
  },
  {
   "cell_type": "markdown",
   "id": "63edc8ec",
   "metadata": {},
   "source": [
    "# HANDLING EXCEPTIONS"
   ]
  },
  {
   "cell_type": "code",
   "execution_count": 47,
   "id": "08c7cd47",
   "metadata": {},
   "outputs": [
    {
     "name": "stdout",
     "output_type": "stream",
     "text": [
      "Handling run time error: division by zero\n"
     ]
    }
   ],
   "source": [
    "try:\n",
    "    79/0\n",
    "except ZeroDivisionError as err:\n",
    "    print('Handling run time error:',err)\n",
    "    "
   ]
  },
  {
   "cell_type": "code",
   "execution_count": 48,
   "id": "a97be8a0",
   "metadata": {},
   "outputs": [
    {
     "name": "stdout",
     "output_type": "stream",
     "text": [
      "Handling run time error: name 'm' is not defined\n"
     ]
    }
   ],
   "source": [
    "try:\n",
    "    8+m*2\n",
    "except NameError as err:\n",
    "    print('Handling run time error:',err)"
   ]
  },
  {
   "cell_type": "code",
   "execution_count": 49,
   "id": "051c9128",
   "metadata": {},
   "outputs": [],
   "source": [
    "def divfunc():\n",
    "    a=80\n",
    "    b=0\n",
    "    c=a/b\n",
    "    print('The value of c=',c)"
   ]
  },
  {
   "cell_type": "code",
   "execution_count": 50,
   "id": "9214141d",
   "metadata": {},
   "outputs": [
    {
     "name": "stdout",
     "output_type": "stream",
     "text": [
      "Handling run time error: division by zero\n"
     ]
    }
   ],
   "source": [
    "try:\n",
    "    divfunc()\n",
    "except ZeroDivisionError as err:\n",
    "    print('Handling run time error:',err)"
   ]
  },
  {
   "cell_type": "code",
   "execution_count": 51,
   "id": "b10964d2",
   "metadata": {},
   "outputs": [],
   "source": [
    "def divide(x,y):\n",
    "    try:\n",
    "        result=x/y\n",
    "    except ZeroDivisionError:\n",
    "        print('Division by zero')\n",
    "    else:\n",
    "        print('Result is',result)\n",
    "    finally:\n",
    "        print('Executing finally clause')\n",
    "        "
   ]
  },
  {
   "cell_type": "code",
   "execution_count": 52,
   "id": "20603549",
   "metadata": {},
   "outputs": [
    {
     "name": "stdout",
     "output_type": "stream",
     "text": [
      "Result is 5.0\n",
      "Executing finally clause\n"
     ]
    }
   ],
   "source": [
    "divide(25,5)"
   ]
  },
  {
   "cell_type": "code",
   "execution_count": 53,
   "id": "ce866ae4",
   "metadata": {},
   "outputs": [
    {
     "name": "stdout",
     "output_type": "stream",
     "text": [
      "Division by zero\n",
      "Executing finally clause\n"
     ]
    }
   ],
   "source": [
    "divide(30,0)"
   ]
  },
  {
   "cell_type": "code",
   "execution_count": 54,
   "id": "a49963f4",
   "metadata": {},
   "outputs": [
    {
     "name": "stdout",
     "output_type": "stream",
     "text": [
      "File not found\n"
     ]
    }
   ],
   "source": [
    "# this will throw an exception if the file doesn't exist\n",
    "try:\n",
    "    fileptr=open('demofile.txt','r')\n",
    "except IOError:\n",
    "    print('File not found')\n",
    "else:\n",
    "    print('The file open successfully')\n",
    "    print(fileptr.read)\n",
    "    fileptr.closed()"
   ]
  },
  {
   "cell_type": "code",
   "execution_count": 56,
   "id": "5a756b27",
   "metadata": {},
   "outputs": [
    {
     "name": "stdout",
     "output_type": "stream",
     "text": [
      "The file open successfully\n",
      "23\n"
     ]
    }
   ],
   "source": [
    "try:\n",
    "    appenedfile=open('demofile.txt','a')\n",
    "except IOError:\n",
    "    print('File not found')\n",
    "else:\n",
    "    print('The file open successfully')\n",
    "    print(appenedfile.write('\\n This is the next line'))"
   ]
  },
  {
   "cell_type": "markdown",
   "id": "378295da",
   "metadata": {},
   "source": [
    "Pip----Python Package Manager\n",
    "\n",
    "The best way to manage python's third pirty package/modules is with pip\n",
    "\n",
    "!pip install Textblob"
   ]
  },
  {
   "cell_type": "code",
   "execution_count": null,
   "id": "2d49afdb",
   "metadata": {},
   "outputs": [],
   "source": []
  }
 ],
 "metadata": {
  "kernelspec": {
   "display_name": "Python 3 (ipykernel)",
   "language": "python",
   "name": "python3"
  },
  "language_info": {
   "codemirror_mode": {
    "name": "ipython",
    "version": 3
   },
   "file_extension": ".py",
   "mimetype": "text/x-python",
   "name": "python",
   "nbconvert_exporter": "python",
   "pygments_lexer": "ipython3",
   "version": "3.9.7"
  }
 },
 "nbformat": 4,
 "nbformat_minor": 5
}
