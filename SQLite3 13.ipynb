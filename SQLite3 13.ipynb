{
 "cells": [
  {
   "cell_type": "markdown",
   "id": "1ed9c93c",
   "metadata": {},
   "source": [
    "# SQLite"
   ]
  },
  {
   "cell_type": "code",
   "execution_count": 1,
   "id": "db080e5a",
   "metadata": {},
   "outputs": [],
   "source": [
    "import sqlite3"
   ]
  },
  {
   "cell_type": "markdown",
   "id": "5ddc32fc",
   "metadata": {},
   "source": [
    "# Create Database"
   ]
  },
  {
   "cell_type": "code",
   "execution_count": 2,
   "id": "a9da292f",
   "metadata": {},
   "outputs": [],
   "source": [
    "# Student_Database will be created in Jupyter notebook home\n",
    "\n",
    "# first connection object\n",
    "db=sqlite3.connect(\"employee4_database.db\")"
   ]
  },
  {
   "cell_type": "code",
   "execution_count": 3,
   "id": "e51cfe54",
   "metadata": {},
   "outputs": [],
   "source": [
    "# Create cursor object from connection\n",
    "\n",
    "cur=db.cursor()"
   ]
  },
  {
   "cell_type": "markdown",
   "id": "ca3498c3",
   "metadata": {},
   "source": [
    "# Create table in employee_database"
   ]
  },
  {
   "cell_type": "markdown",
   "id": "0f0e721f",
   "metadata": {},
   "source": [
    "SQL data types---\n",
    "integer -- numeric values\n",
    "real -- decimal values\n",
    "text -- character values\n",
    "char(20) -- Character values"
   ]
  },
  {
   "cell_type": "code",
   "execution_count": 4,
   "id": "850fee4a",
   "metadata": {},
   "outputs": [
    {
     "ename": "OperationalError",
     "evalue": "table employee4 already exists",
     "output_type": "error",
     "traceback": [
      "\u001b[1;31m---------------------------------------------------------------------------\u001b[0m",
      "\u001b[1;31mOperationalError\u001b[0m                          Traceback (most recent call last)",
      "\u001b[1;32mC:\\Users\\RANJAN~1\\AppData\\Local\\Temp/ipykernel_14088/2709327150.py\u001b[0m in \u001b[0;36m<module>\u001b[1;34m\u001b[0m\n\u001b[1;32m----> 1\u001b[1;33m \u001b[0mcur\u001b[0m\u001b[1;33m.\u001b[0m\u001b[0mexecute\u001b[0m\u001b[1;33m(\u001b[0m\u001b[1;34m\"create table employee4(id int primary key, name text,marks int)\"\u001b[0m\u001b[1;33m)\u001b[0m\u001b[1;33m\u001b[0m\u001b[1;33m\u001b[0m\u001b[0m\n\u001b[0m",
      "\u001b[1;31mOperationalError\u001b[0m: table employee4 already exists"
     ]
    }
   ],
   "source": [
    "cur.execute(\"create table employee4(id int primary key, name text,marks int)\")"
   ]
  },
  {
   "cell_type": "markdown",
   "id": "df4d7b7a",
   "metadata": {},
   "source": [
    "# insert data in employee table"
   ]
  },
  {
   "cell_type": "code",
   "execution_count": null,
   "id": "0ba6d2a3",
   "metadata": {},
   "outputs": [],
   "source": [
    "cur.execute(\"insert into employee4 (id,name,marks) values(1,'Jonson',90)\")\n",
    "db.commit()"
   ]
  },
  {
   "cell_type": "code",
   "execution_count": null,
   "id": "9785e748",
   "metadata": {},
   "outputs": [],
   "source": [
    "print(cur.rowcount,\"Record(s) inserted\")"
   ]
  },
  {
   "cell_type": "code",
   "execution_count": null,
   "id": "54ecaa98",
   "metadata": {},
   "outputs": [],
   "source": [
    "cur.execute(\"insert into employee4 (id,name,marks) values(2,'Mariya',80)\")\n",
    "db.commit()"
   ]
  },
  {
   "cell_type": "code",
   "execution_count": null,
   "id": "93264b39",
   "metadata": {},
   "outputs": [],
   "source": [
    "results=cur.execute('select * from employee4')\n",
    "\n",
    "for row in results:\n",
    "    print(row)"
   ]
  },
  {
   "cell_type": "code",
   "execution_count": null,
   "id": "45abf4b1",
   "metadata": {},
   "outputs": [],
   "source": [
    "cur.execute(\"insert into employee4 (id,name,marks) values(3,'Breat',85)\")\n",
    "db.commit()"
   ]
  },
  {
   "cell_type": "code",
   "execution_count": null,
   "id": "f0111e38",
   "metadata": {},
   "outputs": [],
   "source": [
    "results=cur.execute('select * from employee4')\n",
    "\n",
    "for row in results:\n",
    "    print(row)"
   ]
  },
  {
   "cell_type": "code",
   "execution_count": null,
   "id": "5f354a7a",
   "metadata": {},
   "outputs": [],
   "source": [
    "cur.execute(\"insert into employee4 values(4,'Sinha',85)\")\n",
    "db.commit()"
   ]
  },
  {
   "cell_type": "code",
   "execution_count": null,
   "id": "a46bcdfc",
   "metadata": {},
   "outputs": [],
   "source": [
    "cur.execute(\"insert into employee4 values(5,'Kia',85)\")\n",
    "db.commit()"
   ]
  },
  {
   "cell_type": "code",
   "execution_count": null,
   "id": "76955446",
   "metadata": {},
   "outputs": [],
   "source": [
    "cur.execute(\"insert into employee4 values(6,'Dravid',85)\")\n",
    "db.commit()"
   ]
  },
  {
   "cell_type": "code",
   "execution_count": null,
   "id": "b7acaa9b",
   "metadata": {},
   "outputs": [],
   "source": [
    "results=cur.execute('select * from employee4')\n",
    "\n",
    "for row in results:\n",
    "    print(row)"
   ]
  },
  {
   "cell_type": "code",
   "execution_count": null,
   "id": "c4186905",
   "metadata": {},
   "outputs": [],
   "source": [
    "# multiple data insert\n",
    "cur.execute(\"insert into employee4 values(7,'Breat',86), (8,'Sia',91)\")\n",
    "db.commit()\n",
    "#count of records inserted\n",
    "print(cur.rowcount,'Record(s) inserted')"
   ]
  },
  {
   "cell_type": "code",
   "execution_count": null,
   "id": "b9d7c5b2",
   "metadata": {},
   "outputs": [],
   "source": [
    "results=cur.execute('select * from employee4')\n",
    "\n",
    "for row in results:\n",
    "    print(row)"
   ]
  },
  {
   "cell_type": "markdown",
   "id": "7f311eaa",
   "metadata": {},
   "source": [
    "database will be created in the given location"
   ]
  },
  {
   "cell_type": "code",
   "execution_count": null,
   "id": "efd718d7",
   "metadata": {},
   "outputs": [],
   "source": [
    "db1=sqlite3.connect('c:/MySQLite_DataBase/employee.db')"
   ]
  },
  {
   "cell_type": "code",
   "execution_count": null,
   "id": "65990509",
   "metadata": {},
   "outputs": [],
   "source": [
    "cur1=db1.cursor()"
   ]
  },
  {
   "cell_type": "markdown",
   "id": "83af9d29",
   "metadata": {},
   "source": [
    "Working with original database -------employee database"
   ]
  },
  {
   "cell_type": "markdown",
   "id": "385e7f8d",
   "metadata": {},
   "source": [
    "# Accessing data stored in SQLite using python"
   ]
  },
  {
   "cell_type": "code",
   "execution_count": null,
   "id": "e763a419",
   "metadata": {},
   "outputs": [],
   "source": [
    "results=cur.execute(\"select * from employee4\")"
   ]
  },
  {
   "cell_type": "code",
   "execution_count": null,
   "id": "af1c9c9e",
   "metadata": {},
   "outputs": [],
   "source": [
    "for i in results:\n",
    "    print(i)"
   ]
  },
  {
   "cell_type": "code",
   "execution_count": null,
   "id": "9305e4a4",
   "metadata": {},
   "outputs": [],
   "source": [
    "results=cur.execute(\"select id, name from employee4\")"
   ]
  },
  {
   "cell_type": "code",
   "execution_count": null,
   "id": "793112bd",
   "metadata": {},
   "outputs": [],
   "source": [
    "for i in results:\n",
    "    print(i)"
   ]
  },
  {
   "cell_type": "code",
   "execution_count": null,
   "id": "27c86795",
   "metadata": {},
   "outputs": [],
   "source": [
    "results=cur.execute(\"select id, marks from employee4\")\n",
    "\n",
    "for i in results:\n",
    "    print(i)"
   ]
  },
  {
   "cell_type": "code",
   "execution_count": null,
   "id": "b4084ddd",
   "metadata": {},
   "outputs": [],
   "source": [
    "results=cur.execute(\"select * from employee4 where id=1\")"
   ]
  },
  {
   "cell_type": "code",
   "execution_count": null,
   "id": "b6bd6672",
   "metadata": {},
   "outputs": [],
   "source": [
    "for i in results:\n",
    "    print(i)"
   ]
  },
  {
   "cell_type": "code",
   "execution_count": null,
   "id": "919cc7c0",
   "metadata": {},
   "outputs": [],
   "source": [
    "results=cur.execute(\"select * from employee4 limit 3\")\n",
    "for i in results:\n",
    "    print(i)"
   ]
  },
  {
   "cell_type": "code",
   "execution_count": null,
   "id": "aef55187",
   "metadata": {},
   "outputs": [],
   "source": [
    "results=cur.execute(\"select name from employee4 where id=2\")\n",
    "\n",
    "for i in results:\n",
    "    print(i)"
   ]
  },
  {
   "cell_type": "code",
   "execution_count": null,
   "id": "d010afa8",
   "metadata": {},
   "outputs": [],
   "source": [
    "results=cur.execute(\"select * from employee4 where name='Breat'\")\n",
    "for i in results:\n",
    "    print(i)"
   ]
  },
  {
   "cell_type": "code",
   "execution_count": null,
   "id": "2b2a4ba3",
   "metadata": {},
   "outputs": [],
   "source": [
    "results=cur.execute(\"select * from employee4 where marks>85 and marks<90\")\n",
    "for i in results:\n",
    "    print(i)"
   ]
  },
  {
   "cell_type": "code",
   "execution_count": null,
   "id": "0613b8c1",
   "metadata": {},
   "outputs": [],
   "source": [
    "# in operator\n",
    "results=cur.execute(\"select * from employee4 where id in(3,5)\")\n",
    "for i in results:\n",
    "    print(i)"
   ]
  },
  {
   "cell_type": "code",
   "execution_count": null,
   "id": "832e4bbf",
   "metadata": {},
   "outputs": [],
   "source": [
    "results=cur.execute(\"select * from employee4 order by name asc\")\n",
    "for i in results:\n",
    "    print(i)"
   ]
  },
  {
   "cell_type": "code",
   "execution_count": null,
   "id": "8ce235d9",
   "metadata": {},
   "outputs": [],
   "source": [
    "results=cur.execute(\"select * from employee4 order by name desc\")\n",
    "for i in results:\n",
    "    print(i)"
   ]
  },
  {
   "cell_type": "code",
   "execution_count": null,
   "id": "1e05e93b",
   "metadata": {},
   "outputs": [],
   "source": [
    "# And operator\n",
    "\n",
    "results=cur.execute(\"select * from employee4 where name= 'Sinha' and marks=85\")\n",
    "for i in results:\n",
    "    print(i)"
   ]
  },
  {
   "cell_type": "code",
   "execution_count": null,
   "id": "7402537d",
   "metadata": {},
   "outputs": [],
   "source": [
    "results=cur.execute(\"select * from employee4 where name= 'Sinha' and marks=80\")\n",
    "for i in results:\n",
    "    print(i)"
   ]
  },
  {
   "cell_type": "code",
   "execution_count": null,
   "id": "03f3e723",
   "metadata": {},
   "outputs": [],
   "source": [
    "results=cur.execute(\"select * from employee4 where id=8 and marks=85\")\n",
    "for i in results:\n",
    "    print(i)"
   ]
  },
  {
   "cell_type": "code",
   "execution_count": null,
   "id": "b102cfd2",
   "metadata": {},
   "outputs": [],
   "source": [
    "# OR Operator\n",
    "\n",
    "results=cur.execute(\"select * from employee4 where name= 'Sinha' or marks=80\")\n",
    "for i in results:\n",
    "    print(i)"
   ]
  },
  {
   "cell_type": "code",
   "execution_count": null,
   "id": "7a77aaf6",
   "metadata": {},
   "outputs": [],
   "source": [
    "results=cur.execute(\"select * from employee4 where id= 3 or marks=85\")\n",
    "for i in results:\n",
    "    print(i)"
   ]
  },
  {
   "cell_type": "code",
   "execution_count": null,
   "id": "9593bf0d",
   "metadata": {},
   "outputs": [],
   "source": [
    "results=cur.execute(\"select * from employee4 where id=5 or marks=90\")\n",
    "\n",
    "results.fetchall()"
   ]
  },
  {
   "cell_type": "markdown",
   "id": "6677cde8",
   "metadata": {},
   "source": [
    "Aggregate functions"
   ]
  },
  {
   "cell_type": "markdown",
   "id": "116d5854",
   "metadata": {},
   "source": [
    "MIN=find minimum\n",
    "MAX=find maximum\n",
    "AVG=find average\n",
    "SUM=find sum\n",
    "COUNT=count the number of rows"
   ]
  },
  {
   "cell_type": "code",
   "execution_count": null,
   "id": "7cd675dd",
   "metadata": {},
   "outputs": [],
   "source": [
    "# find minimum marks\n",
    "results=cur.execute(\"select min(marks) from employee4\")\n",
    "for i in results:\n",
    "    print(i)"
   ]
  },
  {
   "cell_type": "code",
   "execution_count": null,
   "id": "d161553a",
   "metadata": {},
   "outputs": [],
   "source": [
    "# find maximum marks\n",
    "results=cur.execute(\"select max(marks) from employee4\")\n",
    "for i in results:\n",
    "    print(i)"
   ]
  },
  {
   "cell_type": "code",
   "execution_count": null,
   "id": "cec18d5d",
   "metadata": {},
   "outputs": [],
   "source": [
    "# find sum\n",
    "results=cur.execute(\"select sum(marks) from employee4\")\n",
    "for i in results:\n",
    "    print(i)"
   ]
  },
  {
   "cell_type": "code",
   "execution_count": null,
   "id": "99742f19",
   "metadata": {},
   "outputs": [],
   "source": [
    "# find maximum marks\n",
    "results=cur.execute(\"select count(id) from employee4\")\n",
    "for i in results:\n",
    "    print(i)"
   ]
  },
  {
   "cell_type": "code",
   "execution_count": null,
   "id": "17dc3ca1",
   "metadata": {},
   "outputs": [],
   "source": [
    "results=cur.execute(\"select * from employee4 where marks between 80 and 90\")\n",
    "for i in results:\n",
    "    print(i)"
   ]
  },
  {
   "cell_type": "code",
   "execution_count": null,
   "id": "78919b8b",
   "metadata": {},
   "outputs": [],
   "source": [
    "results=cur.execute(\"select * from employee4 where marks is null\")\n",
    "for i in results:\n",
    "    print(i)"
   ]
  },
  {
   "cell_type": "code",
   "execution_count": null,
   "id": "6c82e96c",
   "metadata": {},
   "outputs": [],
   "source": [
    "results=cur.execute(\"select * from employee4 where marks is not null\")\n",
    "for i in results:\n",
    "    print(i)"
   ]
  },
  {
   "cell_type": "code",
   "execution_count": null,
   "id": "174c2f04",
   "metadata": {},
   "outputs": [],
   "source": [
    "# like operators\n",
    "results=cur.execute(\"select * from employee4 where name like 'D%'\")\n",
    "for i in results:\n",
    "    print(i)"
   ]
  },
  {
   "cell_type": "code",
   "execution_count": null,
   "id": "6c041c62",
   "metadata": {},
   "outputs": [],
   "source": [
    "results=cur.execute(\"select * from employee4 where name like 'S%'\")\n",
    "for i in results:\n",
    "    print(i)"
   ]
  },
  {
   "cell_type": "code",
   "execution_count": null,
   "id": "27effff3",
   "metadata": {},
   "outputs": [],
   "source": [
    "results=cur.execute(\"select * from employee4 where name like '_i%'\")\n",
    "for i in results:\n",
    "    print(i)"
   ]
  },
  {
   "cell_type": "code",
   "execution_count": null,
   "id": "6dcde1e1",
   "metadata": {},
   "outputs": [],
   "source": [
    "results=cur.execute(\"select * from employee4 where name like '%a'\")\n",
    "for i in results:\n",
    "    print(i)"
   ]
  },
  {
   "cell_type": "code",
   "execution_count": null,
   "id": "a33b1bb6",
   "metadata": {},
   "outputs": [],
   "source": [
    "results=cur.execute(\"select * from employee4 where name like '%i%'\")\n",
    "for i in results:\n",
    "    print(i)"
   ]
  },
  {
   "cell_type": "code",
   "execution_count": null,
   "id": "e63d129c",
   "metadata": {},
   "outputs": [],
   "source": [
    "# Display only four character\n",
    "\n",
    "results=cur.execute(\"select * from employee4 where name like '___'\")\n",
    "for i in results:\n",
    "    print(i)"
   ]
  },
  {
   "cell_type": "code",
   "execution_count": null,
   "id": "362d4ef4",
   "metadata": {},
   "outputs": [],
   "source": [
    "results=cur.execute(\"select * from employee4 where marks not in(80)\")\n",
    "for i in results:\n",
    "    print(i)"
   ]
  },
  {
   "cell_type": "code",
   "execution_count": null,
   "id": "e6e3e019",
   "metadata": {},
   "outputs": [],
   "source": [
    "results=cur.execute(\"select * from employee4 where name not in('Kia')\")\n",
    "for i in results:\n",
    "    print(i)"
   ]
  },
  {
   "cell_type": "code",
   "execution_count": null,
   "id": "f5767e32",
   "metadata": {},
   "outputs": [],
   "source": [
    "results=cur.execute(\"select * from employee4 where marks not in(80,85,91)\")\n",
    "for i in results:\n",
    "    print(i)"
   ]
  },
  {
   "cell_type": "markdown",
   "id": "fef8e4a9",
   "metadata": {},
   "source": [
    "Update record"
   ]
  },
  {
   "cell_type": "code",
   "execution_count": null,
   "id": "b525ac85",
   "metadata": {},
   "outputs": [],
   "source": [
    "# update the record\n",
    "sql=\"update employee4 set marks = 100 where id=4\"\n",
    "cur.execute(sql)\n",
    "db.commit()"
   ]
  },
  {
   "cell_type": "code",
   "execution_count": null,
   "id": "e7799681",
   "metadata": {},
   "outputs": [],
   "source": [
    "results=cur.execute(\"select * from employee4 where id=4\")\n",
    "for i in results:\n",
    "    print(i)"
   ]
  },
  {
   "cell_type": "code",
   "execution_count": null,
   "id": "afbad603",
   "metadata": {},
   "outputs": [],
   "source": [
    "results=cur.execute(\"select * from employee4\")\n",
    "for i in results:\n",
    "    print(i)"
   ]
  },
  {
   "cell_type": "code",
   "execution_count": null,
   "id": "642c4094",
   "metadata": {},
   "outputs": [],
   "source": [
    "# miltiple record update\n",
    "sql=\"update employee4 set marks = 99 where id in (2,6)\"\n",
    "cur.execute(sql)\n",
    "db.commit()"
   ]
  },
  {
   "cell_type": "code",
   "execution_count": null,
   "id": "a1ee3028",
   "metadata": {},
   "outputs": [],
   "source": [
    "results=cur.execute(\"select * from employee4\")\n",
    "for i in results:\n",
    "    print(i)"
   ]
  },
  {
   "cell_type": "markdown",
   "id": "e553a54c",
   "metadata": {},
   "source": [
    "# Delete any unwanted records"
   ]
  },
  {
   "cell_type": "code",
   "execution_count": null,
   "id": "e82a72cc",
   "metadata": {},
   "outputs": [],
   "source": [
    "sql=\"Delete from employee4 where id=6\"\n",
    "\n",
    "cur.execute(sql)"
   ]
  },
  {
   "cell_type": "code",
   "execution_count": null,
   "id": "854db6b9",
   "metadata": {},
   "outputs": [],
   "source": [
    "results=cur.execute('select * from employee4')\n",
    "\n",
    "results.fetchall()"
   ]
  },
  {
   "cell_type": "code",
   "execution_count": null,
   "id": "d4b3cf5e",
   "metadata": {},
   "outputs": [],
   "source": [
    "sql=\"Delete from employee4 where id=4\"\n",
    "\n",
    "cur.execute(sql)\n",
    "\n",
    "results=cur.execute('select * from employee4')\n",
    "\n",
    "results.fetchall()"
   ]
  },
  {
   "cell_type": "markdown",
   "id": "d5ae0cea",
   "metadata": {},
   "source": [
    "# Drop table employee4"
   ]
  },
  {
   "cell_type": "code",
   "execution_count": null,
   "id": "1f724847",
   "metadata": {},
   "outputs": [],
   "source": [
    "sql='drop table student'\n",
    "results=cur.execute(sql)\n",
    "\n",
    "results=cur.execute('select * from employee4')\n",
    "\n",
    "results.fetchall()"
   ]
  },
  {
   "cell_type": "code",
   "execution_count": null,
   "id": "dae287c3",
   "metadata": {},
   "outputs": [],
   "source": [
    "db.close()"
   ]
  },
  {
   "cell_type": "markdown",
   "id": "7e8dea1f",
   "metadata": {},
   "source": [
    "# Adding data in table with csv(comma separated values) file directly"
   ]
  },
  {
   "cell_type": "code",
   "execution_count": null,
   "id": "850a655a",
   "metadata": {},
   "outputs": [],
   "source": [
    "import sqlite3"
   ]
  },
  {
   "cell_type": "code",
   "execution_count": null,
   "id": "26405cc3",
   "metadata": {},
   "outputs": [],
   "source": [
    "db=sqlite3.connect(\"D:/MySQLite_Database/file3_database.db\")\n",
    "\n",
    "# Declare cursor\n",
    "cursor = db.cursor()"
   ]
  },
  {
   "cell_type": "code",
   "execution_count": null,
   "id": "e5e7dcb5",
   "metadata": {},
   "outputs": [],
   "source": [
    "db=sqlite3.connect(\"file3_database.db\")\n",
    "\n",
    "# Declare cursor\n",
    "cursor = db.cursor()"
   ]
  },
  {
   "cell_type": "code",
   "execution_count": null,
   "id": "1c78a30c",
   "metadata": {
    "scrolled": true
   },
   "outputs": [],
   "source": [
    "# create table\n",
    "cursor.execute(\"CREATE TABLE file3(gender text,student_id int primary key, marks int )\")"
   ]
  },
  {
   "cell_type": "code",
   "execution_count": null,
   "id": "b8afcc07",
   "metadata": {},
   "outputs": [],
   "source": [
    "# insert records into the table (single record inserting)\n",
    "\n",
    "cursor.execute(\"INSERT INTO file3(gender, student_id, marks) values ('Male',104,56)\")\n",
    "\n",
    "# save the records permanently. (if we don't commit, next time we will not see the records in the table )\n",
    "\n",
    "db.commit()\n",
    "\n",
    "# count of records inserted \n",
    "print(cursor.rowcount,\"Record(s)inserted\")"
   ]
  },
  {
   "cell_type": "markdown",
   "id": "f5ddce2c",
   "metadata": {},
   "source": [
    "# inserting records from csv file"
   ]
  },
  {
   "cell_type": "code",
   "execution_count": null,
   "id": "2285403f",
   "metadata": {},
   "outputs": [],
   "source": [
    "with open('file3.csv','r') as file:\n",
    "    total_records=0\n",
    "    for row in file:\n",
    "        cursor.execute(\"insert into file3 values(?,?,?)\",row.split(\",\"))\n",
    "        db.commit()\n",
    "        total_records+=1\n",
    "print(total_records, 'Records inserted')"
   ]
  },
  {
   "cell_type": "code",
   "execution_count": null,
   "id": "ee7293d9",
   "metadata": {},
   "outputs": [],
   "source": [
    "result=cursor.execute(\"select * from file3\")\n",
    "for row in result:\n",
    "    print(row)\n",
    "    "
   ]
  },
  {
   "cell_type": "code",
   "execution_count": null,
   "id": "f92ac1d5",
   "metadata": {},
   "outputs": [],
   "source": [
    "sql=\"select * from file3 where student_id = 107\"\n",
    "result=cursor.execute(sql)\n",
    "for row in result:\n",
    "    print(row)"
   ]
  },
  {
   "cell_type": "code",
   "execution_count": null,
   "id": "8fd4364a",
   "metadata": {},
   "outputs": [],
   "source": [
    "# how to change the order of records(increasing or decreasing)\n",
    "result=cursor.execute(\"select * from file3 order by marks desc\")\n",
    "for row in result:\n",
    "    print(row)"
   ]
  },
  {
   "cell_type": "code",
   "execution_count": null,
   "id": "f8e24a13",
   "metadata": {},
   "outputs": [],
   "source": [
    "# single record update\n",
    "sql=\"update file3 set marks = 10 where student_id = 118\"\n",
    "cursor.execute(sql)"
   ]
  },
  {
   "cell_type": "code",
   "execution_count": null,
   "id": "5ee0e079",
   "metadata": {},
   "outputs": [],
   "source": [
    "# verify if its update\n",
    "result=cursor.execute(\"select * from file3 order by student_id\")\n",
    "for row in result:\n",
    "    print(row)"
   ]
  },
  {
   "cell_type": "code",
   "execution_count": null,
   "id": "dd19cdb9",
   "metadata": {},
   "outputs": [],
   "source": [
    "# MIN\n",
    "result=cursor.execute(\"select min(marks) from file3\")\n",
    "print('Minimum marks =', result.fetchone())"
   ]
  },
  {
   "cell_type": "code",
   "execution_count": null,
   "id": "85c90f7c",
   "metadata": {},
   "outputs": [],
   "source": [
    "# Max\n",
    "result=cursor.execute(\"select max(marks) from file3\")\n",
    "print('maximum marks =', result.fetchone())"
   ]
  },
  {
   "cell_type": "code",
   "execution_count": null,
   "id": "74993dd6",
   "metadata": {},
   "outputs": [],
   "source": [
    "db.close()"
   ]
  },
  {
   "cell_type": "markdown",
   "id": "3ad04851",
   "metadata": {},
   "source": [
    "# exercise 2 SQLite3"
   ]
  },
  {
   "cell_type": "code",
   "execution_count": null,
   "id": "a39ae989",
   "metadata": {},
   "outputs": [],
   "source": [
    "import sqlite3"
   ]
  },
  {
   "cell_type": "code",
   "execution_count": null,
   "id": "3c673b7d",
   "metadata": {},
   "outputs": [],
   "source": [
    "db=sqlite3.connect(\"D:/MySQLite_Database/sport_database.db\")\n",
    "\n",
    "# Declare cursor\n",
    "cursor = db.cursor()"
   ]
  },
  {
   "cell_type": "code",
   "execution_count": null,
   "id": "f6e521b5",
   "metadata": {},
   "outputs": [],
   "source": [
    "db=sqlite3.connect(\"sport2_database.db\")\n",
    "\n",
    "# Declare cursor\n",
    "cur= db.cursor()"
   ]
  },
  {
   "cell_type": "markdown",
   "id": "e4d7791f",
   "metadata": {},
   "source": [
    "constraints-----\n",
    "unique---enter only unique values, no duplicate values\n",
    "not null---no blank values can be inserted in table"
   ]
  },
  {
   "cell_type": "code",
   "execution_count": null,
   "id": "6ed2123c",
   "metadata": {},
   "outputs": [],
   "source": [
    "cur.execute(\"create table sport2(id int primary key,sport name text unique,dateofevent date,country text not null)\")"
   ]
  },
  {
   "cell_type": "code",
   "execution_count": null,
   "id": "8c94c950",
   "metadata": {},
   "outputs": [],
   "source": [
    "cur.execute(\"insert into sport2 values(1,'Null','2022-07-04','England')\")"
   ]
  },
  {
   "cell_type": "code",
   "execution_count": null,
   "id": "d464c33f",
   "metadata": {},
   "outputs": [],
   "source": [
    "# this line will throw error as sportname is duplicate --- unique constraint failed\n",
    "# cur.execute(\"insert into sport values(2,'cricket','2022-07-06','Srilanka')\")"
   ]
  },
  {
   "cell_type": "code",
   "execution_count": null,
   "id": "13722e2c",
   "metadata": {},
   "outputs": [],
   "source": [
    "cur.execute(\"insert into sport2 values(2,'Tennis','2022-07-06','Srilanka')\")\n",
    "print(cur.rowcount,\"record(s) inserted\")"
   ]
  },
  {
   "cell_type": "code",
   "execution_count": null,
   "id": "0c9e619b",
   "metadata": {},
   "outputs": [],
   "source": [
    "results=cur.execute('Select * from sport2')\n",
    "results.fetchall()"
   ]
  },
  {
   "cell_type": "code",
   "execution_count": null,
   "id": "fc6b05f3",
   "metadata": {},
   "outputs": [],
   "source": [
    "cur.execute(\"insert into sport2 values(3,'Cricket','2022-07-06','Srilanka')\")\n",
    "results=cur.execute('Select * from sport2')\n",
    "results.fetchall()"
   ]
  },
  {
   "cell_type": "code",
   "execution_count": null,
   "id": "22f2a2a3",
   "metadata": {},
   "outputs": [],
   "source": [
    "# this query throw error : not null constraint : can not leave any field blank\n",
    "# cur.execute(\"insert into sport2 values(4,'Football','2022-07-07','Null')\")"
   ]
  },
  {
   "cell_type": "markdown",
   "id": "529db864",
   "metadata": {},
   "source": [
    "# Employee database with DB and python programmatically"
   ]
  },
  {
   "cell_type": "code",
   "execution_count": null,
   "id": "5946eead",
   "metadata": {},
   "outputs": [],
   "source": [
    "import sqlite3"
   ]
  },
  {
   "cell_type": "code",
   "execution_count": null,
   "id": "762d0d97",
   "metadata": {},
   "outputs": [],
   "source": [
    "con=sqlite3.connect(\"C:/MySQLite_Database/emp_database.db\")"
   ]
  },
  {
   "cell_type": "code",
   "execution_count": null,
   "id": "1540e271",
   "metadata": {},
   "outputs": [],
   "source": [
    "con=sqlite3.connect(\"emp_database.db\")"
   ]
  },
  {
   "cell_type": "code",
   "execution_count": null,
   "id": "777dc939",
   "metadata": {},
   "outputs": [],
   "source": [
    "def sql_table(con):\n",
    "    cur=con.cursor()\n",
    "    cur.execute(\"create table employee1(id integer primary key, name text, salary real, department text, position text, hiredate date)\")"
   ]
  },
  {
   "cell_type": "code",
   "execution_count": null,
   "id": "9455857a",
   "metadata": {},
   "outputs": [],
   "source": [
    "# calling function\n",
    "sql_table(con)"
   ]
  },
  {
   "cell_type": "code",
   "execution_count": null,
   "id": "ff67a5fc",
   "metadata": {},
   "outputs": [],
   "source": [
    "cur=con.cursor()\n",
    "cur.execute(\"insert into employee1 values(1,'Jack',10000,'HR','Manager',2020-10-10)\")"
   ]
  },
  {
   "cell_type": "code",
   "execution_count": null,
   "id": "64979ba9",
   "metadata": {},
   "outputs": [],
   "source": [
    " con.commit;"
   ]
  },
  {
   "cell_type": "code",
   "execution_count": null,
   "id": "da7cc06d",
   "metadata": {},
   "outputs": [],
   "source": [
    "results=cur.execute(\"select * from employee1\")\n",
    "results.fetchall()"
   ]
  },
  {
   "cell_type": "markdown",
   "id": "f2e305dd",
   "metadata": {},
   "source": [
    "we can also pass  values/arguments to an INSERT statement in the execute() method. you can use the question mark(?)\n",
    "as a placeholder for each value. The syntax of the insert  will be like the following:"
   ]
  },
  {
   "cell_type": "markdown",
   "id": "f41f76e0",
   "metadata": {},
   "source": [
    "cur.execute(''' insert into employee(id,name,salary,department,position,hiredate)\n",
    "values(?,?,?,?,?,?,?)''',entities)\n",
    "\n",
    "entities=(2,'John',4000,'IT','Engineer','2020-04-01)"
   ]
  },
  {
   "cell_type": "code",
   "execution_count": null,
   "id": "802286bb",
   "metadata": {},
   "outputs": [],
   "source": [
    "def sql_insert(con,entities):\n",
    "    cur=con.cursor()\n",
    "    cur.execute('insert into employee1(id,name,salary,department,position,hiredate) values(?,?,?,?,?,?)',entities)"
   ]
  },
  {
   "cell_type": "code",
   "execution_count": null,
   "id": "356ef6ec",
   "metadata": {},
   "outputs": [],
   "source": [
    "entities=(2,'Kia',7000,'IT','Engineer','2000-05-01')"
   ]
  },
  {
   "cell_type": "code",
   "execution_count": null,
   "id": "84490314",
   "metadata": {},
   "outputs": [],
   "source": [
    "# calling sql insert to insert the data\n",
    "sql_insert(con,entities)"
   ]
  },
  {
   "cell_type": "code",
   "execution_count": null,
   "id": "f50cfe94",
   "metadata": {},
   "outputs": [],
   "source": [
    "entities=(3,'Thomas',6000,'HR','Manager','2016-03-03')"
   ]
  },
  {
   "cell_type": "code",
   "execution_count": null,
   "id": "2df5ada9",
   "metadata": {},
   "outputs": [],
   "source": [
    "sql_insert(con,entities)"
   ]
  },
  {
   "cell_type": "code",
   "execution_count": null,
   "id": "a42c56f2",
   "metadata": {},
   "outputs": [],
   "source": [
    "results=cur.execute(\"select  * from employee1\")\n",
    "results.fetchall()"
   ]
  },
  {
   "cell_type": "code",
   "execution_count": null,
   "id": "4c0a0fe0",
   "metadata": {},
   "outputs": [],
   "source": [
    "entities=(4,'Trump',15000,'Sales','ASM','2016-10-10')\n",
    "\n",
    "sql_insert(con,entities)\n",
    "\n",
    "entities=(5,'John',20000,'Admin','Manager','2018,06-09')\n",
    "\n",
    "sql_insert(con,entities)"
   ]
  },
  {
   "cell_type": "code",
   "execution_count": null,
   "id": "f28e8412",
   "metadata": {},
   "outputs": [],
   "source": [
    "results=cur.execute(\"select * from employee1\")\n",
    "results.fetchall()"
   ]
  },
  {
   "cell_type": "code",
   "execution_count": null,
   "id": "dd316368",
   "metadata": {},
   "outputs": [],
   "source": [
    "def sql_update(con):\n",
    "    cur=con.cursor()\n",
    "    cur.execute('update employee1 set name =\"Martin\" where id=2')\n",
    "    con.commit()"
   ]
  },
  {
   "cell_type": "code",
   "execution_count": null,
   "id": "760e36a7",
   "metadata": {},
   "outputs": [],
   "source": [
    "sql_update(con)"
   ]
  },
  {
   "cell_type": "code",
   "execution_count": null,
   "id": "577646b3",
   "metadata": {},
   "outputs": [],
   "source": [
    "results=cur.execute(\"select * from employee1\")\n",
    "results.fetchall()"
   ]
  },
  {
   "cell_type": "code",
   "execution_count": null,
   "id": "4a00f754",
   "metadata": {},
   "outputs": [],
   "source": [
    "results=cur.execute(\"Select id,name from employee1\")\n",
    "results.fetchall()"
   ]
  },
  {
   "cell_type": "code",
   "execution_count": null,
   "id": "4fbe8a18",
   "metadata": {},
   "outputs": [],
   "source": [
    "results=cur.execute(\"Select id,name from employee1 where salary > 8000\")\n",
    "results.fetchall()"
   ]
  },
  {
   "cell_type": "code",
   "execution_count": null,
   "id": "897c0cf3",
   "metadata": {},
   "outputs": [],
   "source": [
    "results=cur.execute(\"Select id,name from employee1 where department in('HR')\")\n",
    "results.fetchall()"
   ]
  },
  {
   "cell_type": "code",
   "execution_count": null,
   "id": "29436d85",
   "metadata": {},
   "outputs": [],
   "source": [
    "results=cur.execute(\"Select min(salary) from employee1\")\n",
    "results.fetchall()"
   ]
  },
  {
   "cell_type": "code",
   "execution_count": null,
   "id": "63f8231f",
   "metadata": {},
   "outputs": [],
   "source": [
    "results=cur.execute(\"Select count(id) from employee1\")\n",
    "results.fetchall()"
   ]
  },
  {
   "cell_type": "code",
   "execution_count": null,
   "id": "1ecc49e5",
   "metadata": {},
   "outputs": [],
   "source": [
    "results=cur.execute(\"Select distinct(department) from employee1\")\n",
    "results.fetchall()"
   ]
  },
  {
   "cell_type": "code",
   "execution_count": null,
   "id": "d45ae033",
   "metadata": {},
   "outputs": [],
   "source": [
    "results=cur.execute(\"Select count(distinct(department)) from employee1\")\n",
    "results.fetchall()"
   ]
  },
  {
   "cell_type": "code",
   "execution_count": null,
   "id": "acef1fc0",
   "metadata": {},
   "outputs": [],
   "source": [
    "results=cur.execute(\"Select sum(salary), position from employee1 group by position\")\n",
    "results.fetchall()"
   ]
  },
  {
   "cell_type": "code",
   "execution_count": null,
   "id": "54ddce0f",
   "metadata": {},
   "outputs": [],
   "source": [
    "results=cur.execute(\"Select sum(salary),department from employee1 group by department\")\n",
    "results.fetchall()"
   ]
  },
  {
   "cell_type": "code",
   "execution_count": null,
   "id": "e7ea1daf",
   "metadata": {},
   "outputs": [],
   "source": [
    "def sql_query(sql):\n",
    "    cur=con.cursor()\n",
    "    results=cur.execute(sql)\n",
    "    return results"
   ]
  },
  {
   "cell_type": "code",
   "execution_count": null,
   "id": "aec28238",
   "metadata": {},
   "outputs": [],
   "source": [
    "# make query\n",
    "sql=\"select * from employee1\"\n",
    "\n",
    "#pass query in function\n",
    "respond=sql_query(sql)\n",
    "respond.fetchall()"
   ]
  },
  {
   "cell_type": "code",
   "execution_count": null,
   "id": "56c29cd4",
   "metadata": {
    "scrolled": false
   },
   "outputs": [],
   "source": [
    "sql=\"select id, name, position from employee1\"\n",
    "#pass query is function\n",
    "respond=sql_query(sql)\n",
    "respond.fetchall()"
   ]
  },
  {
   "cell_type": "markdown",
   "id": "a5967a27",
   "metadata": {},
   "source": [
    "# SQLite3 Executemany (Bulk insert)"
   ]
  },
  {
   "cell_type": "markdown",
   "id": "02397b29",
   "metadata": {},
   "source": [
    "we can use the executemany statement to insert multiple rows at once."
   ]
  },
  {
   "cell_type": "code",
   "execution_count": null,
   "id": "a8b450db",
   "metadata": {},
   "outputs": [],
   "source": [
    "entities=[(6,'Joseph',4000,'Account','CA','2002-10-10'),(7,'Maria',10000,'Research','Executive','2020-02-02')]"
   ]
  },
  {
   "cell_type": "code",
   "execution_count": null,
   "id": "d0cd7284",
   "metadata": {},
   "outputs": [],
   "source": [
    "cur.executemany('insert into employee1(id,name,salary,department,position,hiredate) values(?,?,?,?,?,?)',entities)"
   ]
  },
  {
   "cell_type": "code",
   "execution_count": null,
   "id": "5c4b8684",
   "metadata": {},
   "outputs": [],
   "source": [
    "results=cur.execute(\"select * from employee1\")\n",
    "for row in results:\n",
    "    print(row)"
   ]
  },
  {
   "cell_type": "code",
   "execution_count": null,
   "id": "1d1e6bf2",
   "metadata": {},
   "outputs": [],
   "source": [
    "con.close()"
   ]
  },
  {
   "cell_type": "markdown",
   "id": "b10f72a9",
   "metadata": {},
   "source": [
    "# Exercise 3 SQLite # Referential Integrity"
   ]
  },
  {
   "cell_type": "code",
   "execution_count": 9,
   "id": "f5c7f938",
   "metadata": {},
   "outputs": [],
   "source": [
    "import sqlite3"
   ]
  },
  {
   "cell_type": "code",
   "execution_count": 6,
   "id": "fbab150f",
   "metadata": {},
   "outputs": [
    {
     "ename": "OperationalError",
     "evalue": "unable to open database file",
     "output_type": "error",
     "traceback": [
      "\u001b[1;31m---------------------------------------------------------------------------\u001b[0m",
      "\u001b[1;31mOperationalError\u001b[0m                          Traceback (most recent call last)",
      "\u001b[1;32mC:\\Users\\RANJAN~1\\AppData\\Local\\Temp/ipykernel_14088/2067680864.py\u001b[0m in \u001b[0;36m<module>\u001b[1;34m\u001b[0m\n\u001b[1;32m----> 1\u001b[1;33m \u001b[0mdb\u001b[0m\u001b[1;33m=\u001b[0m\u001b[0msqlite3\u001b[0m\u001b[1;33m.\u001b[0m\u001b[0mconnect\u001b[0m\u001b[1;33m(\u001b[0m\u001b[1;34m\"C:/MySQLite_DataBase/student_course_database.db\"\u001b[0m\u001b[1;33m)\u001b[0m\u001b[1;33m\u001b[0m\u001b[1;33m\u001b[0m\u001b[0m\n\u001b[0m",
      "\u001b[1;31mOperationalError\u001b[0m: unable to open database file"
     ]
    }
   ],
   "source": [
    "db=sqlite3.connect(\"C:/MySQLite_DataBase/student_course_database.db\")"
   ]
  },
  {
   "cell_type": "code",
   "execution_count": 10,
   "id": "01fd4c29",
   "metadata": {},
   "outputs": [],
   "source": [
    "db=sqlite3.connect(\"student_course2_database.db\")"
   ]
  },
  {
   "cell_type": "code",
   "execution_count": 11,
   "id": "4f9764d7",
   "metadata": {},
   "outputs": [],
   "source": [
    "cur=db.cursor()"
   ]
  },
  {
   "cell_type": "markdown",
   "id": "170559bb",
   "metadata": {},
   "source": [
    "constraints ------\n",
    "unique ---- enter only unique values, no duplicate values\n",
    "no null --- no blank values can be inserted in table"
   ]
  },
  {
   "cell_type": "code",
   "execution_count": 12,
   "id": "1b93aec3",
   "metadata": {},
   "outputs": [
    {
     "data": {
      "text/plain": [
       "<sqlite3.Cursor at 0x10949c27dc0>"
      ]
     },
     "execution_count": 12,
     "metadata": {},
     "output_type": "execute_result"
    }
   ],
   "source": [
    "cur.execute(\"create table course4(courseid int primary key,coursename text,durition int)\")"
   ]
  },
  {
   "cell_type": "code",
   "execution_count": 13,
   "id": "e01810d7",
   "metadata": {},
   "outputs": [
    {
     "ename": "OperationalError",
     "evalue": "table student1 already exists",
     "output_type": "error",
     "traceback": [
      "\u001b[1;31m---------------------------------------------------------------------------\u001b[0m",
      "\u001b[1;31mOperationalError\u001b[0m                          Traceback (most recent call last)",
      "\u001b[1;32mC:\\Users\\RANJAN~1\\AppData\\Local\\Temp/ipykernel_8916/384557160.py\u001b[0m in \u001b[0;36m<module>\u001b[1;34m\u001b[0m\n\u001b[1;32m----> 1\u001b[1;33m \u001b[0mcur\u001b[0m\u001b[1;33m.\u001b[0m\u001b[0mexecute\u001b[0m\u001b[1;33m(\u001b[0m\u001b[1;34m\"create table student1 (roll_no int primary key, studentname text,age int,courseid int,foreign key(courseid) references course(courseid))\"\u001b[0m\u001b[1;33m)\u001b[0m\u001b[1;33m\u001b[0m\u001b[1;33m\u001b[0m\u001b[0m\n\u001b[0m",
      "\u001b[1;31mOperationalError\u001b[0m: table student1 already exists"
     ]
    }
   ],
   "source": [
    "cur.execute(\"create table student1 (roll_no int primary key, studentname text,age int,courseid int,foreign key(courseid) references course(courseid))\")"
   ]
  },
  {
   "cell_type": "code",
   "execution_count": 14,
   "id": "be9dfe91",
   "metadata": {},
   "outputs": [
    {
     "name": "stdout",
     "output_type": "stream",
     "text": [
      "3 record(s) inserted\n"
     ]
    }
   ],
   "source": [
    "cur.execute(\"insert into course4 values(78,'Data Science',12),(56,'Python',4),(101,'Database',7)\")\n",
    "print(cur.rowcount,\"record(s) inserted\")\n",
    "db.commit;"
   ]
  },
  {
   "cell_type": "code",
   "execution_count": 15,
   "id": "efd19672",
   "metadata": {},
   "outputs": [
    {
     "name": "stdout",
     "output_type": "stream",
     "text": [
      "4 record(s) inserted\n"
     ]
    }
   ],
   "source": [
    "cur.execute(\"insert into student1 values(1,'jack',20,78),(2,'John',25,56),(3,'Andrew',30,101),(4,'Kia',35,78)\")\n",
    "print(cur.rowcount,\"record(s) inserted\")\n",
    "db.commit;"
   ]
  },
  {
   "cell_type": "code",
   "execution_count": 30,
   "id": "5faf41af",
   "metadata": {},
   "outputs": [
    {
     "name": "stdout",
     "output_type": "stream",
     "text": [
      "(78, 'Data Science', 12)\n",
      "(56, 'Python', 4)\n",
      "(101, 'Database', 7)\n"
     ]
    }
   ],
   "source": [
    "results=cur.execute('select * from course4')\n",
    "for row in results:\n",
    "    print(row)"
   ]
  },
  {
   "cell_type": "code",
   "execution_count": 12,
   "id": "59f40282",
   "metadata": {},
   "outputs": [
    {
     "data": {
      "text/plain": [
       "[(1, 'jack', 20, 78),\n",
       " (2, 'John', 25, 56),\n",
       " (3, 'Andrew', 30, 101),\n",
       " (4, 'Kia', 35, 78)]"
      ]
     },
     "execution_count": 12,
     "metadata": {},
     "output_type": "execute_result"
    }
   ],
   "source": [
    "results=cur.execute('select * from student1')\n",
    "results.fetchall()"
   ]
  },
  {
   "cell_type": "code",
   "execution_count": 31,
   "id": "7fd8fd4e",
   "metadata": {},
   "outputs": [
    {
     "name": "stdout",
     "output_type": "stream",
     "text": [
      "(56,)\n"
     ]
    }
   ],
   "source": [
    "results=cur.execute('select courseid from course4 where coursename=\"Python\"')\n",
    "\n",
    "for i in results:\n",
    "    print(i)"
   ]
  },
  {
   "cell_type": "markdown",
   "id": "e93a9e88",
   "metadata": {},
   "source": [
    "# Subquery"
   ]
  },
  {
   "cell_type": "code",
   "execution_count": 33,
   "id": "279cf271",
   "metadata": {},
   "outputs": [
    {
     "data": {
      "text/plain": [
       "[(1, 'jack', 20, 78), (4, 'Kia', 35, 78)]"
      ]
     },
     "execution_count": 33,
     "metadata": {},
     "output_type": "execute_result"
    }
   ],
   "source": [
    "results=cur.execute('select * from student1 where courseid=(select courseid from course4 where coursename =\"Data Science\")')\n",
    "results.fetchall()"
   ]
  },
  {
   "cell_type": "code",
   "execution_count": 34,
   "id": "eb7d128e",
   "metadata": {},
   "outputs": [
    {
     "data": {
      "text/plain": [
       "[(2, 'John', 25, 56)]"
      ]
     },
     "execution_count": 34,
     "metadata": {},
     "output_type": "execute_result"
    }
   ],
   "source": [
    "results=cur.execute('select * from student1 where courseid=(select courseid from course4 where coursename =\"Python\")')\n",
    "results.fetchall()"
   ]
  },
  {
   "attachments": {
    "Join.PNG": {
     "image/png": "[encoded data removed]"
    }
   },
   "cell_type": "markdown",
   "id": "32834b8c",
   "metadata": {},
   "source": [
    "![Join.PNG](attachment:Join.PNG)"
   ]
  },
  {
   "cell_type": "markdown",
   "id": "971b17f6",
   "metadata": {},
   "source": [
    "# INNER JOIN"
   ]
  },
  {
   "cell_type": "code",
   "execution_count": 16,
   "id": "7d6d53be",
   "metadata": {},
   "outputs": [
    {
     "name": "stdout",
     "output_type": "stream",
     "text": [
      "(1, 'jack', 78, 'Data Science')\n",
      "(2, 'John', 56, 'Python')\n",
      "(3, 'Andrew', 101, 'Database')\n",
      "(4, 'Kia', 78, 'Data Science')\n"
     ]
    }
   ],
   "source": [
    "sql=\"select student1.roll_no,student1.studentname,course4.courseid,course4.coursename from student1 INNER JOIN course4 on student1.courseid = course4.courseid\"\n",
    "results=cur.execute(sql)\n",
    "for row in results:\n",
    "    print(row)"
   ]
  },
  {
   "cell_type": "markdown",
   "id": "6cc1b8c4",
   "metadata": {},
   "source": [
    "# LEFT JOIN"
   ]
  },
  {
   "cell_type": "code",
   "execution_count": 19,
   "id": "aa947f98",
   "metadata": {},
   "outputs": [
    {
     "name": "stdout",
     "output_type": "stream",
     "text": [
      "(1, 'jack', 78, 'Data Science')\n",
      "(2, 'John', 56, 'Python')\n",
      "(3, 'Andrew', 101, 'Database')\n",
      "(4, 'Kia', 78, 'Data Science')\n"
     ]
    }
   ],
   "source": [
    "sql=\"select student1.roll_no,student1.studentname,course4.courseid,course4.coursename from student1 left join course4 on student1.courseid = course4.courseid\"\n",
    "results=cur.execute(sql)\n",
    "for row in results:\n",
    "    print(row)"
   ]
  },
  {
   "cell_type": "code",
   "execution_count": 20,
   "id": "1de9bcf9",
   "metadata": {},
   "outputs": [
    {
     "name": "stdout",
     "output_type": "stream",
     "text": [
      "(1, 'jack', 78, 'Data Science')\n",
      "(4, 'Kia', 78, 'Data Science')\n",
      "(2, 'John', 56, 'Python')\n",
      "(3, 'Andrew', 101, 'Database')\n"
     ]
    }
   ],
   "source": [
    "sql=\"select student1.roll_no,student1.studentname,course4.courseid,course4.coursename from course4 left join student1 on student1.courseid = course4.courseid\"\n",
    "results=cur.execute(sql)\n",
    "for row in results:\n",
    "    print(row)"
   ]
  },
  {
   "cell_type": "markdown",
   "id": "85acb675",
   "metadata": {},
   "source": [
    "RIGHT JOIN AND FULL OUTER JOIN NOT SUPPORTED IN SQLITE"
   ]
  },
  {
   "cell_type": "code",
   "execution_count": null,
   "id": "db857baa",
   "metadata": {},
   "outputs": [],
   "source": []
  }
 ],
 "metadata": {
  "kernelspec": {
   "display_name": "Python 3 (ipykernel)",
   "language": "python",
   "name": "python3"
  },
  "language_info": {
   "codemirror_mode": {
    "name": "ipython",
    "version": 3
   },
   "file_extension": ".py",
   "mimetype": "text/x-python",
   "name": "python",
   "nbconvert_exporter": "python",
   "pygments_lexer": "ipython3",
   "version": "3.9.7"
  }
 },
 "nbformat": 4,
 "nbformat_minor": 5
}
