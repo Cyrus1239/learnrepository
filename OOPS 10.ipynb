{
 "cells": [
  {
   "cell_type": "code",
   "execution_count": 1,
   "id": "136f63d6",
   "metadata": {},
   "outputs": [],
   "source": [
    "class Student:\n",
    "    # intialization/constructor\n",
    "    def __init__(self,sid,sname):                          # instance variable\n",
    "        self.sid=sid\n",
    "        self.sname=sname\n",
    "        \n",
    "        #member function\n",
    "    def display(self):\n",
    "        print('Student id=',self.sid,'student name=',self.sname)"
   ]
  },
  {
   "cell_type": "code",
   "execution_count": 2,
   "id": "f0a98bab",
   "metadata": {},
   "outputs": [
    {
     "name": "stdout",
     "output_type": "stream",
     "text": [
      "Student id= 101 student name= Ranjan\n"
     ]
    }
   ],
   "source": [
    "#object/instance creation\n",
    "\n",
    "stud1=Student(101,'Ranjan')\n",
    "stud1.display()"
   ]
  },
  {
   "cell_type": "code",
   "execution_count": 3,
   "id": "4f9a7e9a",
   "metadata": {},
   "outputs": [
    {
     "name": "stdout",
     "output_type": "stream",
     "text": [
      "Student id= 102 student name= Andrew\n"
     ]
    }
   ],
   "source": [
    "stud2=Student(102,'Andrew')\n",
    "stud2.display()"
   ]
  },
  {
   "cell_type": "code",
   "execution_count": 4,
   "id": "a8ae7b20",
   "metadata": {},
   "outputs": [
    {
     "data": {
      "text/plain": [
       "101"
      ]
     },
     "execution_count": 4,
     "metadata": {},
     "output_type": "execute_result"
    }
   ],
   "source": [
    "stud1.sid"
   ]
  },
  {
   "cell_type": "code",
   "execution_count": 5,
   "id": "506b8145",
   "metadata": {},
   "outputs": [
    {
     "data": {
      "text/plain": [
       "'Ranjan'"
      ]
     },
     "execution_count": 5,
     "metadata": {},
     "output_type": "execute_result"
    }
   ],
   "source": [
    "stud1.sname"
   ]
  },
  {
   "cell_type": "code",
   "execution_count": 6,
   "id": "a99057ce",
   "metadata": {},
   "outputs": [
    {
     "data": {
      "text/plain": [
       "102"
      ]
     },
     "execution_count": 6,
     "metadata": {},
     "output_type": "execute_result"
    }
   ],
   "source": [
    "stud2.sid"
   ]
  },
  {
   "cell_type": "code",
   "execution_count": 7,
   "id": "5529cc3a",
   "metadata": {},
   "outputs": [
    {
     "data": {
      "text/plain": [
       "'Andrew'"
      ]
     },
     "execution_count": 7,
     "metadata": {},
     "output_type": "execute_result"
    }
   ],
   "source": [
    "stud2.sname"
   ]
  },
  {
   "cell_type": "code",
   "execution_count": 8,
   "id": "6a3abe9b",
   "metadata": {},
   "outputs": [],
   "source": [
    "class Employee:\n",
    "    salary=9000        # class variable \n",
    "    def __init__(self,id,name,position):       # instance variable\n",
    "        self.id=id\n",
    "        self.name=name\n",
    "        self.position=position\n",
    "    \n",
    "    def display(self):\n",
    "        print('Employee id=',self.id,'Employee name=',self.name,'Employee Position=',self.position)\n",
    "    "
   ]
  },
  {
   "cell_type": "code",
   "execution_count": 9,
   "id": "6d9d8592",
   "metadata": {},
   "outputs": [
    {
     "name": "stdout",
     "output_type": "stream",
     "text": [
      "Employee id= 201 Employee name= Lisa Employee Position= Manager\n"
     ]
    }
   ],
   "source": [
    "emp1=Employee(201,'Lisa','Manager')\n",
    "emp1.display()"
   ]
  },
  {
   "cell_type": "code",
   "execution_count": 10,
   "id": "1f3d4a4e",
   "metadata": {},
   "outputs": [
    {
     "ename": "AttributeError",
     "evalue": "type object 'Employee' has no attribute 'id'",
     "output_type": "error",
     "traceback": [
      "\u001b[1;31m---------------------------------------------------------------------------\u001b[0m",
      "\u001b[1;31mAttributeError\u001b[0m                            Traceback (most recent call last)",
      "\u001b[1;32mC:\\Users\\RANJAN~1\\AppData\\Local\\Temp/ipykernel_2044/2190874008.py\u001b[0m in \u001b[0;36m<module>\u001b[1;34m\u001b[0m\n\u001b[0;32m      1\u001b[0m \u001b[1;31m# instance variable cannot be accessed with a class name\u001b[0m\u001b[1;33m\u001b[0m\u001b[1;33m\u001b[0m\u001b[0m\n\u001b[1;32m----> 2\u001b[1;33m \u001b[0mEmployee\u001b[0m\u001b[1;33m.\u001b[0m\u001b[0mid\u001b[0m\u001b[1;33m\u001b[0m\u001b[1;33m\u001b[0m\u001b[0m\n\u001b[0m",
      "\u001b[1;31mAttributeError\u001b[0m: type object 'Employee' has no attribute 'id'"
     ]
    }
   ],
   "source": [
    "# instance variable cannot be accessed with a class name\n",
    "Employee.id"
   ]
  },
  {
   "cell_type": "code",
   "execution_count": 11,
   "id": "5f2314c3",
   "metadata": {},
   "outputs": [
    {
     "data": {
      "text/plain": [
       "9000"
      ]
     },
     "execution_count": 11,
     "metadata": {},
     "output_type": "execute_result"
    }
   ],
   "source": [
    "# class variable\n",
    "Employee.salary"
   ]
  },
  {
   "cell_type": "code",
   "execution_count": 12,
   "id": "da568594",
   "metadata": {},
   "outputs": [],
   "source": [
    "class Student:\n",
    "    \n",
    "    fees=5000  # Class variable    ---->name/Grade----instance variabe\n",
    "    def __init__(self,name,grade):\n",
    "        self.name=name\n",
    "        self.grade=grade\n",
    "        \n",
    "    def display(self):\n",
    "        print('name:',self.name,'grade:',self.grade,'fees:',self.fees)"
   ]
  },
  {
   "cell_type": "code",
   "execution_count": 13,
   "id": "684cf4a2",
   "metadata": {},
   "outputs": [
    {
     "name": "stdout",
     "output_type": "stream",
     "text": [
      "name: Jack grade: A fees: 5000\n"
     ]
    }
   ],
   "source": [
    "Ram=Student('Jack','A')\n",
    "Ram.display()"
   ]
  },
  {
   "cell_type": "code",
   "execution_count": 14,
   "id": "65671fb7",
   "metadata": {},
   "outputs": [
    {
     "name": "stdout",
     "output_type": "stream",
     "text": [
      "ID= 101 Name is= Lucifer\n",
      "ID= 101 Name is= Jenifer\n"
     ]
    }
   ],
   "source": [
    "class person:\n",
    "    #constructor/intialization               Automatically called\n",
    "    def __init__(self,id,name):\n",
    "        self.id=id\n",
    "        self.name=name\n",
    "    def display(self):\n",
    "        print('ID=',self.id,'Name is=',self.name)\n",
    "        \n",
    "#instance/object\n",
    "p1=person(101,'Lucifer')\n",
    "p1.display()\n",
    "\n",
    "p2=person(101,'Jenifer')\n",
    "p2.display()\n",
    "    "
   ]
  },
  {
   "cell_type": "code",
   "execution_count": 17,
   "id": "2061b821",
   "metadata": {},
   "outputs": [],
   "source": [
    "class employee:\n",
    "    def __init__(self,name,age,id,salary):\n",
    "        self.name=name    #self is an instance of a class\n",
    "        self.age=age\n",
    "        self.id=id\n",
    "        self.salary=salary\n",
    "        \n",
    "    def display(self):\n",
    "        print('inside display function')\n",
    "        print(self.name,self.age,self.id,self.salary)\n",
    "    "
   ]
  },
  {
   "cell_type": "code",
   "execution_count": 18,
   "id": "9f2cb31f",
   "metadata": {},
   "outputs": [
    {
     "name": "stdout",
     "output_type": "stream",
     "text": [
      "inside display function\n",
      "Michle 30 200 100000\n",
      "inside display function\n",
      "Piter 25 400 200000\n"
     ]
    }
   ],
   "source": [
    "emp1=employee('Michle',30,200,100000)      #creating objects\n",
    "emp2=employee('Piter',25,400,200000)\n",
    "emp1.display()\n",
    "emp2.display()"
   ]
  },
  {
   "cell_type": "markdown",
   "id": "a2e1278b",
   "metadata": {},
   "source": [
    "TASK\n",
    "\n",
    "Create a class company.Declare 3 attributes name, location, number_of_employee. Now initialize the company class."
   ]
  },
  {
   "cell_type": "code",
   "execution_count": 19,
   "id": "43fbf6f3",
   "metadata": {},
   "outputs": [],
   "source": [
    "class company:\n",
    "    #class variable\n",
    "    revenue=8000000\n",
    "    \n",
    "    def __init__(self,Name,Location,Number_of_employee):\n",
    "        self.Name=Name\n",
    "        self.Location=Location\n",
    "        self.Number_of_employee=Number_of_employee\n",
    "    def display(self):\n",
    "        print('Company name=',self.Name,'Location=',self.Location,'Number of Employee=',self.Number_of_employee)\n"
   ]
  },
  {
   "cell_type": "code",
   "execution_count": 20,
   "id": "cffe319f",
   "metadata": {},
   "outputs": [
    {
     "name": "stdout",
     "output_type": "stream",
     "text": [
      "George\n",
      "London\n",
      "400\n",
      "Company name= George Location= London Number of Employee= 400\n"
     ]
    }
   ],
   "source": [
    "c=company('George','London',400)\n",
    "print(c.Name)\n",
    "print(c.Location)\n",
    "print(c.Number_of_employee)\n",
    "\n",
    "#accessing class variable\n",
    "\n",
    "company.revenue\n",
    "\n",
    "# company.name----------this is the instance variable---->it can be called by instance only\n",
    "c.display()"
   ]
  },
  {
   "cell_type": "code",
   "execution_count": 21,
   "id": "6ebf18bd",
   "metadata": {},
   "outputs": [
    {
     "name": "stdout",
     "output_type": "stream",
     "text": [
      "c= 8000000\n"
     ]
    }
   ],
   "source": [
    "print('c=',c.revenue)"
   ]
  },
  {
   "cell_type": "code",
   "execution_count": 22,
   "id": "c20d9578",
   "metadata": {},
   "outputs": [],
   "source": [
    "class car:\n",
    "# A simple class for cars\n",
    "\n",
    "# constructor to initialize\n",
    "\n",
    "    def __init__(self,company,color):\n",
    "        self.company=company\n",
    "        self.color=color\n",
    "# function to print car company and color\n",
    "\n",
    "    def display(self):\n",
    "        print('this is a',self.company, self.color)"
   ]
  },
  {
   "cell_type": "code",
   "execution_count": 23,
   "id": "5c25df7b",
   "metadata": {},
   "outputs": [],
   "source": [
    "def main():\n",
    "    c=car('Ferrari','Red')\n",
    "    c.display()"
   ]
  },
  {
   "cell_type": "code",
   "execution_count": 24,
   "id": "00ace84a",
   "metadata": {},
   "outputs": [
    {
     "name": "stdout",
     "output_type": "stream",
     "text": [
      "this is a Ferrari Red\n"
     ]
    }
   ],
   "source": [
    "if __name__==\"__main__\":      # Entry Point\n",
    "    main()\n"
   ]
  },
  {
   "cell_type": "code",
   "execution_count": 25,
   "id": "2b779653",
   "metadata": {},
   "outputs": [],
   "source": [
    "class Employee:\n",
    "    def __init__(self,age,name):\n",
    "        print('initialized method called')\n",
    "        self.age=age\n",
    "        self.name=name\n",
    "    def getdata(self,name,age):\n",
    "        print('getdata method called')\n",
    "        self.name=name\n",
    "        self.age=age\n",
    "    def displaydata(self):\n",
    "        print('hello',self.age,self.name)"
   ]
  },
  {
   "cell_type": "code",
   "execution_count": 26,
   "id": "2f699424",
   "metadata": {},
   "outputs": [],
   "source": [
    "def main():\n",
    "    e=Employee('Cherry',20)     # here initialize will work\n",
    "    e.displaydata()\n",
    "    \n",
    "    e.getdata('John',30)\n",
    "    e.displaydata()"
   ]
  },
  {
   "cell_type": "code",
   "execution_count": 27,
   "id": "c7690f57",
   "metadata": {},
   "outputs": [
    {
     "name": "stdout",
     "output_type": "stream",
     "text": [
      "initialized method called\n",
      "hello Cherry 20\n",
      "getdata method called\n",
      "hello 30 John\n"
     ]
    }
   ],
   "source": [
    "if __name__==\"__main__\":\n",
    "    main()"
   ]
  },
  {
   "cell_type": "markdown",
   "id": "3a5003a0",
   "metadata": {},
   "source": [
    "# Create a player class with name, age, sport associated with player"
   ]
  },
  {
   "cell_type": "code",
   "execution_count": 38,
   "id": "b87c0284",
   "metadata": {},
   "outputs": [
    {
     "name": "stdout",
     "output_type": "stream",
     "text": [
      "Initialize data for players\n",
      "players details: Virat 35 Cricket\n",
      "Getting data for players\n",
      "players details: Ronaldo 35 Football\n",
      "Initialize data for players\n",
      "players details: Dhoni 40 Cricket\n",
      "Getting data for players\n",
      "players details: Rahul 30 Cricket\n"
     ]
    }
   ],
   "source": [
    "class player:\n",
    "    def __init__(self,name,age,sport):\n",
    "        print('Initialize data for players')\n",
    "        self.name=name\n",
    "        self.age=age\n",
    "        self.sport=sport\n",
    "        \n",
    "    def getdata(self,name,age,sport):\n",
    "        print('Getting data for players')\n",
    "        self.name=name\n",
    "        self.age=age\n",
    "        self.sport=sport\n",
    "    def displaydata(self):\n",
    "        print('players details:',self.name,self.age,self.sport)\n",
    "        \n",
    "def main():\n",
    "    p1=player('Virat',35,'Cricket')\n",
    "    p1.displaydata()\n",
    "        \n",
    "    p1.getdata('Ronaldo',35,'Football')\n",
    "    p1.displaydata()\n",
    "        \n",
    "    p2=player('Dhoni',40,'Cricket')\n",
    "    p2.displaydata()\n",
    "        \n",
    "    p2.getdata('Rahul',30,'Cricket')\n",
    "    p2.displaydata()\n",
    "        \n",
    "        \n",
    "if __name__==\"__main__\":\n",
    "    main()"
   ]
  },
  {
   "cell_type": "code",
   "execution_count": null,
   "id": "022093df",
   "metadata": {},
   "outputs": [],
   "source": []
  },
  {
   "cell_type": "code",
   "execution_count": null,
   "id": "2d2995e5",
   "metadata": {},
   "outputs": [],
   "source": []
  }
 ],
 "metadata": {
  "kernelspec": {
   "display_name": "Python 3 (ipykernel)",
   "language": "python",
   "name": "python3"
  },
  "language_info": {
   "codemirror_mode": {
    "name": "ipython",
    "version": 3
   },
   "file_extension": ".py",
   "mimetype": "text/x-python",
   "name": "python",
   "nbconvert_exporter": "python",
   "pygments_lexer": "ipython3",
   "version": "3.9.7"
  }
 },
 "nbformat": 4,
 "nbformat_minor": 5
}
