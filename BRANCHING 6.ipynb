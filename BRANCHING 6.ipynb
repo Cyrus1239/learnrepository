{
 "cells": [
  {
   "cell_type": "markdown",
   "id": "e3cd74d6",
   "metadata": {},
   "source": [
    "# IF - ELSE"
   ]
  },
  {
   "cell_type": "code",
   "execution_count": 2,
   "id": "16165cc7",
   "metadata": {},
   "outputs": [
    {
     "name": "stdout",
     "output_type": "stream",
     "text": [
      "print it\n"
     ]
    }
   ],
   "source": [
    "a=330\n",
    "b=330\n",
    "print('A') if a>b else print('print it') if a==b else print('B')"
   ]
  },
  {
   "cell_type": "code",
   "execution_count": 4,
   "id": "2f70d86c",
   "metadata": {},
   "outputs": [
    {
     "name": "stdout",
     "output_type": "stream",
     "text": [
      "Marks Good\n"
     ]
    }
   ],
   "source": [
    "Marks=90\n",
    "if Marks>50:\n",
    "    print('Marks Good')\n",
    "else:\n",
    "    print('Fair')\n"
   ]
  },
  {
   "cell_type": "code",
   "execution_count": 9,
   "id": "646c5dca",
   "metadata": {},
   "outputs": [
    {
     "name": "stdout",
     "output_type": "stream",
     "text": [
      "Enter any Marks90\n",
      "Excellent\n"
     ]
    }
   ],
   "source": [
    "Marks=int(input('Enter any Marks'))\n",
    "if Marks>50:\n",
    "    print('Excellent')\n",
    "else:\n",
    "        print('Not Good')"
   ]
  },
  {
   "cell_type": "code",
   "execution_count": 11,
   "id": "eb085cd2",
   "metadata": {},
   "outputs": [
    {
     "name": "stdout",
     "output_type": "stream",
     "text": [
      "Enter any number18\n",
      "The number is even\n"
     ]
    }
   ],
   "source": [
    "x=int(input('Enter any number'))\n",
    "if x%2==0:\n",
    "    print('The number is even')\n",
    "else:\n",
    "    print('The number is odd')"
   ]
  },
  {
   "cell_type": "code",
   "execution_count": 14,
   "id": "3daeab05",
   "metadata": {},
   "outputs": [
    {
     "name": "stdout",
     "output_type": "stream",
     "text": [
      "Enter any number8\n",
      "The number is even\n",
      "End\n"
     ]
    }
   ],
   "source": [
    "#End function with else\n",
    "\n",
    "y=int(input('Enter any number'))\n",
    "if y%2!=0:\n",
    "    print('The number is odd')\n",
    "else:   \n",
    "    print('The number is even')\n",
    "    print('End')"
   ]
  },
  {
   "cell_type": "code",
   "execution_count": 17,
   "id": "f8dcaa5b",
   "metadata": {},
   "outputs": [
    {
     "name": "stdout",
     "output_type": "stream",
     "text": [
      "Enter any number9\n",
      "The number is odd\n"
     ]
    }
   ],
   "source": [
    "#End function without else\n",
    "\n",
    "y=int(input('Enter any number'))\n",
    "if y%2!=0:\n",
    "    print('The number is odd')\n",
    "else:   \n",
    "    print('The number is even')\n",
    "    print('End')"
   ]
  },
  {
   "cell_type": "code",
   "execution_count": 16,
   "id": "6dde6bb9",
   "metadata": {},
   "outputs": [
    {
     "name": "stdout",
     "output_type": "stream",
     "text": [
      "Enter any number9\n",
      "The number is odd\n",
      "End\n"
     ]
    }
   ],
   "source": [
    "# End function working with else and if\n",
    "\n",
    "y=int(input('Enter any number'))\n",
    "if y%2!=0:\n",
    "    print('The number is odd')\n",
    "else:\n",
    "    print('The number is even')\n",
    "    \n",
    "print('End')"
   ]
  },
  {
   "cell_type": "code",
   "execution_count": 18,
   "id": "740dda6e",
   "metadata": {},
   "outputs": [
    {
     "name": "stdout",
     "output_type": "stream",
     "text": [
      "Enter value8\n",
      "value of k is 8 Even number\n"
     ]
    }
   ],
   "source": [
    "k=int(input('Enter value'))\n",
    "if k%2==0:\n",
    "    print('value of k is',k,'Even number')\n",
    "else:   \n",
    "    print('value of k is',k,'Odd number')"
   ]
  },
  {
   "cell_type": "code",
   "execution_count": 15,
   "id": "49cc2471",
   "metadata": {},
   "outputs": [
    {
     "name": "stdout",
     "output_type": "stream",
     "text": [
      "Enter any Marks of student99\n",
      "Excellent\n"
     ]
    }
   ],
   "source": [
    "# elif\n",
    "Marks=int(input('Enter any Marks of student'))\n",
    "if Marks>90:\n",
    "    print('Excellent')\n",
    "elif(Marks>=80 and Marks<90):\n",
    "    print('very good')\n",
    "elif(Marks>=70 and Marks<80):\n",
    "    print('Good')\n",
    "elif(Marks>=60 and Marks<70):\n",
    "    print('Average')\n",
    "elif(Marks>=50 and Marks<60):\n",
    "    print('Below and Average')\n",
    "\n",
    "else:\n",
    "    print('Poor')\n",
    "\n",
    "\n",
    "        "
   ]
  },
  {
   "cell_type": "code",
   "execution_count": 16,
   "id": "1f4e4cc9",
   "metadata": {},
   "outputs": [
    {
     "name": "stdout",
     "output_type": "stream",
     "text": [
      "i is 20\n"
     ]
    }
   ],
   "source": [
    "i=20\n",
    "if (i==10):\n",
    "    print('i is 10')\n",
    "elif(i==15):\n",
    "    print('i is 15')\n",
    "elif(i==20):\n",
    "    print('i is 20')\n",
    "else:\n",
    "    print('i is not present')"
   ]
  },
  {
   "cell_type": "code",
   "execution_count": null,
   "id": "886dae93",
   "metadata": {},
   "outputs": [],
   "source": []
  }
 ],
 "metadata": {
  "kernelspec": {
   "display_name": "Python 3 (ipykernel)",
   "language": "python",
   "name": "python3"
  },
  "language_info": {
   "codemirror_mode": {
    "name": "ipython",
    "version": 3
   },
   "file_extension": ".py",
   "mimetype": "text/x-python",
   "name": "python",
   "nbconvert_exporter": "python",
   "pygments_lexer": "ipython3",
   "version": "3.9.7"
  }
 },
 "nbformat": 4,
 "nbformat_minor": 5
}
