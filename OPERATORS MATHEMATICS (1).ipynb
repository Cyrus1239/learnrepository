{
 "cells": [
  {
   "cell_type": "markdown",
   "id": "6a4b4556",
   "metadata": {},
   "source": [
    "# PYTHON IS A EASY AND OPEN SOURCE LANGUAGE"
   ]
  },
  {
   "cell_type": "markdown",
   "id": "78c3a863",
   "metadata": {},
   "source": [
    "# LEARNING PYTHON BASICS"
   ]
  },
  {
   "cell_type": "markdown",
   "id": "b2dbf833",
   "metadata": {},
   "source": [
    "OPERATORS"
   ]
  },
  {
   "cell_type": "code",
   "execution_count": 1,
   "id": "207629c0",
   "metadata": {},
   "outputs": [
    {
     "data": {
      "text/plain": [
       "2"
      ]
     },
     "execution_count": 1,
     "metadata": {},
     "output_type": "execute_result"
    }
   ],
   "source": [
    "1+1"
   ]
  },
  {
   "cell_type": "code",
   "execution_count": 2,
   "id": "19b00270",
   "metadata": {},
   "outputs": [
    {
     "data": {
      "text/plain": [
       "1"
      ]
     },
     "execution_count": 2,
     "metadata": {},
     "output_type": "execute_result"
    }
   ],
   "source": [
    "2-1"
   ]
  },
  {
   "cell_type": "code",
   "execution_count": 3,
   "id": "48b6e8e1",
   "metadata": {},
   "outputs": [
    {
     "data": {
      "text/plain": [
       "14"
      ]
     },
     "execution_count": 3,
     "metadata": {},
     "output_type": "execute_result"
    }
   ],
   "source": [
    "7*2"
   ]
  },
  {
   "cell_type": "code",
   "execution_count": 4,
   "id": "99213305",
   "metadata": {},
   "outputs": [
    {
     "data": {
      "text/plain": [
       "5.0"
      ]
     },
     "execution_count": 4,
     "metadata": {},
     "output_type": "execute_result"
    }
   ],
   "source": [
    "10/2"
   ]
  },
  {
   "cell_type": "markdown",
   "id": "7cb7e10d",
   "metadata": {},
   "source": [
    "FLOOR DIVISIN"
   ]
  },
  {
   "cell_type": "code",
   "execution_count": 5,
   "id": "a5824a87",
   "metadata": {},
   "outputs": [
    {
     "data": {
      "text/plain": [
       "5"
      ]
     },
     "execution_count": 5,
     "metadata": {},
     "output_type": "execute_result"
    }
   ],
   "source": [
    "10//2"
   ]
  },
  {
   "cell_type": "markdown",
   "id": "587d6904",
   "metadata": {},
   "source": [
    "MODULUS OPERATOR"
   ]
  },
  {
   "cell_type": "code",
   "execution_count": 6,
   "id": "b7353155",
   "metadata": {},
   "outputs": [
    {
     "data": {
      "text/plain": [
       "0"
      ]
     },
     "execution_count": 6,
     "metadata": {},
     "output_type": "execute_result"
    }
   ],
   "source": [
    "10%2"
   ]
  },
  {
   "cell_type": "code",
   "execution_count": 7,
   "id": "401c2abc",
   "metadata": {},
   "outputs": [
    {
     "data": {
      "text/plain": [
       "0"
      ]
     },
     "execution_count": 7,
     "metadata": {},
     "output_type": "execute_result"
    }
   ],
   "source": [
    "20%2"
   ]
  },
  {
   "cell_type": "code",
   "execution_count": 8,
   "id": "444056b4",
   "metadata": {},
   "outputs": [
    {
     "data": {
      "text/plain": [
       "1"
      ]
     },
     "execution_count": 8,
     "metadata": {},
     "output_type": "execute_result"
    }
   ],
   "source": [
    "13%2"
   ]
  },
  {
   "cell_type": "code",
   "execution_count": 9,
   "id": "921fba2e",
   "metadata": {},
   "outputs": [
    {
     "data": {
      "text/plain": [
       "2"
      ]
     },
     "execution_count": 9,
     "metadata": {},
     "output_type": "execute_result"
    }
   ],
   "source": [
    "14%3"
   ]
  },
  {
   "cell_type": "markdown",
   "id": "4bd52abc",
   "metadata": {},
   "source": [
    "FIND A SQUARE"
   ]
  },
  {
   "cell_type": "code",
   "execution_count": 10,
   "id": "ccaee79b",
   "metadata": {},
   "outputs": [
    {
     "data": {
      "text/plain": [
       "4"
      ]
     },
     "execution_count": 10,
     "metadata": {},
     "output_type": "execute_result"
    }
   ],
   "source": [
    "2**2"
   ]
  },
  {
   "cell_type": "code",
   "execution_count": 11,
   "id": "986d7d11",
   "metadata": {},
   "outputs": [
    {
     "data": {
      "text/plain": [
       "256"
      ]
     },
     "execution_count": 11,
     "metadata": {},
     "output_type": "execute_result"
    }
   ],
   "source": [
    "4**4"
   ]
  },
  {
   "cell_type": "code",
   "execution_count": 12,
   "id": "654fa68a",
   "metadata": {},
   "outputs": [
    {
     "data": {
      "text/plain": [
       "9"
      ]
     },
     "execution_count": 12,
     "metadata": {},
     "output_type": "execute_result"
    }
   ],
   "source": [
    "3**2"
   ]
  },
  {
   "cell_type": "code",
   "execution_count": 13,
   "id": "3c6ab734",
   "metadata": {},
   "outputs": [
    {
     "data": {
      "text/plain": [
       "216"
      ]
     },
     "execution_count": 13,
     "metadata": {},
     "output_type": "execute_result"
    }
   ],
   "source": [
    "6**3"
   ]
  },
  {
   "cell_type": "code",
   "execution_count": 14,
   "id": "b41cae8a",
   "metadata": {},
   "outputs": [
    {
     "data": {
      "text/plain": [
       "343"
      ]
     },
     "execution_count": 14,
     "metadata": {},
     "output_type": "execute_result"
    }
   ],
   "source": [
    "7**3"
   ]
  },
  {
   "cell_type": "markdown",
   "id": "619d34dc",
   "metadata": {},
   "source": [
    "WORKINNG WITH VARIABLES"
   ]
  },
  {
   "cell_type": "code",
   "execution_count": 15,
   "id": "f472db10",
   "metadata": {},
   "outputs": [],
   "source": [
    "a=10"
   ]
  },
  {
   "cell_type": "code",
   "execution_count": 16,
   "id": "d1e7c33d",
   "metadata": {},
   "outputs": [
    {
     "data": {
      "text/plain": [
       "10"
      ]
     },
     "execution_count": 16,
     "metadata": {},
     "output_type": "execute_result"
    }
   ],
   "source": [
    "a"
   ]
  },
  {
   "cell_type": "code",
   "execution_count": 17,
   "id": "13f1f47c",
   "metadata": {},
   "outputs": [],
   "source": [
    "b=5"
   ]
  },
  {
   "cell_type": "code",
   "execution_count": 18,
   "id": "d2917788",
   "metadata": {},
   "outputs": [
    {
     "data": {
      "text/plain": [
       "5"
      ]
     },
     "execution_count": 18,
     "metadata": {},
     "output_type": "execute_result"
    }
   ],
   "source": [
    "b"
   ]
  },
  {
   "cell_type": "code",
   "execution_count": 19,
   "id": "15a3c052",
   "metadata": {},
   "outputs": [
    {
     "data": {
      "text/plain": [
       "50"
      ]
     },
     "execution_count": 19,
     "metadata": {},
     "output_type": "execute_result"
    }
   ],
   "source": [
    "a*b"
   ]
  },
  {
   "cell_type": "code",
   "execution_count": 20,
   "id": "9264453e",
   "metadata": {},
   "outputs": [
    {
     "data": {
      "text/plain": [
       "2.0"
      ]
     },
     "execution_count": 20,
     "metadata": {},
     "output_type": "execute_result"
    }
   ],
   "source": [
    "a/b"
   ]
  },
  {
   "cell_type": "code",
   "execution_count": 21,
   "id": "2f0ec67e",
   "metadata": {},
   "outputs": [],
   "source": [
    "c=a+b"
   ]
  },
  {
   "cell_type": "code",
   "execution_count": 22,
   "id": "2ff86355",
   "metadata": {},
   "outputs": [
    {
     "data": {
      "text/plain": [
       "15"
      ]
     },
     "execution_count": 22,
     "metadata": {},
     "output_type": "execute_result"
    }
   ],
   "source": [
    "c"
   ]
  },
  {
   "cell_type": "code",
   "execution_count": 23,
   "id": "3aa01b76",
   "metadata": {},
   "outputs": [
    {
     "name": "stdout",
     "output_type": "stream",
     "text": [
      "15\n"
     ]
    }
   ],
   "source": [
    "print(c)"
   ]
  },
  {
   "cell_type": "code",
   "execution_count": 24,
   "id": "7cccc4ff",
   "metadata": {},
   "outputs": [
    {
     "name": "stdout",
     "output_type": "stream",
     "text": [
      "c= 15\n"
     ]
    }
   ],
   "source": [
    "print(\"c=\",c)"
   ]
  },
  {
   "cell_type": "code",
   "execution_count": 25,
   "id": "0727b83f",
   "metadata": {},
   "outputs": [],
   "source": [
    "d=a-b"
   ]
  },
  {
   "cell_type": "code",
   "execution_count": 26,
   "id": "83eab798",
   "metadata": {},
   "outputs": [
    {
     "data": {
      "text/plain": [
       "5"
      ]
     },
     "execution_count": 26,
     "metadata": {},
     "output_type": "execute_result"
    }
   ],
   "source": [
    "d"
   ]
  },
  {
   "cell_type": "code",
   "execution_count": 27,
   "id": "893714af",
   "metadata": {},
   "outputs": [
    {
     "name": "stdout",
     "output_type": "stream",
     "text": [
      "5\n"
     ]
    }
   ],
   "source": [
    "print(d)"
   ]
  },
  {
   "cell_type": "code",
   "execution_count": 28,
   "id": "e0efbde0",
   "metadata": {},
   "outputs": [
    {
     "name": "stdout",
     "output_type": "stream",
     "text": [
      "the vale of d\n"
     ]
    }
   ],
   "source": [
    "print(\"the vale of d\")"
   ]
  },
  {
   "cell_type": "code",
   "execution_count": 29,
   "id": "f4433d38",
   "metadata": {},
   "outputs": [
    {
     "name": "stdout",
     "output_type": "stream",
     "text": [
      "the value of d= 5\n"
     ]
    }
   ],
   "source": [
    "print(\"the value of d=\",d)"
   ]
  },
  {
   "cell_type": "code",
   "execution_count": 30,
   "id": "70ff773d",
   "metadata": {},
   "outputs": [
    {
     "name": "stdout",
     "output_type": "stream",
     "text": [
      "d= 5\n"
     ]
    }
   ],
   "source": [
    "print(\"d=\",a-b)"
   ]
  },
  {
   "cell_type": "code",
   "execution_count": 31,
   "id": "3c049db0",
   "metadata": {},
   "outputs": [],
   "source": [
    "e=a*b"
   ]
  },
  {
   "cell_type": "code",
   "execution_count": 32,
   "id": "75367ac0",
   "metadata": {},
   "outputs": [
    {
     "data": {
      "text/plain": [
       "50"
      ]
     },
     "execution_count": 32,
     "metadata": {},
     "output_type": "execute_result"
    }
   ],
   "source": [
    "e"
   ]
  },
  {
   "cell_type": "code",
   "execution_count": 33,
   "id": "e479c3e1",
   "metadata": {},
   "outputs": [
    {
     "data": {
      "text/plain": [
       "3"
      ]
     },
     "execution_count": 33,
     "metadata": {},
     "output_type": "execute_result"
    }
   ],
   "source": [
    "len(\"ABC\")"
   ]
  },
  {
   "cell_type": "code",
   "execution_count": 34,
   "id": "34e49273",
   "metadata": {},
   "outputs": [
    {
     "data": {
      "text/plain": [
       "6"
      ]
     },
     "execution_count": 34,
     "metadata": {},
     "output_type": "execute_result"
    }
   ],
   "source": [
    "len(\"ranjan\")"
   ]
  },
  {
   "cell_type": "code",
   "execution_count": 35,
   "id": "343716c9",
   "metadata": {},
   "outputs": [],
   "source": [
    "city=\"NEWYORK\""
   ]
  },
  {
   "cell_type": "code",
   "execution_count": 36,
   "id": "2cf573fb",
   "metadata": {},
   "outputs": [
    {
     "data": {
      "text/plain": [
       "'NEWYORK'"
      ]
     },
     "execution_count": 36,
     "metadata": {},
     "output_type": "execute_result"
    }
   ],
   "source": [
    "city"
   ]
  },
  {
   "cell_type": "code",
   "execution_count": 37,
   "id": "dfa7fc4c",
   "metadata": {},
   "outputs": [
    {
     "data": {
      "text/plain": [
       "4"
      ]
     },
     "execution_count": 37,
     "metadata": {},
     "output_type": "execute_result"
    }
   ],
   "source": [
    "len(\"city\")"
   ]
  },
  {
   "cell_type": "code",
   "execution_count": 38,
   "id": "c0e066ea",
   "metadata": {},
   "outputs": [
    {
     "data": {
      "text/plain": [
       "7"
      ]
     },
     "execution_count": 38,
     "metadata": {},
     "output_type": "execute_result"
    }
   ],
   "source": [
    "len(\"NEWYORK\")"
   ]
  },
  {
   "cell_type": "code",
   "execution_count": 39,
   "id": "1783c651",
   "metadata": {},
   "outputs": [
    {
     "data": {
      "text/plain": [
       "7"
      ]
     },
     "execution_count": 39,
     "metadata": {},
     "output_type": "execute_result"
    }
   ],
   "source": [
    "len(city)"
   ]
  },
  {
   "cell_type": "code",
   "execution_count": 40,
   "id": "39baa166",
   "metadata": {},
   "outputs": [],
   "source": [
    "Name=\"Andrew\""
   ]
  },
  {
   "cell_type": "code",
   "execution_count": 41,
   "id": "0449b906",
   "metadata": {},
   "outputs": [
    {
     "data": {
      "text/plain": [
       "'Andrew'"
      ]
     },
     "execution_count": 41,
     "metadata": {},
     "output_type": "execute_result"
    }
   ],
   "source": [
    "Name"
   ]
  },
  {
   "cell_type": "code",
   "execution_count": 42,
   "id": "2c518d7c",
   "metadata": {},
   "outputs": [
    {
     "data": {
      "text/plain": [
       "3"
      ]
     },
     "execution_count": 42,
     "metadata": {},
     "output_type": "execute_result"
    }
   ],
   "source": [
    "len('abc')"
   ]
  },
  {
   "cell_type": "markdown",
   "id": "6d004c6f",
   "metadata": {},
   "source": [
    "Strig Cocatenation"
   ]
  },
  {
   "cell_type": "code",
   "execution_count": 43,
   "id": "27ab380e",
   "metadata": {},
   "outputs": [
    {
     "data": {
      "text/plain": [
       "8"
      ]
     },
     "execution_count": 43,
     "metadata": {},
     "output_type": "execute_result"
    }
   ],
   "source": [
    "4+4"
   ]
  },
  {
   "cell_type": "code",
   "execution_count": 44,
   "id": "2b071b43",
   "metadata": {},
   "outputs": [
    {
     "data": {
      "text/plain": [
       "'44'"
      ]
     },
     "execution_count": 44,
     "metadata": {},
     "output_type": "execute_result"
    }
   ],
   "source": [
    "'4'+'4'"
   ]
  },
  {
   "cell_type": "code",
   "execution_count": 45,
   "id": "75027f6c",
   "metadata": {},
   "outputs": [
    {
     "data": {
      "text/plain": [
       "'ABCD'"
      ]
     },
     "execution_count": 45,
     "metadata": {},
     "output_type": "execute_result"
    }
   ],
   "source": [
    "'AB'+'CD'"
   ]
  },
  {
   "cell_type": "code",
   "execution_count": 46,
   "id": "984a0798",
   "metadata": {},
   "outputs": [
    {
     "data": {
      "text/plain": [
       "'HAPPY BIRTHDAY'"
      ]
     },
     "execution_count": 46,
     "metadata": {},
     "output_type": "execute_result"
    }
   ],
   "source": [
    "\"HAPPY\"+\" BIRTHDAY\""
   ]
  },
  {
   "cell_type": "code",
   "execution_count": 47,
   "id": "04e04275",
   "metadata": {},
   "outputs": [
    {
     "data": {
      "text/plain": [
       "'RANJAN GUPTA'"
      ]
     },
     "execution_count": 47,
     "metadata": {},
     "output_type": "execute_result"
    }
   ],
   "source": [
    "\"RANJAN\"+\" GUPTA\""
   ]
  },
  {
   "cell_type": "code",
   "execution_count": 48,
   "id": "f5fb7579",
   "metadata": {},
   "outputs": [
    {
     "data": {
      "text/plain": [
       "'TWITTER IS ACQUIRED BY TESLA CEO ELON MUSK'"
      ]
     },
     "execution_count": 48,
     "metadata": {},
     "output_type": "execute_result"
    }
   ],
   "source": [
    "\"TWITTER\"+\" IS\"+\" ACQUIRED\"+\" BY\"+\" TESLA\"+\" CEO\"+\" ELON\"+\" MUSK\""
   ]
  },
  {
   "cell_type": "code",
   "execution_count": 49,
   "id": "83dacb01",
   "metadata": {},
   "outputs": [
    {
     "data": {
      "text/plain": [
       "'DATA SCIENCE'"
      ]
     },
     "execution_count": 49,
     "metadata": {},
     "output_type": "execute_result"
    }
   ],
   "source": [
    "\"DATA\"+\" SCIENCE\""
   ]
  },
  {
   "cell_type": "code",
   "execution_count": 50,
   "id": "1a2b3f4f",
   "metadata": {},
   "outputs": [
    {
     "data": {
      "text/plain": [
       "'MACHINE LEARNING'"
      ]
     },
     "execution_count": 50,
     "metadata": {},
     "output_type": "execute_result"
    }
   ],
   "source": [
    "\"MACHINE\"+\" LEARNING\""
   ]
  },
  {
   "cell_type": "markdown",
   "id": "9aab9162",
   "metadata": {},
   "source": [
    "Area of Rectangle"
   ]
  },
  {
   "cell_type": "code",
   "execution_count": 51,
   "id": "380be0f7",
   "metadata": {},
   "outputs": [
    {
     "name": "stdout",
     "output_type": "stream",
     "text": [
      "300\n",
      "Area of rectangle= 300\n",
      "Area of rectangle with length= 50  and breadth= 6 is 300\n"
     ]
    }
   ],
   "source": [
    "length=50\n",
    "breadth=6\n",
    "\n",
    "area=length*breadth\n",
    "print(area)\n",
    "print(\"Area of rectangle=\",area)\n",
    "print(\"Area of rectangle with length=\",length,\" and breadth=\",breadth,\"is\",area)"
   ]
  },
  {
   "cell_type": "markdown",
   "id": "4c5f55bb",
   "metadata": {},
   "source": [
    "area of circle"
   ]
  },
  {
   "cell_type": "code",
   "execution_count": 52,
   "id": "aa854b07",
   "metadata": {},
   "outputs": [
    {
     "name": "stdout",
     "output_type": "stream",
     "text": [
      "the area of circle is= 200.96\n"
     ]
    }
   ],
   "source": [
    "pi=3.14\n",
    "radius=8\n",
    "area=pi*(radius**2)\n",
    "print(\"the area of circle is=\",area)"
   ]
  },
  {
   "cell_type": "markdown",
   "id": "c3353b53",
   "metadata": {},
   "source": [
    "Type Casting"
   ]
  },
  {
   "cell_type": "code",
   "execution_count": 53,
   "id": "6bfdd9b1",
   "metadata": {},
   "outputs": [],
   "source": [
    "a=10"
   ]
  },
  {
   "cell_type": "code",
   "execution_count": 54,
   "id": "bb206def",
   "metadata": {},
   "outputs": [
    {
     "data": {
      "text/plain": [
       "int"
      ]
     },
     "execution_count": 54,
     "metadata": {},
     "output_type": "execute_result"
    }
   ],
   "source": [
    "type(a)"
   ]
  },
  {
   "cell_type": "code",
   "execution_count": 55,
   "id": "dacd6bf1",
   "metadata": {},
   "outputs": [],
   "source": [
    "fees=80.90"
   ]
  },
  {
   "cell_type": "code",
   "execution_count": 56,
   "id": "8f35d9f3",
   "metadata": {},
   "outputs": [
    {
     "data": {
      "text/plain": [
       "float"
      ]
     },
     "execution_count": 56,
     "metadata": {},
     "output_type": "execute_result"
    }
   ],
   "source": [
    "type(fees)"
   ]
  },
  {
   "cell_type": "code",
   "execution_count": 57,
   "id": "bc875ef6",
   "metadata": {},
   "outputs": [],
   "source": [
    "j=True"
   ]
  },
  {
   "cell_type": "code",
   "execution_count": 58,
   "id": "7a4ed448",
   "metadata": {},
   "outputs": [
    {
     "data": {
      "text/plain": [
       "bool"
      ]
     },
     "execution_count": 58,
     "metadata": {},
     "output_type": "execute_result"
    }
   ],
   "source": [
    "type(j)"
   ]
  },
  {
   "cell_type": "code",
   "execution_count": 59,
   "id": "aebbc873",
   "metadata": {},
   "outputs": [],
   "source": [
    "country=\"Idia\""
   ]
  },
  {
   "cell_type": "code",
   "execution_count": 60,
   "id": "8b679bc2",
   "metadata": {},
   "outputs": [
    {
     "data": {
      "text/plain": [
       "str"
      ]
     },
     "execution_count": 60,
     "metadata": {},
     "output_type": "execute_result"
    }
   ],
   "source": [
    "type(country)"
   ]
  },
  {
   "cell_type": "code",
   "execution_count": 61,
   "id": "3d0d956c",
   "metadata": {},
   "outputs": [],
   "source": [
    "p=False"
   ]
  },
  {
   "cell_type": "code",
   "execution_count": 62,
   "id": "82e08f98",
   "metadata": {},
   "outputs": [
    {
     "data": {
      "text/plain": [
       "bool"
      ]
     },
     "execution_count": 62,
     "metadata": {},
     "output_type": "execute_result"
    }
   ],
   "source": [
    "type(p)"
   ]
  },
  {
   "cell_type": "markdown",
   "id": "979c3f23",
   "metadata": {},
   "source": [
    "Relatioal Operators"
   ]
  },
  {
   "cell_type": "code",
   "execution_count": 63,
   "id": "3f6e5d00",
   "metadata": {},
   "outputs": [
    {
     "data": {
      "text/plain": [
       "True"
      ]
     },
     "execution_count": 63,
     "metadata": {},
     "output_type": "execute_result"
    }
   ],
   "source": [
    "10>7"
   ]
  },
  {
   "cell_type": "code",
   "execution_count": 64,
   "id": "4c891116",
   "metadata": {},
   "outputs": [
    {
     "data": {
      "text/plain": [
       "True"
      ]
     },
     "execution_count": 64,
     "metadata": {},
     "output_type": "execute_result"
    }
   ],
   "source": [
    "80<100"
   ]
  },
  {
   "cell_type": "code",
   "execution_count": 65,
   "id": "5ff496cb",
   "metadata": {},
   "outputs": [
    {
     "data": {
      "text/plain": [
       "False"
      ]
     },
     "execution_count": 65,
     "metadata": {},
     "output_type": "execute_result"
    }
   ],
   "source": [
    "35>50"
   ]
  },
  {
   "cell_type": "code",
   "execution_count": 66,
   "id": "42124c1d",
   "metadata": {},
   "outputs": [
    {
     "data": {
      "text/plain": [
       "False"
      ]
     },
     "execution_count": 66,
     "metadata": {},
     "output_type": "execute_result"
    }
   ],
   "source": [
    "10<8"
   ]
  },
  {
   "cell_type": "code",
   "execution_count": 67,
   "id": "e52650ab",
   "metadata": {},
   "outputs": [
    {
     "data": {
      "text/plain": [
       "True"
      ]
     },
     "execution_count": 67,
     "metadata": {},
     "output_type": "execute_result"
    }
   ],
   "source": [
    "100==100"
   ]
  },
  {
   "cell_type": "code",
   "execution_count": 68,
   "id": "68687dbf",
   "metadata": {},
   "outputs": [
    {
     "data": {
      "text/plain": [
       "False"
      ]
     },
     "execution_count": 68,
     "metadata": {},
     "output_type": "execute_result"
    }
   ],
   "source": [
    "100==500"
   ]
  },
  {
   "cell_type": "code",
   "execution_count": 69,
   "id": "ba6ac7e2",
   "metadata": {},
   "outputs": [
    {
     "data": {
      "text/plain": [
       "False"
      ]
     },
     "execution_count": 69,
     "metadata": {},
     "output_type": "execute_result"
    }
   ],
   "source": [
    "100!=100"
   ]
  },
  {
   "cell_type": "code",
   "execution_count": 70,
   "id": "b4c8a1f2",
   "metadata": {},
   "outputs": [
    {
     "data": {
      "text/plain": [
       "True"
      ]
     },
     "execution_count": 70,
     "metadata": {},
     "output_type": "execute_result"
    }
   ],
   "source": [
    "100!=500"
   ]
  },
  {
   "cell_type": "markdown",
   "id": "85d1b3a7",
   "metadata": {},
   "source": [
    "Python Basics"
   ]
  },
  {
   "cell_type": "code",
   "execution_count": 71,
   "id": "8ae580ae",
   "metadata": {},
   "outputs": [
    {
     "name": "stdout",
     "output_type": "stream",
     "text": [
      "Enter any country nameIndia\n"
     ]
    }
   ],
   "source": [
    "country=input('Enter any country name')"
   ]
  },
  {
   "cell_type": "code",
   "execution_count": 72,
   "id": "0013281c",
   "metadata": {},
   "outputs": [
    {
     "data": {
      "text/plain": [
       "'India'"
      ]
     },
     "execution_count": 72,
     "metadata": {},
     "output_type": "execute_result"
    }
   ],
   "source": [
    "country"
   ]
  },
  {
   "cell_type": "code",
   "execution_count": 73,
   "id": "31b134aa",
   "metadata": {},
   "outputs": [
    {
     "name": "stdout",
     "output_type": "stream",
     "text": [
      "Enter any Bollywood NameMan\n"
     ]
    }
   ],
   "source": [
    "moviename=input(\"Enter any Bollywood Name\")"
   ]
  },
  {
   "cell_type": "code",
   "execution_count": 74,
   "id": "1a526ae5",
   "metadata": {},
   "outputs": [
    {
     "data": {
      "text/plain": [
       "'Man'"
      ]
     },
     "execution_count": 74,
     "metadata": {},
     "output_type": "execute_result"
    }
   ],
   "source": [
    "moviename"
   ]
  },
  {
   "cell_type": "code",
   "execution_count": 75,
   "id": "d4dbf419",
   "metadata": {},
   "outputs": [
    {
     "name": "stdout",
     "output_type": "stream",
     "text": [
      "Enter any delecious foodFish Curry\n"
     ]
    }
   ],
   "source": [
    "foodname=input(\"Enter any delecious food\")"
   ]
  },
  {
   "cell_type": "code",
   "execution_count": 76,
   "id": "562bf497",
   "metadata": {},
   "outputs": [
    {
     "data": {
      "text/plain": [
       "'Fish Curry'"
      ]
     },
     "execution_count": 76,
     "metadata": {},
     "output_type": "execute_result"
    }
   ],
   "source": [
    "foodname"
   ]
  },
  {
   "cell_type": "code",
   "execution_count": 77,
   "id": "5e705ab0",
   "metadata": {},
   "outputs": [
    {
     "data": {
      "text/plain": [
       "str"
      ]
     },
     "execution_count": 77,
     "metadata": {},
     "output_type": "execute_result"
    }
   ],
   "source": [
    "type(foodname)"
   ]
  },
  {
   "cell_type": "code",
   "execution_count": 78,
   "id": "545f859a",
   "metadata": {
    "scrolled": true
   },
   "outputs": [
    {
     "data": {
      "text/plain": [
       "str"
      ]
     },
     "execution_count": 78,
     "metadata": {},
     "output_type": "execute_result"
    }
   ],
   "source": [
    "type(moviename)"
   ]
  },
  {
   "cell_type": "code",
   "execution_count": 79,
   "id": "63600fb0",
   "metadata": {},
   "outputs": [
    {
     "name": "stdout",
     "output_type": "stream",
     "text": [
      "Ennter any number90\n"
     ]
    }
   ],
   "source": [
    "number1=input(\"Ennter any number\")"
   ]
  },
  {
   "cell_type": "code",
   "execution_count": 80,
   "id": "0c588d4f",
   "metadata": {},
   "outputs": [
    {
     "data": {
      "text/plain": [
       "'90'"
      ]
     },
     "execution_count": 80,
     "metadata": {},
     "output_type": "execute_result"
    }
   ],
   "source": [
    "number1"
   ]
  },
  {
   "cell_type": "code",
   "execution_count": 81,
   "id": "74b75093",
   "metadata": {},
   "outputs": [
    {
     "name": "stdout",
     "output_type": "stream",
     "text": [
      "Enter any number90\n"
     ]
    }
   ],
   "source": [
    "number2=input(\"Enter any number\")"
   ]
  },
  {
   "cell_type": "code",
   "execution_count": 82,
   "id": "55422c44",
   "metadata": {},
   "outputs": [
    {
     "data": {
      "text/plain": [
       "'90'"
      ]
     },
     "execution_count": 82,
     "metadata": {},
     "output_type": "execute_result"
    }
   ],
   "source": [
    "number2"
   ]
  },
  {
   "cell_type": "code",
   "execution_count": 83,
   "id": "68a03657",
   "metadata": {},
   "outputs": [
    {
     "data": {
      "text/plain": [
       "str"
      ]
     },
     "execution_count": 83,
     "metadata": {},
     "output_type": "execute_result"
    }
   ],
   "source": [
    "type(number1)"
   ]
  },
  {
   "cell_type": "code",
   "execution_count": 84,
   "id": "bb72c2ef",
   "metadata": {},
   "outputs": [
    {
     "data": {
      "text/plain": [
       "'9090'"
      ]
     },
     "execution_count": 84,
     "metadata": {},
     "output_type": "execute_result"
    }
   ],
   "source": [
    "number1+number2"
   ]
  },
  {
   "cell_type": "code",
   "execution_count": 85,
   "id": "98723977",
   "metadata": {},
   "outputs": [],
   "source": [
    "p=58"
   ]
  },
  {
   "cell_type": "code",
   "execution_count": 86,
   "id": "f2119a78",
   "metadata": {},
   "outputs": [
    {
     "data": {
      "text/plain": [
       "int"
      ]
     },
     "execution_count": 86,
     "metadata": {},
     "output_type": "execute_result"
    }
   ],
   "source": [
    "type(p)"
   ]
  },
  {
   "cell_type": "code",
   "execution_count": 87,
   "id": "364226bf",
   "metadata": {},
   "outputs": [],
   "source": [
    "pf=float(p)"
   ]
  },
  {
   "cell_type": "code",
   "execution_count": 89,
   "id": "6b902d52",
   "metadata": {},
   "outputs": [
    {
     "data": {
      "text/plain": [
       "58.0"
      ]
     },
     "execution_count": 89,
     "metadata": {},
     "output_type": "execute_result"
    }
   ],
   "source": [
    "pf"
   ]
  },
  {
   "cell_type": "code",
   "execution_count": 90,
   "id": "4c2ebb9f",
   "metadata": {},
   "outputs": [
    {
     "data": {
      "text/plain": [
       "float"
      ]
     },
     "execution_count": 90,
     "metadata": {},
     "output_type": "execute_result"
    }
   ],
   "source": [
    "type(pf)"
   ]
  },
  {
   "cell_type": "code",
   "execution_count": 91,
   "id": "601566c2",
   "metadata": {},
   "outputs": [],
   "source": [
    "pi=int(pf)"
   ]
  },
  {
   "cell_type": "code",
   "execution_count": 92,
   "id": "51780a7d",
   "metadata": {},
   "outputs": [
    {
     "data": {
      "text/plain": [
       "58"
      ]
     },
     "execution_count": 92,
     "metadata": {},
     "output_type": "execute_result"
    }
   ],
   "source": [
    "pi"
   ]
  },
  {
   "cell_type": "code",
   "execution_count": 93,
   "id": "2b21a90c",
   "metadata": {},
   "outputs": [
    {
     "name": "stdout",
     "output_type": "stream",
     "text": [
      "Enter any number85\n"
     ]
    }
   ],
   "source": [
    "xv=int(input(\"Enter any number\"))"
   ]
  },
  {
   "cell_type": "code",
   "execution_count": 94,
   "id": "d1dda235",
   "metadata": {},
   "outputs": [
    {
     "data": {
      "text/plain": [
       "85"
      ]
     },
     "execution_count": 94,
     "metadata": {},
     "output_type": "execute_result"
    }
   ],
   "source": [
    "xv"
   ]
  },
  {
   "cell_type": "code",
   "execution_count": 95,
   "id": "16616aea",
   "metadata": {},
   "outputs": [
    {
     "data": {
      "text/plain": [
       "int"
      ]
     },
     "execution_count": 95,
     "metadata": {},
     "output_type": "execute_result"
    }
   ],
   "source": [
    "type(xv)"
   ]
  },
  {
   "cell_type": "code",
   "execution_count": 97,
   "id": "aec7fa1b",
   "metadata": {},
   "outputs": [
    {
     "name": "stdout",
     "output_type": "stream",
     "text": [
      "Enter any number90\n"
     ]
    }
   ],
   "source": [
    "yz=float(input(\"Enter any number\"))"
   ]
  },
  {
   "cell_type": "code",
   "execution_count": 98,
   "id": "513d6c50",
   "metadata": {},
   "outputs": [
    {
     "data": {
      "text/plain": [
       "90.0"
      ]
     },
     "execution_count": 98,
     "metadata": {},
     "output_type": "execute_result"
    }
   ],
   "source": [
    "yz"
   ]
  },
  {
   "cell_type": "code",
   "execution_count": 99,
   "id": "4231de44",
   "metadata": {},
   "outputs": [
    {
     "data": {
      "text/plain": [
       "float"
      ]
     },
     "execution_count": 99,
     "metadata": {},
     "output_type": "execute_result"
    }
   ],
   "source": [
    "type(yz)"
   ]
  },
  {
   "cell_type": "code",
   "execution_count": 100,
   "id": "c681edad",
   "metadata": {},
   "outputs": [
    {
     "data": {
      "text/plain": [
       "175.0"
      ]
     },
     "execution_count": 100,
     "metadata": {},
     "output_type": "execute_result"
    }
   ],
   "source": [
    "xv+yz"
   ]
  },
  {
   "cell_type": "markdown",
   "id": "78609e2f",
   "metadata": {},
   "source": [
    "Adding the two user input value"
   ]
  },
  {
   "cell_type": "code",
   "execution_count": 101,
   "id": "01efe8af",
   "metadata": {},
   "outputs": [
    {
     "name": "stdout",
     "output_type": "stream",
     "text": [
      "Enter any number100\n"
     ]
    }
   ],
   "source": [
    "number3=int(input(\"Enter any number\"))"
   ]
  },
  {
   "cell_type": "code",
   "execution_count": 102,
   "id": "26c5749b",
   "metadata": {},
   "outputs": [
    {
     "data": {
      "text/plain": [
       "100"
      ]
     },
     "execution_count": 102,
     "metadata": {},
     "output_type": "execute_result"
    }
   ],
   "source": [
    "number3"
   ]
  },
  {
   "cell_type": "code",
   "execution_count": 103,
   "id": "d2535e33",
   "metadata": {},
   "outputs": [
    {
     "name": "stdout",
     "output_type": "stream",
     "text": [
      "Enter any number80\n"
     ]
    }
   ],
   "source": [
    "number4=int(input(\"Enter any number\"))"
   ]
  },
  {
   "cell_type": "code",
   "execution_count": 105,
   "id": "294d3cba",
   "metadata": {},
   "outputs": [
    {
     "data": {
      "text/plain": [
       "80"
      ]
     },
     "execution_count": 105,
     "metadata": {},
     "output_type": "execute_result"
    }
   ],
   "source": [
    "number4"
   ]
  },
  {
   "cell_type": "code",
   "execution_count": 106,
   "id": "12f2aca0",
   "metadata": {},
   "outputs": [
    {
     "data": {
      "text/plain": [
       "180"
      ]
     },
     "execution_count": 106,
     "metadata": {},
     "output_type": "execute_result"
    }
   ],
   "source": [
    "number3+number4"
   ]
  },
  {
   "cell_type": "code",
   "execution_count": 108,
   "id": "5d71c8f8",
   "metadata": {},
   "outputs": [],
   "source": [
    "a=100\n",
    "b=50\n",
    "c=a+b"
   ]
  },
  {
   "cell_type": "code",
   "execution_count": 109,
   "id": "6abe0d81",
   "metadata": {},
   "outputs": [
    {
     "data": {
      "text/plain": [
       "150"
      ]
     },
     "execution_count": 109,
     "metadata": {},
     "output_type": "execute_result"
    }
   ],
   "source": [
    "c"
   ]
  },
  {
   "cell_type": "markdown",
   "id": "5a07dd42",
   "metadata": {},
   "source": [
    "Area of rectangle (Statics and Dynamics)"
   ]
  },
  {
   "cell_type": "code",
   "execution_count": 111,
   "id": "2e8b0c8a",
   "metadata": {},
   "outputs": [
    {
     "name": "stdout",
     "output_type": "stream",
     "text": [
      "Area of rectangle= 1200\n"
     ]
    }
   ],
   "source": [
    "length=30\n",
    "breadth=40\n",
    "area=length*breadth\n",
    "print(\"Area of rectangle=\",area)"
   ]
  },
  {
   "cell_type": "code",
   "execution_count": 115,
   "id": "9512983e",
   "metadata": {},
   "outputs": [
    {
     "name": "stdout",
     "output_type": "stream",
     "text": [
      "Enter any length200\n",
      "length= 200\n",
      "Enter any breadth500\n",
      "breadth= 500\n",
      "area of rectangle= 100000\n"
     ]
    }
   ],
   "source": [
    "l=int(input(\"Enter any length\"))\n",
    "print(\"length=\",l)\n",
    "b=int(input(\"Enter any breadth\"))\n",
    "print(\"breadth=\",b)\n",
    "arearectangle=l*b\n",
    "print(\"area of rectangle=\",arearectangle)"
   ]
  },
  {
   "cell_type": "markdown",
   "id": "c460a515",
   "metadata": {},
   "source": [
    "Area of circle"
   ]
  },
  {
   "cell_type": "code",
   "execution_count": 118,
   "id": "69300959",
   "metadata": {},
   "outputs": [
    {
     "name": "stdout",
     "output_type": "stream",
     "text": [
      "Enter value of pi3.14\n",
      "pi= 3.14\n",
      "Enter value of radious89.7\n",
      "Area of circle= 25264.7226\n",
      "Area of circle= 25264.72\n"
     ]
    }
   ],
   "source": [
    "pi=float(input(\"Enter value of pi\"))\n",
    "print(\"pi=\",pi)\n",
    "radious=float(input(\"Enter value of radious\"))\n",
    "areaofcircle=pi*(radious**2)\n",
    "print(\"Area of circle=\",areaofcircle)\n",
    "print(\"Area of circle=\",round(areaofcircle,2))"
   ]
  },
  {
   "cell_type": "code",
   "execution_count": 7,
   "id": "f6cc34be",
   "metadata": {},
   "outputs": [
    {
     "name": "stdout",
     "output_type": "stream",
     "text": [
      "Enter any value to find square root64\n",
      "The square root of 64 is 8.0\n"
     ]
    }
   ],
   "source": [
    "s=int(input(\"Enter any value to find square root\"))\n",
    "p=s**(1/2)\n",
    "print(\"The square root of\",s,\"is\",p)"
   ]
  },
  {
   "cell_type": "code",
   "execution_count": null,
   "id": "9a428b14",
   "metadata": {},
   "outputs": [],
   "source": []
  }
 ],
 "metadata": {
  "kernelspec": {
   "display_name": "Python 3 (ipykernel)",
   "language": "python",
   "name": "python3"
  },
  "language_info": {
   "codemirror_mode": {
    "name": "ipython",
    "version": 3
   },
   "file_extension": ".py",
   "mimetype": "text/x-python",
   "name": "python",
   "nbconvert_exporter": "python",
   "pygments_lexer": "ipython3",
   "version": "3.9.7"
  }
 },
 "nbformat": 4,
 "nbformat_minor": 5
}
