{
 "cells": [
  {
   "cell_type": "markdown",
   "id": "80c08577",
   "metadata": {},
   "source": [
    "# DATA STRUCTURES"
   ]
  },
  {
   "cell_type": "markdown",
   "id": "fe8d8d55",
   "metadata": {},
   "source": [
    "LIST"
   ]
  },
  {
   "cell_type": "code",
   "execution_count": 1,
   "id": "a68f707a",
   "metadata": {},
   "outputs": [],
   "source": [
    "list1=[1,2,3,4,5,6]"
   ]
  },
  {
   "cell_type": "code",
   "execution_count": 2,
   "id": "18e03a43",
   "metadata": {},
   "outputs": [
    {
     "data": {
      "text/plain": [
       "[1, 2, 3, 4, 5, 6]"
      ]
     },
     "execution_count": 2,
     "metadata": {},
     "output_type": "execute_result"
    }
   ],
   "source": [
    "list1"
   ]
  },
  {
   "cell_type": "code",
   "execution_count": 3,
   "id": "5c773fcf",
   "metadata": {},
   "outputs": [],
   "source": [
    "list2=[11,12,13,14,15,16,17,18]"
   ]
  },
  {
   "cell_type": "code",
   "execution_count": 4,
   "id": "b94035f3",
   "metadata": {},
   "outputs": [
    {
     "data": {
      "text/plain": [
       "[11, 12, 13, 14, 15, 16, 17, 18]"
      ]
     },
     "execution_count": 4,
     "metadata": {},
     "output_type": "execute_result"
    }
   ],
   "source": [
    "list2"
   ]
  },
  {
   "cell_type": "code",
   "execution_count": 5,
   "id": "a8238f7c",
   "metadata": {},
   "outputs": [],
   "source": [
    "list3=[10,20,30,40,50]"
   ]
  },
  {
   "cell_type": "code",
   "execution_count": 6,
   "id": "868a4755",
   "metadata": {},
   "outputs": [
    {
     "data": {
      "text/plain": [
       "[10, 20, 30, 40, 50]"
      ]
     },
     "execution_count": 6,
     "metadata": {},
     "output_type": "execute_result"
    }
   ],
   "source": [
    "list3"
   ]
  },
  {
   "cell_type": "code",
   "execution_count": 7,
   "id": "78667fd1",
   "metadata": {},
   "outputs": [],
   "source": [
    "list4=[10.5,30.90,20.60,60.70,5.0]"
   ]
  },
  {
   "cell_type": "code",
   "execution_count": 8,
   "id": "c55a7687",
   "metadata": {},
   "outputs": [
    {
     "data": {
      "text/plain": [
       "[10.5, 30.9, 20.6, 60.7, 5.0]"
      ]
     },
     "execution_count": 8,
     "metadata": {},
     "output_type": "execute_result"
    }
   ],
   "source": [
    "list4"
   ]
  },
  {
   "cell_type": "code",
   "execution_count": 9,
   "id": "ffeea69c",
   "metadata": {},
   "outputs": [],
   "source": [
    "list5=['A','B','C','D','E']"
   ]
  },
  {
   "cell_type": "code",
   "execution_count": 10,
   "id": "8bc4c12d",
   "metadata": {},
   "outputs": [
    {
     "data": {
      "text/plain": [
       "['A', 'B', 'C', 'D', 'E']"
      ]
     },
     "execution_count": 10,
     "metadata": {},
     "output_type": "execute_result"
    }
   ],
   "source": [
    "list5"
   ]
  },
  {
   "cell_type": "code",
   "execution_count": 11,
   "id": "ce08e11a",
   "metadata": {},
   "outputs": [],
   "source": [
    "list6=['MATRIX','LOST','SPACE']"
   ]
  },
  {
   "cell_type": "code",
   "execution_count": 12,
   "id": "09171c9f",
   "metadata": {},
   "outputs": [
    {
     "data": {
      "text/plain": [
       "['MATRIX', 'LOST', 'SPACE']"
      ]
     },
     "execution_count": 12,
     "metadata": {},
     "output_type": "execute_result"
    }
   ],
   "source": [
    "list6"
   ]
  },
  {
   "cell_type": "code",
   "execution_count": 13,
   "id": "20396776",
   "metadata": {},
   "outputs": [],
   "source": [
    "list7=[67,20,30.50,'B','MATRIX',True]"
   ]
  },
  {
   "cell_type": "code",
   "execution_count": 14,
   "id": "91a0131d",
   "metadata": {},
   "outputs": [
    {
     "data": {
      "text/plain": [
       "[67, 20, 30.5, 'B', 'MATRIX', True]"
      ]
     },
     "execution_count": 14,
     "metadata": {},
     "output_type": "execute_result"
    }
   ],
   "source": [
    "list7"
   ]
  },
  {
   "cell_type": "code",
   "execution_count": 15,
   "id": "df639788",
   "metadata": {},
   "outputs": [
    {
     "data": {
      "text/plain": [
       "'LOST'"
      ]
     },
     "execution_count": 15,
     "metadata": {},
     "output_type": "execute_result"
    }
   ],
   "source": [
    "list6[1]"
   ]
  },
  {
   "cell_type": "code",
   "execution_count": 16,
   "id": "cd110f5f",
   "metadata": {},
   "outputs": [
    {
     "data": {
      "text/plain": [
       "'MATRIX'"
      ]
     },
     "execution_count": 16,
     "metadata": {},
     "output_type": "execute_result"
    }
   ],
   "source": [
    "list6[0]"
   ]
  },
  {
   "cell_type": "code",
   "execution_count": 17,
   "id": "9e09496a",
   "metadata": {},
   "outputs": [
    {
     "data": {
      "text/plain": [
       "'SPACE'"
      ]
     },
     "execution_count": 17,
     "metadata": {},
     "output_type": "execute_result"
    }
   ],
   "source": [
    "list6[2]"
   ]
  },
  {
   "cell_type": "code",
   "execution_count": 18,
   "id": "80b2357b",
   "metadata": {},
   "outputs": [
    {
     "data": {
      "text/plain": [
       "['laptop', 'mouse', 'keyboard', 'printer']"
      ]
     },
     "execution_count": 18,
     "metadata": {},
     "output_type": "execute_result"
    }
   ],
   "source": [
    "complist=['laptop','mouse','keyboard','printer']\n",
    "complist"
   ]
  },
  {
   "cell_type": "code",
   "execution_count": 19,
   "id": "7df89f9f",
   "metadata": {},
   "outputs": [
    {
     "data": {
      "text/plain": [
       "'laptop'"
      ]
     },
     "execution_count": 19,
     "metadata": {},
     "output_type": "execute_result"
    }
   ],
   "source": [
    "complist[0]"
   ]
  },
  {
   "cell_type": "code",
   "execution_count": 20,
   "id": "e9cb7bb4",
   "metadata": {},
   "outputs": [
    {
     "data": {
      "text/plain": [
       "'printer'"
      ]
     },
     "execution_count": 20,
     "metadata": {},
     "output_type": "execute_result"
    }
   ],
   "source": [
    "complist[3]"
   ]
  },
  {
   "cell_type": "code",
   "execution_count": 21,
   "id": "40ec6b72",
   "metadata": {},
   "outputs": [
    {
     "data": {
      "text/plain": [
       "'keyboard'"
      ]
     },
     "execution_count": 21,
     "metadata": {},
     "output_type": "execute_result"
    }
   ],
   "source": [
    "complist[2]"
   ]
  },
  {
   "cell_type": "markdown",
   "id": "a128f27f",
   "metadata": {},
   "source": [
    "Slicing"
   ]
  },
  {
   "cell_type": "code",
   "execution_count": 22,
   "id": "f27f36dc",
   "metadata": {},
   "outputs": [
    {
     "data": {
      "text/plain": [
       "['laptop', 'mouse', 'keyboard']"
      ]
     },
     "execution_count": 22,
     "metadata": {},
     "output_type": "execute_result"
    }
   ],
   "source": [
    "complist[0:3]"
   ]
  },
  {
   "cell_type": "code",
   "execution_count": 23,
   "id": "8417464c",
   "metadata": {},
   "outputs": [
    {
     "data": {
      "text/plain": [
       "['keyboard', 'printer']"
      ]
     },
     "execution_count": 23,
     "metadata": {},
     "output_type": "execute_result"
    }
   ],
   "source": [
    "complist[2:]"
   ]
  },
  {
   "cell_type": "code",
   "execution_count": 24,
   "id": "0e3f41ee",
   "metadata": {},
   "outputs": [
    {
     "data": {
      "text/plain": [
       "['laptop', 'mouse', 'keyboard', 'printer']"
      ]
     },
     "execution_count": 24,
     "metadata": {},
     "output_type": "execute_result"
    }
   ],
   "source": [
    "complist[0:]"
   ]
  },
  {
   "cell_type": "code",
   "execution_count": 25,
   "id": "814977f2",
   "metadata": {},
   "outputs": [
    {
     "data": {
      "text/plain": [
       "['laptop', 'mouse', 'keyboard', 'printer']"
      ]
     },
     "execution_count": 25,
     "metadata": {},
     "output_type": "execute_result"
    }
   ],
   "source": [
    "complist[:]"
   ]
  },
  {
   "cell_type": "code",
   "execution_count": 26,
   "id": "ee4fc5d3",
   "metadata": {},
   "outputs": [
    {
     "data": {
      "text/plain": [
       "'keyboard'"
      ]
     },
     "execution_count": 26,
     "metadata": {},
     "output_type": "execute_result"
    }
   ],
   "source": [
    "complist[-2]"
   ]
  },
  {
   "cell_type": "code",
   "execution_count": 27,
   "id": "fcff76fd",
   "metadata": {},
   "outputs": [
    {
     "data": {
      "text/plain": [
       "['laptop', 'mouse']"
      ]
     },
     "execution_count": 27,
     "metadata": {},
     "output_type": "execute_result"
    }
   ],
   "source": [
    "complist[-4:-2]"
   ]
  },
  {
   "cell_type": "code",
   "execution_count": 28,
   "id": "84d0675d",
   "metadata": {},
   "outputs": [
    {
     "data": {
      "text/plain": [
       "['laptop', 'mouse', 'keyboard', 'printer']"
      ]
     },
     "execution_count": 28,
     "metadata": {},
     "output_type": "execute_result"
    }
   ],
   "source": [
    "complist[:]"
   ]
  },
  {
   "cell_type": "code",
   "execution_count": 29,
   "id": "994a3c08",
   "metadata": {},
   "outputs": [],
   "source": [
    "list8=[11,12,13,14,15]"
   ]
  },
  {
   "cell_type": "code",
   "execution_count": 30,
   "id": "4d6b7a2b",
   "metadata": {},
   "outputs": [],
   "source": [
    "list8.append(16)"
   ]
  },
  {
   "cell_type": "code",
   "execution_count": 31,
   "id": "aba34af9",
   "metadata": {},
   "outputs": [
    {
     "data": {
      "text/plain": [
       "[11, 12, 13, 14, 15, 16]"
      ]
     },
     "execution_count": 31,
     "metadata": {},
     "output_type": "execute_result"
    }
   ],
   "source": [
    "list8"
   ]
  },
  {
   "cell_type": "code",
   "execution_count": 32,
   "id": "9ad9a222",
   "metadata": {},
   "outputs": [],
   "source": [
    "list8.append(50)"
   ]
  },
  {
   "cell_type": "code",
   "execution_count": 33,
   "id": "91422e51",
   "metadata": {},
   "outputs": [
    {
     "data": {
      "text/plain": [
       "[11, 12, 13, 14, 15, 16, 50]"
      ]
     },
     "execution_count": 33,
     "metadata": {},
     "output_type": "execute_result"
    }
   ],
   "source": [
    "list8"
   ]
  },
  {
   "cell_type": "code",
   "execution_count": 34,
   "id": "997fc308",
   "metadata": {},
   "outputs": [],
   "source": [
    "listfruit=['Apple','Banana','Grapes','Mango','Jackfruit']"
   ]
  },
  {
   "cell_type": "code",
   "execution_count": 35,
   "id": "4d07da65",
   "metadata": {},
   "outputs": [],
   "source": [
    "listfruit.append('Lichi')"
   ]
  },
  {
   "cell_type": "code",
   "execution_count": 36,
   "id": "3a7f1b9f",
   "metadata": {},
   "outputs": [
    {
     "data": {
      "text/plain": [
       "['Apple', 'Banana', 'Grapes', 'Mango', 'Jackfruit', 'Lichi']"
      ]
     },
     "execution_count": 36,
     "metadata": {},
     "output_type": "execute_result"
    }
   ],
   "source": [
    "listfruit"
   ]
  },
  {
   "cell_type": "code",
   "execution_count": 37,
   "id": "d5645709",
   "metadata": {},
   "outputs": [
    {
     "data": {
      "text/plain": [
       "6"
      ]
     },
     "execution_count": 37,
     "metadata": {},
     "output_type": "execute_result"
    }
   ],
   "source": [
    "len(listfruit)"
   ]
  },
  {
   "cell_type": "code",
   "execution_count": 38,
   "id": "5d263963",
   "metadata": {},
   "outputs": [
    {
     "data": {
      "text/plain": [
       "'Apple'"
      ]
     },
     "execution_count": 38,
     "metadata": {},
     "output_type": "execute_result"
    }
   ],
   "source": [
    "listfruit[0]"
   ]
  },
  {
   "cell_type": "code",
   "execution_count": 39,
   "id": "756fef48",
   "metadata": {},
   "outputs": [
    {
     "data": {
      "text/plain": [
       "'Jackfruit'"
      ]
     },
     "execution_count": 39,
     "metadata": {},
     "output_type": "execute_result"
    }
   ],
   "source": [
    "listfruit[4]"
   ]
  },
  {
   "cell_type": "code",
   "execution_count": 40,
   "id": "46e57506",
   "metadata": {},
   "outputs": [
    {
     "data": {
      "text/plain": [
       "['Apple', 'Banana', 'Grapes', 'Mango']"
      ]
     },
     "execution_count": 40,
     "metadata": {},
     "output_type": "execute_result"
    }
   ],
   "source": [
    "listfruit[0:4]"
   ]
  },
  {
   "cell_type": "code",
   "execution_count": 41,
   "id": "86c7565e",
   "metadata": {},
   "outputs": [
    {
     "data": {
      "text/plain": [
       "['Apple', 'Banana', 'Grapes', 'Mango', 'Jackfruit', 'Lichi']"
      ]
     },
     "execution_count": 41,
     "metadata": {},
     "output_type": "execute_result"
    }
   ],
   "source": [
    "listfruit[0:]"
   ]
  },
  {
   "cell_type": "code",
   "execution_count": 42,
   "id": "0900b089",
   "metadata": {},
   "outputs": [
    {
     "data": {
      "text/plain": [
       "['Apple', 'Banana', 'Grapes', 'Mango', 'Jackfruit']"
      ]
     },
     "execution_count": 42,
     "metadata": {},
     "output_type": "execute_result"
    }
   ],
   "source": [
    "listfruit[-6:-1]"
   ]
  },
  {
   "cell_type": "code",
   "execution_count": 43,
   "id": "37ad1723",
   "metadata": {},
   "outputs": [],
   "source": [
    "listfruit.insert(2,'Lemon')"
   ]
  },
  {
   "cell_type": "code",
   "execution_count": 44,
   "id": "7a311cdd",
   "metadata": {},
   "outputs": [
    {
     "data": {
      "text/plain": [
       "['Apple', 'Banana', 'Lemon', 'Grapes', 'Mango', 'Jackfruit', 'Lichi']"
      ]
     },
     "execution_count": 44,
     "metadata": {},
     "output_type": "execute_result"
    }
   ],
   "source": [
    "listfruit"
   ]
  },
  {
   "cell_type": "code",
   "execution_count": 45,
   "id": "8b4f7283",
   "metadata": {},
   "outputs": [],
   "source": [
    "listfruit.sort()"
   ]
  },
  {
   "cell_type": "code",
   "execution_count": 46,
   "id": "2d911c0a",
   "metadata": {},
   "outputs": [
    {
     "data": {
      "text/plain": [
       "['Apple', 'Banana', 'Grapes', 'Jackfruit', 'Lemon', 'Lichi', 'Mango']"
      ]
     },
     "execution_count": 46,
     "metadata": {},
     "output_type": "execute_result"
    }
   ],
   "source": [
    "listfruit"
   ]
  },
  {
   "cell_type": "code",
   "execution_count": 47,
   "id": "7924b187",
   "metadata": {},
   "outputs": [],
   "source": [
    "listfruit.reverse()"
   ]
  },
  {
   "cell_type": "code",
   "execution_count": 48,
   "id": "caf37719",
   "metadata": {},
   "outputs": [
    {
     "data": {
      "text/plain": [
       "['Mango', 'Lichi', 'Lemon', 'Jackfruit', 'Grapes', 'Banana', 'Apple']"
      ]
     },
     "execution_count": 48,
     "metadata": {},
     "output_type": "execute_result"
    }
   ],
   "source": [
    "listfruit"
   ]
  },
  {
   "cell_type": "code",
   "execution_count": 49,
   "id": "8de02f28",
   "metadata": {},
   "outputs": [
    {
     "data": {
      "text/plain": [
       "2"
      ]
     },
     "execution_count": 49,
     "metadata": {},
     "output_type": "execute_result"
    }
   ],
   "source": [
    "listfruit.index('Lemon')"
   ]
  },
  {
   "cell_type": "code",
   "execution_count": 50,
   "id": "5d35dd60",
   "metadata": {},
   "outputs": [
    {
     "data": {
      "text/plain": [
       "['Mango', 'Lichi', 'Lemon', 'Jackfruit', 'Grapes', 'Banana', 'Apple']"
      ]
     },
     "execution_count": 50,
     "metadata": {},
     "output_type": "execute_result"
    }
   ],
   "source": [
    "listfruit"
   ]
  },
  {
   "cell_type": "code",
   "execution_count": 51,
   "id": "f5a47492",
   "metadata": {},
   "outputs": [],
   "source": [
    "newlist=['Kiwi','Orange']"
   ]
  },
  {
   "cell_type": "code",
   "execution_count": 52,
   "id": "f2d5bf47",
   "metadata": {},
   "outputs": [
    {
     "data": {
      "text/plain": [
       "['Kiwi', 'Orange']"
      ]
     },
     "execution_count": 52,
     "metadata": {},
     "output_type": "execute_result"
    }
   ],
   "source": [
    "newlist"
   ]
  },
  {
   "cell_type": "code",
   "execution_count": 53,
   "id": "31e433f2",
   "metadata": {},
   "outputs": [],
   "source": [
    "listfruit.extend(newlist)"
   ]
  },
  {
   "cell_type": "code",
   "execution_count": 54,
   "id": "1c44ca65",
   "metadata": {},
   "outputs": [
    {
     "data": {
      "text/plain": [
       "['Mango',\n",
       " 'Lichi',\n",
       " 'Lemon',\n",
       " 'Jackfruit',\n",
       " 'Grapes',\n",
       " 'Banana',\n",
       " 'Apple',\n",
       " 'Kiwi',\n",
       " 'Orange']"
      ]
     },
     "execution_count": 54,
     "metadata": {},
     "output_type": "execute_result"
    }
   ],
   "source": [
    "listfruit"
   ]
  },
  {
   "cell_type": "code",
   "execution_count": 55,
   "id": "d5056ac2",
   "metadata": {},
   "outputs": [],
   "source": [
    "listfruit.extend(['abc','adc'])"
   ]
  },
  {
   "cell_type": "code",
   "execution_count": 56,
   "id": "db23fe06",
   "metadata": {},
   "outputs": [
    {
     "data": {
      "text/plain": [
       "['Mango',\n",
       " 'Lichi',\n",
       " 'Lemon',\n",
       " 'Jackfruit',\n",
       " 'Grapes',\n",
       " 'Banana',\n",
       " 'Apple',\n",
       " 'Kiwi',\n",
       " 'Orange',\n",
       " 'abc',\n",
       " 'adc']"
      ]
     },
     "execution_count": 56,
     "metadata": {},
     "output_type": "execute_result"
    }
   ],
   "source": [
    "listfruit"
   ]
  },
  {
   "cell_type": "code",
   "execution_count": 57,
   "id": "0a54539e",
   "metadata": {},
   "outputs": [
    {
     "data": {
      "text/plain": [
       "11"
      ]
     },
     "execution_count": 57,
     "metadata": {},
     "output_type": "execute_result"
    }
   ],
   "source": [
    "len(listfruit)"
   ]
  },
  {
   "cell_type": "code",
   "execution_count": 58,
   "id": "8faf9b78",
   "metadata": {},
   "outputs": [
    {
     "data": {
      "text/plain": [
       "'adc'"
      ]
     },
     "execution_count": 58,
     "metadata": {},
     "output_type": "execute_result"
    }
   ],
   "source": [
    "listfruit.pop()"
   ]
  },
  {
   "cell_type": "code",
   "execution_count": 59,
   "id": "be3f838d",
   "metadata": {},
   "outputs": [
    {
     "data": {
      "text/plain": [
       "['Mango',\n",
       " 'Lichi',\n",
       " 'Lemon',\n",
       " 'Jackfruit',\n",
       " 'Grapes',\n",
       " 'Banana',\n",
       " 'Apple',\n",
       " 'Kiwi',\n",
       " 'Orange',\n",
       " 'abc']"
      ]
     },
     "execution_count": 59,
     "metadata": {},
     "output_type": "execute_result"
    }
   ],
   "source": [
    "listfruit"
   ]
  },
  {
   "cell_type": "code",
   "execution_count": 60,
   "id": "3b3a92b4",
   "metadata": {},
   "outputs": [
    {
     "data": {
      "text/plain": [
       "'Banana'"
      ]
     },
     "execution_count": 60,
     "metadata": {},
     "output_type": "execute_result"
    }
   ],
   "source": [
    "listfruit.pop(5)"
   ]
  },
  {
   "cell_type": "code",
   "execution_count": 61,
   "id": "0dd4e573",
   "metadata": {},
   "outputs": [
    {
     "data": {
      "text/plain": [
       "['Mango',\n",
       " 'Lichi',\n",
       " 'Lemon',\n",
       " 'Jackfruit',\n",
       " 'Grapes',\n",
       " 'Apple',\n",
       " 'Kiwi',\n",
       " 'Orange',\n",
       " 'abc']"
      ]
     },
     "execution_count": 61,
     "metadata": {},
     "output_type": "execute_result"
    }
   ],
   "source": [
    "listfruit"
   ]
  },
  {
   "cell_type": "code",
   "execution_count": 62,
   "id": "c64649d4",
   "metadata": {},
   "outputs": [
    {
     "data": {
      "text/plain": [
       "'Grapes'"
      ]
     },
     "execution_count": 62,
     "metadata": {},
     "output_type": "execute_result"
    }
   ],
   "source": [
    "listfruit.pop(4)"
   ]
  },
  {
   "cell_type": "code",
   "execution_count": 63,
   "id": "6e583e03",
   "metadata": {},
   "outputs": [
    {
     "data": {
      "text/plain": [
       "['Mango', 'Lichi', 'Lemon', 'Jackfruit', 'Apple', 'Kiwi', 'Orange', 'abc']"
      ]
     },
     "execution_count": 63,
     "metadata": {},
     "output_type": "execute_result"
    }
   ],
   "source": [
    "listfruit"
   ]
  },
  {
   "cell_type": "code",
   "execution_count": 65,
   "id": "8db273b2",
   "metadata": {},
   "outputs": [],
   "source": [
    "planetlist=['Mercury','Venus']"
   ]
  },
  {
   "cell_type": "code",
   "execution_count": 66,
   "id": "0943011a",
   "metadata": {},
   "outputs": [
    {
     "data": {
      "text/plain": [
       "['Mercury', 'Venus']"
      ]
     },
     "execution_count": 66,
     "metadata": {},
     "output_type": "execute_result"
    }
   ],
   "source": [
    "planetlist"
   ]
  },
  {
   "cell_type": "code",
   "execution_count": 67,
   "id": "8e065287",
   "metadata": {},
   "outputs": [],
   "source": [
    "planetlist.append('Earth')"
   ]
  },
  {
   "cell_type": "code",
   "execution_count": 68,
   "id": "9c4f03e9",
   "metadata": {},
   "outputs": [
    {
     "data": {
      "text/plain": [
       "['Mercury', 'Venus', 'Earth']"
      ]
     },
     "execution_count": 68,
     "metadata": {},
     "output_type": "execute_result"
    }
   ],
   "source": [
    "planetlist"
   ]
  },
  {
   "cell_type": "code",
   "execution_count": 70,
   "id": "a5809643",
   "metadata": {},
   "outputs": [],
   "source": [
    "planetlist.extend(['Jupiter','Mars','saturn'])"
   ]
  },
  {
   "cell_type": "code",
   "execution_count": 71,
   "id": "56724926",
   "metadata": {},
   "outputs": [
    {
     "data": {
      "text/plain": [
       "['Mercury', 'Venus', 'Earth', 'Jupiter', 'Mars', 'saturn']"
      ]
     },
     "execution_count": 71,
     "metadata": {},
     "output_type": "execute_result"
    }
   ],
   "source": [
    "planetlist"
   ]
  },
  {
   "cell_type": "code",
   "execution_count": 72,
   "id": "7cc36927",
   "metadata": {},
   "outputs": [],
   "source": [
    "planetlist.append('Neptune')"
   ]
  },
  {
   "cell_type": "code",
   "execution_count": 73,
   "id": "28400cbb",
   "metadata": {},
   "outputs": [
    {
     "data": {
      "text/plain": [
       "['Mercury', 'Venus', 'Earth', 'Jupiter', 'Mars', 'saturn', 'Neptune']"
      ]
     },
     "execution_count": 73,
     "metadata": {},
     "output_type": "execute_result"
    }
   ],
   "source": [
    "planetlist"
   ]
  },
  {
   "cell_type": "code",
   "execution_count": 74,
   "id": "567be825",
   "metadata": {},
   "outputs": [
    {
     "data": {
      "text/plain": [
       "7"
      ]
     },
     "execution_count": 74,
     "metadata": {},
     "output_type": "execute_result"
    }
   ],
   "source": [
    "len(planetlist)"
   ]
  },
  {
   "cell_type": "code",
   "execution_count": 76,
   "id": "0482f402",
   "metadata": {},
   "outputs": [
    {
     "data": {
      "text/plain": [
       "'Mercury'"
      ]
     },
     "execution_count": 76,
     "metadata": {},
     "output_type": "execute_result"
    }
   ],
   "source": [
    "planetlist[0]"
   ]
  },
  {
   "cell_type": "code",
   "execution_count": 77,
   "id": "19852531",
   "metadata": {},
   "outputs": [
    {
     "data": {
      "text/plain": [
       "'Jupiter'"
      ]
     },
     "execution_count": 77,
     "metadata": {},
     "output_type": "execute_result"
    }
   ],
   "source": [
    "planetlist[3]"
   ]
  },
  {
   "cell_type": "code",
   "execution_count": 78,
   "id": "480afeaa",
   "metadata": {},
   "outputs": [
    {
     "data": {
      "text/plain": [
       "['Earth', 'Jupiter', 'Mars']"
      ]
     },
     "execution_count": 78,
     "metadata": {},
     "output_type": "execute_result"
    }
   ],
   "source": [
    "planetlist[2:5]"
   ]
  },
  {
   "cell_type": "code",
   "execution_count": 79,
   "id": "df535fc9",
   "metadata": {},
   "outputs": [
    {
     "data": {
      "text/plain": [
       "'Mars'"
      ]
     },
     "execution_count": 79,
     "metadata": {},
     "output_type": "execute_result"
    }
   ],
   "source": [
    "planetlist[-3]"
   ]
  },
  {
   "cell_type": "code",
   "execution_count": 80,
   "id": "4bf4c57f",
   "metadata": {},
   "outputs": [
    {
     "data": {
      "text/plain": [
       "['Earth', 'Jupiter', 'Mars', 'saturn']"
      ]
     },
     "execution_count": 80,
     "metadata": {},
     "output_type": "execute_result"
    }
   ],
   "source": [
    "planetlist[-5:-1]"
   ]
  },
  {
   "cell_type": "code",
   "execution_count": 81,
   "id": "5bc0ea72",
   "metadata": {},
   "outputs": [
    {
     "data": {
      "text/plain": [
       "['Mercury', 'Venus', 'Earth', 'Jupiter', 'Mars', 'saturn', 'Neptune']"
      ]
     },
     "execution_count": 81,
     "metadata": {},
     "output_type": "execute_result"
    }
   ],
   "source": [
    "planetlist"
   ]
  },
  {
   "cell_type": "code",
   "execution_count": 83,
   "id": "580ded08",
   "metadata": {},
   "outputs": [],
   "source": [
    "planetlist.append('pluto')"
   ]
  },
  {
   "cell_type": "code",
   "execution_count": 84,
   "id": "71be24c6",
   "metadata": {},
   "outputs": [
    {
     "data": {
      "text/plain": [
       "['Mercury', 'Venus', 'Earth', 'Jupiter', 'Mars', 'saturn', 'Neptune', 'pluto']"
      ]
     },
     "execution_count": 84,
     "metadata": {},
     "output_type": "execute_result"
    }
   ],
   "source": [
    "planetlist"
   ]
  },
  {
   "cell_type": "code",
   "execution_count": 85,
   "id": "d38ce336",
   "metadata": {},
   "outputs": [],
   "source": [
    "planetlist.insert(2,'uranus')"
   ]
  },
  {
   "cell_type": "code",
   "execution_count": 86,
   "id": "4c6ab43d",
   "metadata": {},
   "outputs": [
    {
     "data": {
      "text/plain": [
       "['Mercury',\n",
       " 'Venus',\n",
       " 'uranus',\n",
       " 'Earth',\n",
       " 'Jupiter',\n",
       " 'Mars',\n",
       " 'saturn',\n",
       " 'Neptune',\n",
       " 'pluto']"
      ]
     },
     "execution_count": 86,
     "metadata": {},
     "output_type": "execute_result"
    }
   ],
   "source": [
    "planetlist"
   ]
  },
  {
   "cell_type": "code",
   "execution_count": 87,
   "id": "e6e7f1ab",
   "metadata": {},
   "outputs": [],
   "source": [
    "planetlist.sort()"
   ]
  },
  {
   "cell_type": "code",
   "execution_count": 88,
   "id": "d9d0f65c",
   "metadata": {},
   "outputs": [
    {
     "data": {
      "text/plain": [
       "['Earth',\n",
       " 'Jupiter',\n",
       " 'Mars',\n",
       " 'Mercury',\n",
       " 'Neptune',\n",
       " 'Venus',\n",
       " 'pluto',\n",
       " 'saturn',\n",
       " 'uranus']"
      ]
     },
     "execution_count": 88,
     "metadata": {},
     "output_type": "execute_result"
    }
   ],
   "source": [
    "planetlist"
   ]
  },
  {
   "cell_type": "code",
   "execution_count": 89,
   "id": "a484bc17",
   "metadata": {},
   "outputs": [],
   "source": [
    "planetlist.extend(['Abc','Def'])"
   ]
  },
  {
   "cell_type": "code",
   "execution_count": 90,
   "id": "20d8eb2e",
   "metadata": {},
   "outputs": [
    {
     "data": {
      "text/plain": [
       "['Earth',\n",
       " 'Jupiter',\n",
       " 'Mars',\n",
       " 'Mercury',\n",
       " 'Neptune',\n",
       " 'Venus',\n",
       " 'pluto',\n",
       " 'saturn',\n",
       " 'uranus',\n",
       " 'Abc',\n",
       " 'Def']"
      ]
     },
     "execution_count": 90,
     "metadata": {},
     "output_type": "execute_result"
    }
   ],
   "source": [
    "planetlist"
   ]
  },
  {
   "cell_type": "code",
   "execution_count": 93,
   "id": "20dd546f",
   "metadata": {},
   "outputs": [
    {
     "data": {
      "text/plain": [
       "'Def'"
      ]
     },
     "execution_count": 93,
     "metadata": {},
     "output_type": "execute_result"
    }
   ],
   "source": [
    "planetlist.pop()"
   ]
  },
  {
   "cell_type": "code",
   "execution_count": 94,
   "id": "ea1099a1",
   "metadata": {},
   "outputs": [
    {
     "data": {
      "text/plain": [
       "['Earth',\n",
       " 'Jupiter',\n",
       " 'Mars',\n",
       " 'Mercury',\n",
       " 'Neptune',\n",
       " 'Venus',\n",
       " 'pluto',\n",
       " 'saturn',\n",
       " 'uranus',\n",
       " 'Abc']"
      ]
     },
     "execution_count": 94,
     "metadata": {},
     "output_type": "execute_result"
    }
   ],
   "source": [
    "planetlist"
   ]
  },
  {
   "cell_type": "code",
   "execution_count": 96,
   "id": "ff2c4cd2",
   "metadata": {},
   "outputs": [
    {
     "data": {
      "text/plain": [
       "'Abc'"
      ]
     },
     "execution_count": 96,
     "metadata": {},
     "output_type": "execute_result"
    }
   ],
   "source": [
    "planetlist.pop(9)"
   ]
  },
  {
   "cell_type": "code",
   "execution_count": 97,
   "id": "8240f3f9",
   "metadata": {},
   "outputs": [
    {
     "data": {
      "text/plain": [
       "['Earth',\n",
       " 'Jupiter',\n",
       " 'Mars',\n",
       " 'Mercury',\n",
       " 'Neptune',\n",
       " 'Venus',\n",
       " 'pluto',\n",
       " 'saturn',\n",
       " 'uranus']"
      ]
     },
     "execution_count": 97,
     "metadata": {},
     "output_type": "execute_result"
    }
   ],
   "source": [
    "planetlist"
   ]
  },
  {
   "cell_type": "code",
   "execution_count": 98,
   "id": "2b9b16f1",
   "metadata": {},
   "outputs": [],
   "source": [
    "planetlist[2]='sun'"
   ]
  },
  {
   "cell_type": "code",
   "execution_count": 99,
   "id": "d1dd83b6",
   "metadata": {},
   "outputs": [
    {
     "data": {
      "text/plain": [
       "['Earth',\n",
       " 'Jupiter',\n",
       " 'sun',\n",
       " 'Mercury',\n",
       " 'Neptune',\n",
       " 'Venus',\n",
       " 'pluto',\n",
       " 'saturn',\n",
       " 'uranus']"
      ]
     },
     "execution_count": 99,
     "metadata": {},
     "output_type": "execute_result"
    }
   ],
   "source": [
    "planetlist"
   ]
  },
  {
   "cell_type": "code",
   "execution_count": 100,
   "id": "1226143a",
   "metadata": {},
   "outputs": [],
   "source": [
    "numlist=[100,200,300,400,500]"
   ]
  },
  {
   "cell_type": "code",
   "execution_count": 101,
   "id": "d6f730bb",
   "metadata": {},
   "outputs": [
    {
     "data": {
      "text/plain": [
       "[100, 200, 300, 400, 500]"
      ]
     },
     "execution_count": 101,
     "metadata": {},
     "output_type": "execute_result"
    }
   ],
   "source": [
    "numlist"
   ]
  },
  {
   "cell_type": "code",
   "execution_count": 102,
   "id": "57bf64ce",
   "metadata": {},
   "outputs": [
    {
     "data": {
      "text/plain": [
       "400"
      ]
     },
     "execution_count": 102,
     "metadata": {},
     "output_type": "execute_result"
    }
   ],
   "source": [
    "numlist[3]"
   ]
  },
  {
   "cell_type": "code",
   "execution_count": 103,
   "id": "d8448cfa",
   "metadata": {},
   "outputs": [],
   "source": [
    "numlist[4]=399"
   ]
  },
  {
   "cell_type": "code",
   "execution_count": 104,
   "id": "6f604482",
   "metadata": {},
   "outputs": [
    {
     "data": {
      "text/plain": [
       "[100, 200, 300, 400, 399]"
      ]
     },
     "execution_count": 104,
     "metadata": {},
     "output_type": "execute_result"
    }
   ],
   "source": [
    "numlist"
   ]
  },
  {
   "cell_type": "code",
   "execution_count": 109,
   "id": "4b2dc100",
   "metadata": {},
   "outputs": [],
   "source": [
    "k=[20,30,50,40,90,80,30]"
   ]
  },
  {
   "cell_type": "code",
   "execution_count": 110,
   "id": "4296e109",
   "metadata": {},
   "outputs": [
    {
     "data": {
      "text/plain": [
       "[20, 30, 50, 40, 90, 80, 30]"
      ]
     },
     "execution_count": 110,
     "metadata": {},
     "output_type": "execute_result"
    }
   ],
   "source": [
    "k"
   ]
  },
  {
   "cell_type": "code",
   "execution_count": 111,
   "id": "4d5f1335",
   "metadata": {},
   "outputs": [],
   "source": [
    "k.sort()"
   ]
  },
  {
   "cell_type": "code",
   "execution_count": 112,
   "id": "a0607e6a",
   "metadata": {},
   "outputs": [
    {
     "data": {
      "text/plain": [
       "[20, 30, 30, 40, 50, 80, 90]"
      ]
     },
     "execution_count": 112,
     "metadata": {},
     "output_type": "execute_result"
    }
   ],
   "source": [
    "k"
   ]
  },
  {
   "cell_type": "code",
   "execution_count": null,
   "id": "19232064",
   "metadata": {},
   "outputs": [],
   "source": [
    " "
   ]
  }
 ],
 "metadata": {
  "kernelspec": {
   "display_name": "Python 3 (ipykernel)",
   "language": "python",
   "name": "python3"
  },
  "language_info": {
   "codemirror_mode": {
    "name": "ipython",
    "version": 3
   },
   "file_extension": ".py",
   "mimetype": "text/x-python",
   "name": "python",
   "nbconvert_exporter": "python",
   "pygments_lexer": "ipython3",
   "version": "3.9.7"
  }
 },
 "nbformat": 4,
 "nbformat_minor": 5
}
