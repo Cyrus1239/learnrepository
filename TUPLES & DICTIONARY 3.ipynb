{
 "cells": [
  {
   "cell_type": "markdown",
   "id": "4041fc49",
   "metadata": {},
   "source": [
    "# TUPLES"
   ]
  },
  {
   "cell_type": "code",
   "execution_count": 1,
   "id": "56bc3463",
   "metadata": {},
   "outputs": [],
   "source": [
    "t1=(1,2,3,4,5,6,7)"
   ]
  },
  {
   "cell_type": "code",
   "execution_count": 2,
   "id": "26991216",
   "metadata": {},
   "outputs": [
    {
     "data": {
      "text/plain": [
       "(1, 2, 3, 4, 5, 6, 7)"
      ]
     },
     "execution_count": 2,
     "metadata": {},
     "output_type": "execute_result"
    }
   ],
   "source": [
    "t1"
   ]
  },
  {
   "cell_type": "code",
   "execution_count": 3,
   "id": "4f3863e5",
   "metadata": {},
   "outputs": [],
   "source": [
    "t2=(4,5,6,'A',True,False)"
   ]
  },
  {
   "cell_type": "code",
   "execution_count": 4,
   "id": "3ccbc73f",
   "metadata": {},
   "outputs": [
    {
     "data": {
      "text/plain": [
       "(4, 5, 6, 'A', True, False)"
      ]
     },
     "execution_count": 4,
     "metadata": {},
     "output_type": "execute_result"
    }
   ],
   "source": [
    "t2"
   ]
  },
  {
   "cell_type": "code",
   "execution_count": 5,
   "id": "70d25169",
   "metadata": {},
   "outputs": [
    {
     "data": {
      "text/plain": [
       "(1, 2, 3, 4, 5, 6, 7)"
      ]
     },
     "execution_count": 5,
     "metadata": {},
     "output_type": "execute_result"
    }
   ],
   "source": [
    "t1"
   ]
  },
  {
   "cell_type": "code",
   "execution_count": 6,
   "id": "d8927b4a",
   "metadata": {},
   "outputs": [
    {
     "data": {
      "text/plain": [
       "2"
      ]
     },
     "execution_count": 6,
     "metadata": {},
     "output_type": "execute_result"
    }
   ],
   "source": [
    "t1[1]"
   ]
  },
  {
   "cell_type": "code",
   "execution_count": 7,
   "id": "7b954e79",
   "metadata": {},
   "outputs": [
    {
     "data": {
      "text/plain": [
       "5"
      ]
     },
     "execution_count": 7,
     "metadata": {},
     "output_type": "execute_result"
    }
   ],
   "source": [
    "t1[4]"
   ]
  },
  {
   "cell_type": "code",
   "execution_count": 8,
   "id": "4a6fcb22",
   "metadata": {},
   "outputs": [
    {
     "ename": "TypeError",
     "evalue": "'tuple' object does not support item assignment",
     "output_type": "error",
     "traceback": [
      "\u001b[1;31m---------------------------------------------------------------------------\u001b[0m",
      "\u001b[1;31mTypeError\u001b[0m                                 Traceback (most recent call last)",
      "\u001b[1;32mC:\\Users\\RANJAN~1\\AppData\\Local\\Temp/ipykernel_5768/269525647.py\u001b[0m in \u001b[0;36m<module>\u001b[1;34m\u001b[0m\n\u001b[1;32m----> 1\u001b[1;33m \u001b[0mt1\u001b[0m\u001b[1;33m[\u001b[0m\u001b[1;36m3\u001b[0m\u001b[1;33m]\u001b[0m\u001b[1;33m=\u001b[0m\u001b[1;36m9\u001b[0m\u001b[1;33m\u001b[0m\u001b[1;33m\u001b[0m\u001b[0m\n\u001b[0m",
      "\u001b[1;31mTypeError\u001b[0m: 'tuple' object does not support item assignment"
     ]
    }
   ],
   "source": [
    "t1[3]=9"
   ]
  },
  {
   "cell_type": "markdown",
   "id": "8eb63649",
   "metadata": {},
   "source": [
    "# Dictionary"
   ]
  },
  {
   "cell_type": "code",
   "execution_count": 9,
   "id": "0fd1141e",
   "metadata": {},
   "outputs": [],
   "source": [
    "dict1={'id':101,'Name':'Ram','Age':10}"
   ]
  },
  {
   "cell_type": "code",
   "execution_count": 10,
   "id": "e84ef606",
   "metadata": {},
   "outputs": [
    {
     "data": {
      "text/plain": [
       "{'id': 101, 'Name': 'Ram', 'Age': 10}"
      ]
     },
     "execution_count": 10,
     "metadata": {},
     "output_type": "execute_result"
    }
   ],
   "source": [
    "dict1"
   ]
  },
  {
   "cell_type": "code",
   "execution_count": 11,
   "id": "ed28b26a",
   "metadata": {},
   "outputs": [
    {
     "data": {
      "text/plain": [
       "101"
      ]
     },
     "execution_count": 11,
     "metadata": {},
     "output_type": "execute_result"
    }
   ],
   "source": [
    "dict1['id']"
   ]
  },
  {
   "cell_type": "code",
   "execution_count": 12,
   "id": "aad6af2a",
   "metadata": {},
   "outputs": [
    {
     "data": {
      "text/plain": [
       "'Ram'"
      ]
     },
     "execution_count": 12,
     "metadata": {},
     "output_type": "execute_result"
    }
   ],
   "source": [
    "dict1['Name']"
   ]
  },
  {
   "cell_type": "code",
   "execution_count": 13,
   "id": "b99687b6",
   "metadata": {},
   "outputs": [
    {
     "data": {
      "text/plain": [
       "10"
      ]
     },
     "execution_count": 13,
     "metadata": {},
     "output_type": "execute_result"
    }
   ],
   "source": [
    "dict1['Age']"
   ]
  },
  {
   "cell_type": "code",
   "execution_count": 14,
   "id": "d34ef31e",
   "metadata": {},
   "outputs": [
    {
     "data": {
      "text/plain": [
       "dict_keys(['id', 'Name', 'Age'])"
      ]
     },
     "execution_count": 14,
     "metadata": {},
     "output_type": "execute_result"
    }
   ],
   "source": [
    "dict1.keys()"
   ]
  },
  {
   "cell_type": "code",
   "execution_count": 15,
   "id": "31cb7329",
   "metadata": {},
   "outputs": [],
   "source": [
    "Mobiledict={'mobid':2,'mobilebrand':'Samsung','Mobileprice':10000}"
   ]
  },
  {
   "cell_type": "code",
   "execution_count": 16,
   "id": "78b1e249",
   "metadata": {},
   "outputs": [
    {
     "data": {
      "text/plain": [
       "{'mobid': 2, 'mobilebrand': 'Samsung', 'Mobileprice': 10000}"
      ]
     },
     "execution_count": 16,
     "metadata": {},
     "output_type": "execute_result"
    }
   ],
   "source": [
    "Mobiledict"
   ]
  },
  {
   "cell_type": "code",
   "execution_count": 17,
   "id": "02e32aea",
   "metadata": {},
   "outputs": [
    {
     "data": {
      "text/plain": [
       "2"
      ]
     },
     "execution_count": 17,
     "metadata": {},
     "output_type": "execute_result"
    }
   ],
   "source": [
    "Mobiledict['mobid']"
   ]
  },
  {
   "cell_type": "code",
   "execution_count": 18,
   "id": "59268fab",
   "metadata": {},
   "outputs": [
    {
     "data": {
      "text/plain": [
       "'Samsung'"
      ]
     },
     "execution_count": 18,
     "metadata": {},
     "output_type": "execute_result"
    }
   ],
   "source": [
    "Mobiledict['mobilebrand']"
   ]
  },
  {
   "cell_type": "code",
   "execution_count": 19,
   "id": "b7f68f88",
   "metadata": {},
   "outputs": [
    {
     "data": {
      "text/plain": [
       "'Samsung'"
      ]
     },
     "execution_count": 19,
     "metadata": {},
     "output_type": "execute_result"
    }
   ],
   "source": [
    "Mobiledict['mobilebrand']"
   ]
  },
  {
   "cell_type": "code",
   "execution_count": 20,
   "id": "c4c192c6",
   "metadata": {},
   "outputs": [],
   "source": [
    "Mobiledict['mobilebrand']='Apple'"
   ]
  },
  {
   "cell_type": "code",
   "execution_count": 21,
   "id": "28770f92",
   "metadata": {},
   "outputs": [
    {
     "data": {
      "text/plain": [
       "10000"
      ]
     },
     "execution_count": 21,
     "metadata": {},
     "output_type": "execute_result"
    }
   ],
   "source": [
    "Mobiledict['Mobileprice'] "
   ]
  },
  {
   "cell_type": "code",
   "execution_count": 22,
   "id": "086a2b0f",
   "metadata": {},
   "outputs": [
    {
     "data": {
      "text/plain": [
       "dict_keys(['mobid', 'mobilebrand', 'Mobileprice'])"
      ]
     },
     "execution_count": 22,
     "metadata": {},
     "output_type": "execute_result"
    }
   ],
   "source": [
    "Mobiledict.keys()"
   ]
  },
  {
   "cell_type": "code",
   "execution_count": 23,
   "id": "7b38e509",
   "metadata": {},
   "outputs": [
    {
     "data": {
      "text/plain": [
       "dict_values([2, 'Apple', 10000])"
      ]
     },
     "execution_count": 23,
     "metadata": {},
     "output_type": "execute_result"
    }
   ],
   "source": [
    "Mobiledict.values()"
   ]
  },
  {
   "cell_type": "code",
   "execution_count": 24,
   "id": "530563aa",
   "metadata": {},
   "outputs": [
    {
     "data": {
      "text/plain": [
       "dict_items([('mobid', 2), ('mobilebrand', 'Apple'), ('Mobileprice', 10000)])"
      ]
     },
     "execution_count": 24,
     "metadata": {},
     "output_type": "execute_result"
    }
   ],
   "source": [
    "Mobiledict.items()"
   ]
  },
  {
   "cell_type": "code",
   "execution_count": 25,
   "id": "52905c24",
   "metadata": {},
   "outputs": [],
   "source": [
    "empdict={'empid':201,'Name':'Anuj','Position':'Manager'}"
   ]
  },
  {
   "cell_type": "code",
   "execution_count": 26,
   "id": "13e653aa",
   "metadata": {},
   "outputs": [
    {
     "data": {
      "text/plain": [
       "{'empid': 201, 'Name': 'Anuj', 'Position': 'Manager'}"
      ]
     },
     "execution_count": 26,
     "metadata": {},
     "output_type": "execute_result"
    }
   ],
   "source": [
    "empdict"
   ]
  },
  {
   "cell_type": "code",
   "execution_count": 27,
   "id": "695156a2",
   "metadata": {},
   "outputs": [
    {
     "data": {
      "text/plain": [
       "201"
      ]
     },
     "execution_count": 27,
     "metadata": {},
     "output_type": "execute_result"
    }
   ],
   "source": [
    "empdict['empid']"
   ]
  },
  {
   "cell_type": "code",
   "execution_count": 28,
   "id": "b5602061",
   "metadata": {},
   "outputs": [
    {
     "data": {
      "text/plain": [
       "'Anuj'"
      ]
     },
     "execution_count": 28,
     "metadata": {},
     "output_type": "execute_result"
    }
   ],
   "source": [
    "empdict['Name']"
   ]
  },
  {
   "cell_type": "code",
   "execution_count": 29,
   "id": "bb89f663",
   "metadata": {},
   "outputs": [
    {
     "data": {
      "text/plain": [
       "'Manager'"
      ]
     },
     "execution_count": 29,
     "metadata": {},
     "output_type": "execute_result"
    }
   ],
   "source": [
    "empdict['Position']"
   ]
  },
  {
   "cell_type": "code",
   "execution_count": 30,
   "id": "737acbac",
   "metadata": {},
   "outputs": [],
   "source": [
    "empdict.update({'salary':100000})"
   ]
  },
  {
   "cell_type": "code",
   "execution_count": 31,
   "id": "4a8a4e8f",
   "metadata": {},
   "outputs": [
    {
     "data": {
      "text/plain": [
       "{'empid': 201, 'Name': 'Anuj', 'Position': 'Manager', 'salary': 100000}"
      ]
     },
     "execution_count": 31,
     "metadata": {},
     "output_type": "execute_result"
    }
   ],
   "source": [
    "empdict"
   ]
  },
  {
   "cell_type": "code",
   "execution_count": 32,
   "id": "1bc9d4b0",
   "metadata": {},
   "outputs": [
    {
     "data": {
      "text/plain": [
       "dict_keys(['empid', 'Name', 'Position', 'salary'])"
      ]
     },
     "execution_count": 32,
     "metadata": {},
     "output_type": "execute_result"
    }
   ],
   "source": [
    "empdict.keys()"
   ]
  },
  {
   "cell_type": "code",
   "execution_count": 33,
   "id": "3c8b86df",
   "metadata": {},
   "outputs": [
    {
     "data": {
      "text/plain": [
       "dict_values([201, 'Anuj', 'Manager', 100000])"
      ]
     },
     "execution_count": 33,
     "metadata": {},
     "output_type": "execute_result"
    }
   ],
   "source": [
    "empdict.values()"
   ]
  },
  {
   "cell_type": "code",
   "execution_count": 34,
   "id": "ee1d47cb",
   "metadata": {},
   "outputs": [
    {
     "data": {
      "text/plain": [
       "dict_items([('empid', 201), ('Name', 'Anuj'), ('Position', 'Manager'), ('salary', 100000)])"
      ]
     },
     "execution_count": 34,
     "metadata": {},
     "output_type": "execute_result"
    }
   ],
   "source": [
    "empdict.items()"
   ]
  },
  {
   "cell_type": "code",
   "execution_count": 35,
   "id": "50d2e2c4",
   "metadata": {},
   "outputs": [],
   "source": [
    "empdict['salary2']=200000"
   ]
  },
  {
   "cell_type": "code",
   "execution_count": 36,
   "id": "92cdde86",
   "metadata": {},
   "outputs": [
    {
     "data": {
      "text/plain": [
       "{'empid': 201,\n",
       " 'Name': 'Anuj',\n",
       " 'Position': 'Manager',\n",
       " 'salary': 100000,\n",
       " 'salary2': 200000}"
      ]
     },
     "execution_count": 36,
     "metadata": {},
     "output_type": "execute_result"
    }
   ],
   "source": [
    "empdict"
   ]
  },
  {
   "cell_type": "code",
   "execution_count": 37,
   "id": "890dcc17",
   "metadata": {},
   "outputs": [],
   "source": [
    "empdict['salary']=500000"
   ]
  },
  {
   "cell_type": "code",
   "execution_count": 38,
   "id": "8f0ff96f",
   "metadata": {},
   "outputs": [
    {
     "data": {
      "text/plain": [
       "{'empid': 201,\n",
       " 'Name': 'Anuj',\n",
       " 'Position': 'Manager',\n",
       " 'salary': 500000,\n",
       " 'salary2': 200000}"
      ]
     },
     "execution_count": 38,
     "metadata": {},
     "output_type": "execute_result"
    }
   ],
   "source": [
    "empdict"
   ]
  },
  {
   "cell_type": "code",
   "execution_count": 39,
   "id": "e4e87b59",
   "metadata": {},
   "outputs": [
    {
     "data": {
      "text/plain": [
       "5"
      ]
     },
     "execution_count": 39,
     "metadata": {},
     "output_type": "execute_result"
    }
   ],
   "source": [
    "len(empdict)"
   ]
  },
  {
   "cell_type": "code",
   "execution_count": 40,
   "id": "00162293",
   "metadata": {},
   "outputs": [],
   "source": [
    "del empdict['empid']"
   ]
  },
  {
   "cell_type": "code",
   "execution_count": 41,
   "id": "6c68905c",
   "metadata": {},
   "outputs": [
    {
     "data": {
      "text/plain": [
       "{'Name': 'Anuj', 'Position': 'Manager', 'salary': 500000, 'salary2': 200000}"
      ]
     },
     "execution_count": 41,
     "metadata": {},
     "output_type": "execute_result"
    }
   ],
   "source": [
    "empdict"
   ]
  },
  {
   "cell_type": "code",
   "execution_count": 42,
   "id": "1d5c960f",
   "metadata": {},
   "outputs": [
    {
     "data": {
      "text/plain": [
       "'Manager'"
      ]
     },
     "execution_count": 42,
     "metadata": {},
     "output_type": "execute_result"
    }
   ],
   "source": [
    "empdict.pop('Position')"
   ]
  },
  {
   "cell_type": "code",
   "execution_count": 43,
   "id": "25b0a987",
   "metadata": {},
   "outputs": [
    {
     "data": {
      "text/plain": [
       "{'Name': 'Anuj', 'salary': 500000, 'salary2': 200000}"
      ]
     },
     "execution_count": 43,
     "metadata": {},
     "output_type": "execute_result"
    }
   ],
   "source": [
    "empdict"
   ]
  },
  {
   "cell_type": "markdown",
   "id": "9913c145",
   "metadata": {},
   "source": [
    "Enhanced operation in dictionary"
   ]
  },
  {
   "cell_type": "code",
   "execution_count": 44,
   "id": "512919fd",
   "metadata": {},
   "outputs": [],
   "source": [
    "#dictionary with integer keys:\n",
    "intdict={10:'c++',20:'Java',30:'Python',40:'Ruby'}"
   ]
  },
  {
   "cell_type": "code",
   "execution_count": 45,
   "id": "157501c2",
   "metadata": {},
   "outputs": [
    {
     "data": {
      "text/plain": [
       "dict_keys([10, 20, 30, 40])"
      ]
     },
     "execution_count": 45,
     "metadata": {},
     "output_type": "execute_result"
    }
   ],
   "source": [
    "intdict.keys()"
   ]
  },
  {
   "cell_type": "code",
   "execution_count": 46,
   "id": "438980f3",
   "metadata": {},
   "outputs": [
    {
     "data": {
      "text/plain": [
       "dict_values(['c++', 'Java', 'Python', 'Ruby'])"
      ]
     },
     "execution_count": 46,
     "metadata": {},
     "output_type": "execute_result"
    }
   ],
   "source": [
    "intdict.values()"
   ]
  },
  {
   "cell_type": "code",
   "execution_count": 47,
   "id": "bdd8f235",
   "metadata": {},
   "outputs": [
    {
     "data": {
      "text/plain": [
       "dict_items([(10, 'c++'), (20, 'Java'), (30, 'Python'), (40, 'Ruby')])"
      ]
     },
     "execution_count": 47,
     "metadata": {},
     "output_type": "execute_result"
    }
   ],
   "source": [
    "intdict.items()"
   ]
  },
  {
   "cell_type": "code",
   "execution_count": 48,
   "id": "d6854f1f",
   "metadata": {},
   "outputs": [],
   "source": [
    "#adding new key to a dictionary\n",
    "intdict[50]='Rails'"
   ]
  },
  {
   "cell_type": "code",
   "execution_count": 49,
   "id": "7b64095b",
   "metadata": {},
   "outputs": [
    {
     "data": {
      "text/plain": [
       "{10: 'c++', 20: 'Java', 30: 'Python', 40: 'Ruby', 50: 'Rails'}"
      ]
     },
     "execution_count": 49,
     "metadata": {},
     "output_type": "execute_result"
    }
   ],
   "source": [
    "intdict"
   ]
  },
  {
   "cell_type": "code",
   "execution_count": 50,
   "id": "4ff28121",
   "metadata": {},
   "outputs": [],
   "source": [
    "intdict.update({60:'SAP'})"
   ]
  },
  {
   "cell_type": "code",
   "execution_count": 51,
   "id": "41cf589a",
   "metadata": {},
   "outputs": [
    {
     "data": {
      "text/plain": [
       "{10: 'c++', 20: 'Java', 30: 'Python', 40: 'Ruby', 50: 'Rails', 60: 'SAP'}"
      ]
     },
     "execution_count": 51,
     "metadata": {},
     "output_type": "execute_result"
    }
   ],
   "source": [
    "intdict"
   ]
  },
  {
   "cell_type": "code",
   "execution_count": 52,
   "id": "6545d935",
   "metadata": {},
   "outputs": [],
   "source": [
    "#updating a value in given key\n",
    "intdict[40]='MS Office'"
   ]
  },
  {
   "cell_type": "code",
   "execution_count": 53,
   "id": "bb6b84e1",
   "metadata": {},
   "outputs": [
    {
     "data": {
      "text/plain": [
       "{10: 'c++', 20: 'Java', 30: 'Python', 40: 'MS Office', 50: 'Rails', 60: 'SAP'}"
      ]
     },
     "execution_count": 53,
     "metadata": {},
     "output_type": "execute_result"
    }
   ],
   "source": [
    "intdict"
   ]
  },
  {
   "cell_type": "code",
   "execution_count": 54,
   "id": "4907a8d2",
   "metadata": {},
   "outputs": [],
   "source": [
    "# delete a key\n",
    "del intdict[40]"
   ]
  },
  {
   "cell_type": "code",
   "execution_count": 55,
   "id": "f7ed8990",
   "metadata": {},
   "outputs": [
    {
     "data": {
      "text/plain": [
       "{10: 'c++', 20: 'Java', 30: 'Python', 50: 'Rails', 60: 'SAP'}"
      ]
     },
     "execution_count": 55,
     "metadata": {},
     "output_type": "execute_result"
    }
   ],
   "source": [
    "intdict"
   ]
  },
  {
   "cell_type": "code",
   "execution_count": 56,
   "id": "5b0fea5b",
   "metadata": {},
   "outputs": [
    {
     "data": {
      "text/plain": [
       "'SAP'"
      ]
     },
     "execution_count": 56,
     "metadata": {},
     "output_type": "execute_result"
    }
   ],
   "source": [
    "# delete with pop\n",
    "intdict.pop(60)"
   ]
  },
  {
   "cell_type": "code",
   "execution_count": 57,
   "id": "aaf32afd",
   "metadata": {},
   "outputs": [
    {
     "data": {
      "text/plain": [
       "{10: 'c++', 20: 'Java', 30: 'Python', 50: 'Rails'}"
      ]
     },
     "execution_count": 57,
     "metadata": {},
     "output_type": "execute_result"
    }
   ],
   "source": [
    "intdict"
   ]
  },
  {
   "cell_type": "code",
   "execution_count": 58,
   "id": "f57e6298",
   "metadata": {},
   "outputs": [
    {
     "data": {
      "text/plain": [
       "{'id': [1, 2, 3, 4],\n",
       " 'Name': ['Chandan', 'Ranjan', 'Aryan', 'Naitik'],\n",
       " 'Grade': ['Firts', 'Second', 'Third', 'Fourth']}"
      ]
     },
     "execution_count": 58,
     "metadata": {},
     "output_type": "execute_result"
    }
   ],
   "source": [
    "dict2={'id':[1,2,3,4],'Name':['Chandan','Ranjan','Aryan','Naitik'],'Grade':['Firts','Second','Third','Fourth']}\n",
    "dict2"
   ]
  },
  {
   "cell_type": "code",
   "execution_count": 59,
   "id": "69a269f3",
   "metadata": {},
   "outputs": [
    {
     "data": {
      "text/plain": [
       "[1, 2, 3, 4]"
      ]
     },
     "execution_count": 59,
     "metadata": {},
     "output_type": "execute_result"
    }
   ],
   "source": [
    "dict2['id']"
   ]
  },
  {
   "cell_type": "code",
   "execution_count": 60,
   "id": "d776a38c",
   "metadata": {},
   "outputs": [
    {
     "data": {
      "text/plain": [
       "['Chandan', 'Ranjan', 'Aryan', 'Naitik']"
      ]
     },
     "execution_count": 60,
     "metadata": {},
     "output_type": "execute_result"
    }
   ],
   "source": [
    "dict2['Name']"
   ]
  },
  {
   "cell_type": "code",
   "execution_count": 61,
   "id": "8b374cc4",
   "metadata": {},
   "outputs": [
    {
     "data": {
      "text/plain": [
       "['Firts', 'Second', 'Third', 'Fourth']"
      ]
     },
     "execution_count": 61,
     "metadata": {},
     "output_type": "execute_result"
    }
   ],
   "source": [
    "dict2['Grade']"
   ]
  },
  {
   "cell_type": "code",
   "execution_count": 62,
   "id": "3bbf30c6",
   "metadata": {},
   "outputs": [
    {
     "data": {
      "text/plain": [
       "dict_keys(['id', 'Name', 'Grade'])"
      ]
     },
     "execution_count": 62,
     "metadata": {},
     "output_type": "execute_result"
    }
   ],
   "source": [
    "dict2.keys()"
   ]
  },
  {
   "cell_type": "code",
   "execution_count": 63,
   "id": "dfecae6e",
   "metadata": {},
   "outputs": [
    {
     "data": {
      "text/plain": [
       "dict_values([[1, 2, 3, 4], ['Chandan', 'Ranjan', 'Aryan', 'Naitik'], ['Firts', 'Second', 'Third', 'Fourth']])"
      ]
     },
     "execution_count": 63,
     "metadata": {},
     "output_type": "execute_result"
    }
   ],
   "source": [
    "dict2.values()"
   ]
  },
  {
   "cell_type": "code",
   "execution_count": 64,
   "id": "cd02e8a9",
   "metadata": {},
   "outputs": [
    {
     "data": {
      "text/plain": [
       "dict_items([('id', [1, 2, 3, 4]), ('Name', ['Chandan', 'Ranjan', 'Aryan', 'Naitik']), ('Grade', ['Firts', 'Second', 'Third', 'Fourth'])])"
      ]
     },
     "execution_count": 64,
     "metadata": {},
     "output_type": "execute_result"
    }
   ],
   "source": [
    "dict2.items()"
   ]
  },
  {
   "cell_type": "code",
   "execution_count": 65,
   "id": "a86a9001",
   "metadata": {},
   "outputs": [],
   "source": [
    "#Change Grade\n",
    "dict2['Grade']=[100,90,80,70]"
   ]
  },
  {
   "cell_type": "code",
   "execution_count": 66,
   "id": "2ed15ffa",
   "metadata": {},
   "outputs": [
    {
     "data": {
      "text/plain": [
       "{'id': [1, 2, 3, 4],\n",
       " 'Name': ['Chandan', 'Ranjan', 'Aryan', 'Naitik'],\n",
       " 'Grade': [100, 90, 80, 70]}"
      ]
     },
     "execution_count": 66,
     "metadata": {},
     "output_type": "execute_result"
    }
   ],
   "source": [
    "dict2"
   ]
  },
  {
   "cell_type": "markdown",
   "id": "68b4452f",
   "metadata": {},
   "source": [
    "# SETS"
   ]
  },
  {
   "cell_type": "code",
   "execution_count": 67,
   "id": "9d17f371",
   "metadata": {},
   "outputs": [
    {
     "data": {
      "text/plain": [
       "{2, 4, 5, 6, 7, 8, 9}"
      ]
     },
     "execution_count": 67,
     "metadata": {},
     "output_type": "execute_result"
    }
   ],
   "source": [
    "x={4,6,7,2,8,9,2,4,5}\n",
    "x"
   ]
  },
  {
   "cell_type": "code",
   "execution_count": 68,
   "id": "81e2c982",
   "metadata": {},
   "outputs": [],
   "source": [
    "y=set()"
   ]
  },
  {
   "cell_type": "code",
   "execution_count": 69,
   "id": "30233c2d",
   "metadata": {},
   "outputs": [
    {
     "data": {
      "text/plain": [
       "set"
      ]
     },
     "execution_count": 69,
     "metadata": {},
     "output_type": "execute_result"
    }
   ],
   "source": [
    "type(y)"
   ]
  },
  {
   "cell_type": "code",
   "execution_count": 70,
   "id": "da7c0e4f",
   "metadata": {},
   "outputs": [],
   "source": [
    "# we add to sets with the add () method\n",
    "y.add(1)"
   ]
  },
  {
   "cell_type": "code",
   "execution_count": 71,
   "id": "57d7bd6c",
   "metadata": {},
   "outputs": [
    {
     "data": {
      "text/plain": [
       "{1}"
      ]
     },
     "execution_count": 71,
     "metadata": {},
     "output_type": "execute_result"
    }
   ],
   "source": [
    "y"
   ]
  },
  {
   "cell_type": "markdown",
   "id": "34d6008b",
   "metadata": {},
   "source": [
    "The curly breackets do not indicate the dictionary."
   ]
  },
  {
   "cell_type": "code",
   "execution_count": 72,
   "id": "d1c8014b",
   "metadata": {},
   "outputs": [],
   "source": [
    "y.add(2)"
   ]
  },
  {
   "cell_type": "code",
   "execution_count": 73,
   "id": "95d96abc",
   "metadata": {},
   "outputs": [
    {
     "data": {
      "text/plain": [
       "{1, 2}"
      ]
     },
     "execution_count": 73,
     "metadata": {},
     "output_type": "execute_result"
    }
   ],
   "source": [
    "y"
   ]
  },
  {
   "cell_type": "code",
   "execution_count": 74,
   "id": "45eb6897",
   "metadata": {},
   "outputs": [
    {
     "data": {
      "text/plain": [
       "{0, 1, 4, 6, 33, 40, 56}"
      ]
     },
     "execution_count": 74,
     "metadata": {},
     "output_type": "execute_result"
    }
   ],
   "source": [
    "x={4,33,40,56,0,1,4,6,6}\n",
    "x"
   ]
  },
  {
   "cell_type": "code",
   "execution_count": 75,
   "id": "9e7fe6c8",
   "metadata": {},
   "outputs": [
    {
     "data": {
      "text/plain": [
       "{'Aryan', 'Chandan', 'Naitik', 'Ranjan', 'Saurya', 'Yug'}"
      ]
     },
     "execution_count": 75,
     "metadata": {},
     "output_type": "execute_result"
    }
   ],
   "source": [
    "y=['Chandan','Ranjan','Aryan','Naitik','Saurya','Yug','Yug','Saurya','Naitik','Aryan']\n",
    "set(y)"
   ]
  },
  {
   "cell_type": "code",
   "execution_count": 76,
   "id": "cc3d1a2c",
   "metadata": {},
   "outputs": [
    {
     "data": {
      "text/plain": [
       "{1, 2, 4, 5, 6, 8, 10}"
      ]
     },
     "execution_count": 76,
     "metadata": {},
     "output_type": "execute_result"
    }
   ],
   "source": [
    "y=set([1,2,5,6,8,10,4,5,6,2,8])\n",
    "y"
   ]
  },
  {
   "cell_type": "code",
   "execution_count": 77,
   "id": "66ba83cd",
   "metadata": {
    "scrolled": true
   },
   "outputs": [
    {
     "ename": "TypeError",
     "evalue": "'set' object does not support item assignment",
     "output_type": "error",
     "traceback": [
      "\u001b[1;31m---------------------------------------------------------------------------\u001b[0m",
      "\u001b[1;31mTypeError\u001b[0m                                 Traceback (most recent call last)",
      "\u001b[1;32mC:\\Users\\RANJAN~1\\AppData\\Local\\Temp/ipykernel_5768/3425811502.py\u001b[0m in \u001b[0;36m<module>\u001b[1;34m\u001b[0m\n\u001b[0;32m      1\u001b[0m \u001b[1;31m# We can not modify\u001b[0m\u001b[1;33m\u001b[0m\u001b[1;33m\u001b[0m\u001b[0m\n\u001b[1;32m----> 2\u001b[1;33m \u001b[0mx\u001b[0m\u001b[1;33m[\u001b[0m\u001b[1;36m4\u001b[0m\u001b[1;33m]\u001b[0m\u001b[1;33m=\u001b[0m\u001b[1;36m100\u001b[0m\u001b[1;33m\u001b[0m\u001b[1;33m\u001b[0m\u001b[0m\n\u001b[0m\u001b[0;32m      3\u001b[0m \u001b[0mx\u001b[0m\u001b[1;33m\u001b[0m\u001b[1;33m\u001b[0m\u001b[0m\n",
      "\u001b[1;31mTypeError\u001b[0m: 'set' object does not support item assignment"
     ]
    }
   ],
   "source": [
    "# We can not modify\n",
    "x[4]=100\n",
    "x"
   ]
  },
  {
   "cell_type": "code",
   "execution_count": 99,
   "id": "336ca91a",
   "metadata": {},
   "outputs": [
    {
     "data": {
      "text/plain": [
       "{'Mon', 'Thu', 'Tue', 'Wed'}"
      ]
     },
     "execution_count": 99,
     "metadata": {},
     "output_type": "execute_result"
    }
   ],
   "source": [
    "days={'Mon','Tue','Wed','Thu','Mon'}\n",
    "set(days)"
   ]
  },
  {
   "cell_type": "code",
   "execution_count": 100,
   "id": "9fd13421",
   "metadata": {},
   "outputs": [
    {
     "data": {
      "text/plain": [
       "{'Mon', 'Sun', 'Thu', 'Tue', 'Wed'}"
      ]
     },
     "execution_count": 100,
     "metadata": {},
     "output_type": "execute_result"
    }
   ],
   "source": [
    "days.add('Sun')\n",
    "days"
   ]
  },
  {
   "cell_type": "code",
   "execution_count": 80,
   "id": "586f465a",
   "metadata": {},
   "outputs": [
    {
     "data": {
      "text/plain": [
       "set"
      ]
     },
     "execution_count": 80,
     "metadata": {},
     "output_type": "execute_result"
    }
   ],
   "source": [
    "days={'Mon','Tue','Wed','Thu','Mon'}\n",
    "type(days)"
   ]
  },
  {
   "cell_type": "code",
   "execution_count": 81,
   "id": "fc282eb5",
   "metadata": {},
   "outputs": [],
   "source": [
    "days.add('Sun')"
   ]
  },
  {
   "cell_type": "code",
   "execution_count": 82,
   "id": "0ba0cdde",
   "metadata": {},
   "outputs": [
    {
     "data": {
      "text/plain": [
       "{'Mon', 'Sun', 'Thu', 'Tue', 'Wed'}"
      ]
     },
     "execution_count": 82,
     "metadata": {},
     "output_type": "execute_result"
    }
   ],
   "source": [
    "days"
   ]
  },
  {
   "cell_type": "code",
   "execution_count": 93,
   "id": "0bb39ccc",
   "metadata": {},
   "outputs": [],
   "source": [
    "x.add(100)"
   ]
  },
  {
   "cell_type": "code",
   "execution_count": 94,
   "id": "2eb5c490",
   "metadata": {},
   "outputs": [
    {
     "data": {
      "text/plain": [
       "{0, 1, 4, 6, 33, 40, 56, 100}"
      ]
     },
     "execution_count": 94,
     "metadata": {},
     "output_type": "execute_result"
    }
   ],
   "source": [
    "x"
   ]
  },
  {
   "cell_type": "code",
   "execution_count": 97,
   "id": "cd65c6d8",
   "metadata": {},
   "outputs": [],
   "source": [
    "days.remove('Tue')"
   ]
  },
  {
   "cell_type": "code",
   "execution_count": 98,
   "id": "a520ab70",
   "metadata": {},
   "outputs": [
    {
     "data": {
      "text/plain": [
       "{'Sun', 'Thu'}"
      ]
     },
     "execution_count": 98,
     "metadata": {},
     "output_type": "execute_result"
    }
   ],
   "source": [
    "days"
   ]
  },
  {
   "cell_type": "code",
   "execution_count": 87,
   "id": "77793483",
   "metadata": {},
   "outputs": [
    {
     "data": {
      "text/plain": [
       "'Mon'"
      ]
     },
     "execution_count": 87,
     "metadata": {},
     "output_type": "execute_result"
    }
   ],
   "source": [
    "days.pop()"
   ]
  },
  {
   "cell_type": "code",
   "execution_count": 88,
   "id": "6606c6f2",
   "metadata": {},
   "outputs": [
    {
     "data": {
      "text/plain": [
       "{'Sun', 'Thu', 'Tue'}"
      ]
     },
     "execution_count": 88,
     "metadata": {},
     "output_type": "execute_result"
    }
   ],
   "source": [
    "days"
   ]
  },
  {
   "cell_type": "code",
   "execution_count": null,
   "id": "34e858b9",
   "metadata": {},
   "outputs": [],
   "source": [
    "days.clear()\n",
    "days"
   ]
  },
  {
   "cell_type": "code",
   "execution_count": null,
   "id": "7b8dd7ae",
   "metadata": {},
   "outputs": [],
   "source": []
  }
 ],
 "metadata": {
  "kernelspec": {
   "display_name": "Python 3 (ipykernel)",
   "language": "python",
   "name": "python3"
  },
  "language_info": {
   "codemirror_mode": {
    "name": "ipython",
    "version": 3
   },
   "file_extension": ".py",
   "mimetype": "text/x-python",
   "name": "python",
   "nbconvert_exporter": "python",
   "pygments_lexer": "ipython3",
   "version": "3.9.7"
  }
 },
 "nbformat": 4,
 "nbformat_minor": 5
}
