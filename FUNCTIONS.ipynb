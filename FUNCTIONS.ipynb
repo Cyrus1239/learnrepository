{
 "cells": [
  {
   "cell_type": "markdown",
   "id": "1abaafbe",
   "metadata": {},
   "source": [
    "PREDEFINED FUNCTIONS"
   ]
  },
  {
   "cell_type": "code",
   "execution_count": 1,
   "id": "bb86c946",
   "metadata": {},
   "outputs": [
    {
     "name": "stdout",
     "output_type": "stream",
     "text": [
      "\n",
      "Welcome to Python 3.9's help utility!\n",
      "\n",
      "If this is your first time using Python, you should definitely check out\n",
      "the tutorial on the Internet at https://docs.python.org/3.9/tutorial/.\n",
      "\n",
      "Enter the name of any module, keyword, or topic to get help on writing\n",
      "Python programs and using Python modules.  To quit this help utility and\n",
      "return to the interpreter, just type \"quit\".\n",
      "\n",
      "To get a list of available modules, keywords, symbols, or topics, type\n",
      "\"modules\", \"keywords\", \"symbols\", or \"topics\".  Each module also comes\n",
      "with a one-line summary of what it does; to list the modules whose name\n",
      "or summary contain a given string such as \"spam\", type \"modules spam\".\n",
      "\n",
      "help> keywords\n",
      "\n",
      "Here is a list of the Python keywords.  Enter any keyword to get more help.\n",
      "\n",
      "False               break               for                 not\n",
      "None                class               from                or\n",
      "True                continue            global              pass\n",
      "__peg_parser__      def                 if                  raise\n",
      "and                 del                 import              return\n",
      "as                  elif                in                  try\n",
      "assert              else                is                  while\n",
      "async               except              lambda              with\n",
      "await               finally             nonlocal            yield\n",
      "\n",
      "\n",
      "You are now leaving help and returning to the Python interpreter.\n",
      "If you want to ask for help on a particular object directly from the\n",
      "interpreter, you can type \"help(object)\".  Executing \"help('string')\"\n",
      "has the same effect as typing a particular string at the help> prompt.\n"
     ]
    }
   ],
   "source": [
    "help()"
   ]
  },
  {
   "cell_type": "code",
   "execution_count": null,
   "id": "efa06bc9",
   "metadata": {},
   "outputs": [],
   "source": [
    "k=[40,30,44,90,100]\n",
    "min(k)"
   ]
  },
  {
   "cell_type": "code",
   "execution_count": null,
   "id": "f276067c",
   "metadata": {},
   "outputs": [],
   "source": [
    "max(k)"
   ]
  },
  {
   "cell_type": "markdown",
   "id": "45a5e772",
   "metadata": {},
   "source": [
    "USER DEFINED FUNCTIONS"
   ]
  },
  {
   "cell_type": "code",
   "execution_count": 4,
   "id": "1fe7156a",
   "metadata": {},
   "outputs": [],
   "source": [
    "# function definition\n",
    "\n",
    "def function1():\n",
    "    print('Learning functions')"
   ]
  },
  {
   "cell_type": "code",
   "execution_count": 5,
   "id": "59d95644",
   "metadata": {},
   "outputs": [
    {
     "name": "stdout",
     "output_type": "stream",
     "text": [
      "Learning functions\n"
     ]
    }
   ],
   "source": [
    "# function calling\n",
    "function1()"
   ]
  },
  {
   "cell_type": "code",
   "execution_count": 6,
   "id": "f1b39e69",
   "metadata": {},
   "outputs": [],
   "source": [
    "def myfunction():\n",
    "    print('Learning function2')"
   ]
  },
  {
   "cell_type": "code",
   "execution_count": 7,
   "id": "fd098859",
   "metadata": {},
   "outputs": [
    {
     "name": "stdout",
     "output_type": "stream",
     "text": [
      "Learning function2\n"
     ]
    }
   ],
   "source": [
    "myfunction()"
   ]
  },
  {
   "cell_type": "code",
   "execution_count": 8,
   "id": "e4119c5a",
   "metadata": {},
   "outputs": [],
   "source": [
    "def addition():\n",
    "    a=10\n",
    "    b=5\n",
    "    c=a+b\n",
    "    print('c=',c)"
   ]
  },
  {
   "cell_type": "code",
   "execution_count": 9,
   "id": "3150c781",
   "metadata": {},
   "outputs": [
    {
     "name": "stdout",
     "output_type": "stream",
     "text": [
      "c= 15\n"
     ]
    }
   ],
   "source": [
    "addition()"
   ]
  },
  {
   "cell_type": "code",
   "execution_count": 10,
   "id": "8021ddf1",
   "metadata": {},
   "outputs": [],
   "source": [
    "x=3\n",
    "y=4\n",
    "def add():\n",
    "    print(x+y)"
   ]
  },
  {
   "cell_type": "code",
   "execution_count": 11,
   "id": "2189cb02",
   "metadata": {},
   "outputs": [
    {
     "name": "stdout",
     "output_type": "stream",
     "text": [
      "7\n"
     ]
    }
   ],
   "source": [
    "add()"
   ]
  },
  {
   "cell_type": "code",
   "execution_count": 12,
   "id": "263c6a15",
   "metadata": {},
   "outputs": [
    {
     "name": "stdout",
     "output_type": "stream",
     "text": [
      "Learning functions\n"
     ]
    }
   ],
   "source": [
    "# calling anywhere from this list\n",
    "function1()"
   ]
  },
  {
   "cell_type": "code",
   "execution_count": 13,
   "id": "79060acf",
   "metadata": {},
   "outputs": [],
   "source": [
    "def substraction():\n",
    "    a=50\n",
    "    b=10\n",
    "    c=a-b\n",
    "    print('c=',c)"
   ]
  },
  {
   "cell_type": "code",
   "execution_count": 14,
   "id": "95ef0eee",
   "metadata": {},
   "outputs": [
    {
     "name": "stdout",
     "output_type": "stream",
     "text": [
      "c= 40\n"
     ]
    }
   ],
   "source": [
    "substraction()"
   ]
  },
  {
   "cell_type": "code",
   "execution_count": 15,
   "id": "83400aae",
   "metadata": {},
   "outputs": [],
   "source": [
    "def multiply():\n",
    "    a=50\n",
    "    b=10\n",
    "    c=a*b\n",
    "    print('c=',c)"
   ]
  },
  {
   "cell_type": "code",
   "execution_count": 16,
   "id": "99ac4cd3",
   "metadata": {},
   "outputs": [
    {
     "name": "stdout",
     "output_type": "stream",
     "text": [
      "c= 500\n"
     ]
    }
   ],
   "source": [
    "multiply()"
   ]
  },
  {
   "cell_type": "code",
   "execution_count": 17,
   "id": "bf10d1b0",
   "metadata": {},
   "outputs": [],
   "source": [
    "def powerfunc():\n",
    "    x=6\n",
    "    print('The square of',x,'is=',x**2)"
   ]
  },
  {
   "cell_type": "code",
   "execution_count": 18,
   "id": "bad0a466",
   "metadata": {},
   "outputs": [
    {
     "name": "stdout",
     "output_type": "stream",
     "text": [
      "The square of 6 is= 36\n"
     ]
    }
   ],
   "source": [
    "powerfunc()"
   ]
  },
  {
   "cell_type": "code",
   "execution_count": 19,
   "id": "5bcfc9c2",
   "metadata": {},
   "outputs": [],
   "source": [
    "def myaddition():\n",
    "    x=int(input('Enter any value'))\n",
    "    y=int(input('Enter any value'))\n",
    "    result=x+y\n",
    "    print('The value of addition=',result)"
   ]
  },
  {
   "cell_type": "code",
   "execution_count": 20,
   "id": "692a6aa3",
   "metadata": {},
   "outputs": [
    {
     "name": "stdout",
     "output_type": "stream",
     "text": [
      "Enter any value6\n",
      "Enter any value2\n",
      "The value of addition= 8\n"
     ]
    }
   ],
   "source": [
    "myaddition()"
   ]
  },
  {
   "cell_type": "code",
   "execution_count": 24,
   "id": "9d9e3880",
   "metadata": {},
   "outputs": [],
   "source": [
    "def area_of_circle():\n",
    "    pi=3.14\n",
    "    radius=7\n",
    "    area=pi*(radius**2)\n",
    "    print('Area of circle=',area)"
   ]
  },
  {
   "cell_type": "code",
   "execution_count": 25,
   "id": "7a4087bb",
   "metadata": {},
   "outputs": [
    {
     "name": "stdout",
     "output_type": "stream",
     "text": [
      "Area of circle= 153.86\n"
     ]
    }
   ],
   "source": [
    "area_of_circle()"
   ]
  },
  {
   "cell_type": "code",
   "execution_count": 23,
   "id": "915367c4",
   "metadata": {},
   "outputs": [
    {
     "ename": "SyntaxError",
     "evalue": "invalid syntax (Temp/ipykernel_10168/1507372522.py, line 1)",
     "output_type": "error",
     "traceback": [
      "\u001b[1;36m  File \u001b[1;32m\"C:\\Users\\RANJAN~1\\AppData\\Local\\Temp/ipykernel_10168/1507372522.py\"\u001b[1;36m, line \u001b[1;32m1\u001b[0m\n\u001b[1;33m    def area of circle():\u001b[0m\n\u001b[1;37m             ^\u001b[0m\n\u001b[1;31mSyntaxError\u001b[0m\u001b[1;31m:\u001b[0m invalid syntax\n"
     ]
    }
   ],
   "source": [
    "def area of circle():\n",
    "    pi=3.14\n",
    "    radius=7\n",
    "    area=pi*(radius**2)\n",
    "    print('Area of circle=',area)"
   ]
  },
  {
   "cell_type": "code",
   "execution_count": 26,
   "id": "94b73d62",
   "metadata": {},
   "outputs": [
    {
     "name": "stdout",
     "output_type": "stream",
     "text": [
      "Enter any value2\n",
      "Enter any value2\n",
      "The value of addition= 4\n"
     ]
    }
   ],
   "source": [
    "myaddition()"
   ]
  },
  {
   "cell_type": "code",
   "execution_count": 29,
   "id": "78de769d",
   "metadata": {},
   "outputs": [],
   "source": [
    "def area_of_circle():\n",
    "    pi=3.14\n",
    "    #radius=\n",
    "    radius=int(input('Enter any radius'))\n",
    "    area=pi*(radius**2)\n",
    "    print('Area of circle=',area)"
   ]
  },
  {
   "cell_type": "code",
   "execution_count": 30,
   "id": "71aab6c7",
   "metadata": {},
   "outputs": [
    {
     "name": "stdout",
     "output_type": "stream",
     "text": [
      "Enter any radius3\n",
      "Area of circle= 28.26\n"
     ]
    }
   ],
   "source": [
    "area_of_circle()"
   ]
  },
  {
   "cell_type": "markdown",
   "id": "c4d03180",
   "metadata": {},
   "source": [
    "Parametric function\n"
   ]
  },
  {
   "cell_type": "code",
   "execution_count": 31,
   "id": "ac0015a9",
   "metadata": {},
   "outputs": [],
   "source": [
    "def addition2(a,b):\n",
    "    c=a+b\n",
    "    print('The value of c=',c)"
   ]
  },
  {
   "cell_type": "code",
   "execution_count": 32,
   "id": "a4c2ab84",
   "metadata": {},
   "outputs": [
    {
     "name": "stdout",
     "output_type": "stream",
     "text": [
      "The value of c= 6\n"
     ]
    }
   ],
   "source": [
    "a=2\n",
    "b=4\n",
    "addition2(a,b)"
   ]
  },
  {
   "cell_type": "code",
   "execution_count": 33,
   "id": "9ef6dc45",
   "metadata": {},
   "outputs": [],
   "source": [
    "def multiplyfunc(x,y):\n",
    "    z=x*y\n",
    "    print('z=',z)"
   ]
  },
  {
   "cell_type": "code",
   "execution_count": 34,
   "id": "82c04848",
   "metadata": {},
   "outputs": [
    {
     "name": "stdout",
     "output_type": "stream",
     "text": [
      "z= 15\n"
     ]
    }
   ],
   "source": [
    "x=3\n",
    "y=5\n",
    "multiplyfunc(x,y)"
   ]
  },
  {
   "cell_type": "code",
   "execution_count": 35,
   "id": "d5717553",
   "metadata": {},
   "outputs": [],
   "source": [
    "def areaofcircel(radius):\n",
    "    pi=3.14\n",
    "    area=pi*(radius**2)\n",
    "    print('The area of circle with radius=',radius,\"=\", area)"
   ]
  },
  {
   "cell_type": "code",
   "execution_count": 36,
   "id": "78895aaa",
   "metadata": {},
   "outputs": [
    {
     "name": "stdout",
     "output_type": "stream",
     "text": [
      "Enter any radius value7\n",
      "The area of circle with radius= 7 = 153.86\n"
     ]
    }
   ],
   "source": [
    "radius=int(input('Enter any radius value'))\n",
    "areaofcircel(radius)"
   ]
  },
  {
   "cell_type": "code",
   "execution_count": 37,
   "id": "ec087a25",
   "metadata": {},
   "outputs": [],
   "source": [
    "def area_of_rectangle(length,breadth):\n",
    "    area=length*breadth\n",
    "    print('The are of rectangle=',area)\n",
    "    print('The area of rectangle with length=',length, 'and',breadth,'=',area)\n"
   ]
  },
  {
   "cell_type": "code",
   "execution_count": 38,
   "id": "4a01c0ce",
   "metadata": {},
   "outputs": [
    {
     "name": "stdout",
     "output_type": "stream",
     "text": [
      "The are of rectangle= 5000\n",
      "The area of rectangle with length= 50 and 100 = 5000\n"
     ]
    }
   ],
   "source": [
    "#it's call statics\n",
    "length=50\n",
    "breadth=100\n",
    "area_of_rectangle(length,breadth)"
   ]
  },
  {
   "cell_type": "code",
   "execution_count": 39,
   "id": "c64dc37d",
   "metadata": {},
   "outputs": [],
   "source": [
    "def area_of_rectangle(length,breadth):\n",
    "    area=length*breadth\n",
    "    print('The are of rectangle=',area)\n",
    "    print('The area of rectangle with length=',length, 'and',breadth,'=',area)\n"
   ]
  },
  {
   "cell_type": "code",
   "execution_count": 40,
   "id": "2db6540d",
   "metadata": {},
   "outputs": [
    {
     "name": "stdout",
     "output_type": "stream",
     "text": [
      "Enter length6\n",
      "Enter breadth9\n",
      "The are of rectangle= 54\n",
      "The area of rectangle with length= 6 and 9 = 54\n"
     ]
    }
   ],
   "source": [
    "#length=50\n",
    "#breadth=100\n",
    "#it's call dynamic \n",
    "\n",
    "length=int(input('Enter length'))\n",
    "breadth=int(input('Enter breadth'))\n",
    "area_of_rectangle(length,breadth)"
   ]
  },
  {
   "cell_type": "code",
   "execution_count": 41,
   "id": "8803174f",
   "metadata": {},
   "outputs": [],
   "source": [
    "def runfor_function():\n",
    "    for i in range(1,10):\n",
    "        print(i)\n",
    "    "
   ]
  },
  {
   "cell_type": "code",
   "execution_count": 42,
   "id": "a0a252e1",
   "metadata": {
    "scrolled": true
   },
   "outputs": [
    {
     "name": "stdout",
     "output_type": "stream",
     "text": [
      "1\n",
      "2\n",
      "3\n",
      "4\n",
      "5\n",
      "6\n",
      "7\n",
      "8\n",
      "9\n"
     ]
    }
   ],
   "source": [
    "runfor_function()"
   ]
  },
  {
   "cell_type": "code",
   "execution_count": 43,
   "id": "9b1a0441",
   "metadata": {},
   "outputs": [],
   "source": [
    "def runfor_function2():\n",
    "    for i in range(10):\n",
    "        if (i==5):\n",
    "            break\n",
    "        print(i)"
   ]
  },
  {
   "cell_type": "code",
   "execution_count": 44,
   "id": "63217fbe",
   "metadata": {},
   "outputs": [
    {
     "name": "stdout",
     "output_type": "stream",
     "text": [
      "0\n",
      "1\n",
      "2\n",
      "3\n",
      "4\n"
     ]
    }
   ],
   "source": [
    "runfor_function2()"
   ]
  },
  {
   "cell_type": "code",
   "execution_count": 45,
   "id": "f4a462ff",
   "metadata": {},
   "outputs": [],
   "source": [
    "def add():\n",
    "    a=100\n",
    "    b=50\n",
    "    c=a+b\n",
    "    return c"
   ]
  },
  {
   "cell_type": "code",
   "execution_count": 46,
   "id": "2b71efab",
   "metadata": {},
   "outputs": [
    {
     "data": {
      "text/plain": [
       "150"
      ]
     },
     "execution_count": 46,
     "metadata": {},
     "output_type": "execute_result"
    }
   ],
   "source": [
    "add()"
   ]
  },
  {
   "cell_type": "code",
   "execution_count": 47,
   "id": "4773a261",
   "metadata": {},
   "outputs": [],
   "source": [
    "returnvalue=add()"
   ]
  },
  {
   "cell_type": "code",
   "execution_count": 48,
   "id": "299676d8",
   "metadata": {},
   "outputs": [
    {
     "data": {
      "text/plain": [
       "150"
      ]
     },
     "execution_count": 48,
     "metadata": {},
     "output_type": "execute_result"
    }
   ],
   "source": [
    "returnvalue"
   ]
  },
  {
   "cell_type": "markdown",
   "id": "8e49532b",
   "metadata": {},
   "source": [
    "how to call one function in another function"
   ]
  },
  {
   "cell_type": "code",
   "execution_count": 49,
   "id": "481f3d73",
   "metadata": {},
   "outputs": [],
   "source": [
    "def innerfunction():\n",
    "    print('Ram is a good boy')"
   ]
  },
  {
   "cell_type": "code",
   "execution_count": 50,
   "id": "422d3c38",
   "metadata": {},
   "outputs": [],
   "source": [
    "def outerfunction():\n",
    "    innerfunction()"
   ]
  },
  {
   "cell_type": "code",
   "execution_count": 51,
   "id": "1c74adb6",
   "metadata": {},
   "outputs": [
    {
     "name": "stdout",
     "output_type": "stream",
     "text": [
      "Ram is a good boy\n"
     ]
    }
   ],
   "source": [
    "outerfunction()"
   ]
  },
  {
   "cell_type": "code",
   "execution_count": 52,
   "id": "9b6198d7",
   "metadata": {},
   "outputs": [],
   "source": [
    "def innerfunction():\n",
    "    print('Ram is a good boy')"
   ]
  },
  {
   "cell_type": "code",
   "execution_count": 53,
   "id": "602baa84",
   "metadata": {},
   "outputs": [],
   "source": [
    "def outerfunction():\n",
    "    innerfunction()\n",
    "    print('Ram is a honest boy')"
   ]
  },
  {
   "cell_type": "code",
   "execution_count": 54,
   "id": "53971b35",
   "metadata": {},
   "outputs": [
    {
     "name": "stdout",
     "output_type": "stream",
     "text": [
      "Ram is a good boy\n",
      "Ram is a honest boy\n"
     ]
    }
   ],
   "source": [
    "outerfunction()"
   ]
  },
  {
   "cell_type": "code",
   "execution_count": 55,
   "id": "8f7b98b5",
   "metadata": {},
   "outputs": [],
   "source": [
    "# retrun example 1.\n",
    "def squarev():\n",
    "    s=8*8\n",
    "    return s"
   ]
  },
  {
   "cell_type": "code",
   "execution_count": 56,
   "id": "63b72183",
   "metadata": {},
   "outputs": [],
   "source": [
    "sp=squarev()"
   ]
  },
  {
   "cell_type": "code",
   "execution_count": 57,
   "id": "75158010",
   "metadata": {
    "scrolled": true
   },
   "outputs": [
    {
     "data": {
      "text/plain": [
       "64"
      ]
     },
     "execution_count": 57,
     "metadata": {},
     "output_type": "execute_result"
    }
   ],
   "source": [
    "sp"
   ]
  },
  {
   "cell_type": "code",
   "execution_count": 58,
   "id": "3bf887b3",
   "metadata": {},
   "outputs": [],
   "source": [
    "# 2.\n",
    "def squarev():\n",
    "    s=8*8\n",
    "    print('The value of s=',s)"
   ]
  },
  {
   "cell_type": "code",
   "execution_count": 59,
   "id": "85519a5f",
   "metadata": {},
   "outputs": [
    {
     "name": "stdout",
     "output_type": "stream",
     "text": [
      "The value of s= 64\n"
     ]
    }
   ],
   "source": [
    "squarev()"
   ]
  },
  {
   "cell_type": "code",
   "execution_count": 61,
   "id": "b42fdcce",
   "metadata": {},
   "outputs": [],
   "source": [
    "# 3.\n",
    "def squarev():\n",
    "    s=8*8\n",
    "    return s\n",
    "    print('The value of s=',s)"
   ]
  },
  {
   "cell_type": "code",
   "execution_count": 62,
   "id": "739caaa6",
   "metadata": {},
   "outputs": [
    {
     "data": {
      "text/plain": [
       "64"
      ]
     },
     "execution_count": 62,
     "metadata": {},
     "output_type": "execute_result"
    }
   ],
   "source": [
    "squarev()"
   ]
  },
  {
   "cell_type": "code",
   "execution_count": 63,
   "id": "1da3829e",
   "metadata": {},
   "outputs": [],
   "source": [
    "def myfunc(list1):\n",
    "    for i in list1:\n",
    "        print(i)"
   ]
  },
  {
   "cell_type": "code",
   "execution_count": 64,
   "id": "db25950b",
   "metadata": {},
   "outputs": [
    {
     "name": "stdout",
     "output_type": "stream",
     "text": [
      "10\n",
      "20\n",
      "30\n",
      "40\n"
     ]
    }
   ],
   "source": [
    "list1=[10,20,30,40]\n",
    "\n",
    "myfunc(list1)"
   ]
  },
  {
   "cell_type": "code",
   "execution_count": 67,
   "id": "2044b23d",
   "metadata": {},
   "outputs": [],
   "source": [
    "def func(fruitlists):\n",
    "    for i in fruitlists:\n",
    "        print(i)"
   ]
  },
  {
   "cell_type": "code",
   "execution_count": 68,
   "id": "7bf9768a",
   "metadata": {},
   "outputs": [
    {
     "name": "stdout",
     "output_type": "stream",
     "text": [
      "Apple\n",
      "Banana\n",
      "Mango\n",
      "Lichi\n"
     ]
    }
   ],
   "source": [
    "fruitlists=['Apple','Banana','Mango','Lichi']\n",
    "\n",
    "func(fruitlists)"
   ]
  },
  {
   "cell_type": "markdown",
   "id": "eeb3d4a6",
   "metadata": {},
   "source": [
    "USING RETURN"
   ]
  },
  {
   "cell_type": "code",
   "execution_count": 69,
   "id": "ac35e4cd",
   "metadata": {},
   "outputs": [],
   "source": [
    "def add_num(num1,num2):\n",
    "    return num1+num2"
   ]
  },
  {
   "cell_type": "code",
   "execution_count": 70,
   "id": "530d2bcf",
   "metadata": {},
   "outputs": [
    {
     "data": {
      "text/plain": [
       "700"
      ]
     },
     "execution_count": 70,
     "metadata": {},
     "output_type": "execute_result"
    }
   ],
   "source": [
    "add_num(200,500)"
   ]
  },
  {
   "cell_type": "code",
   "execution_count": 71,
   "id": "4df4210c",
   "metadata": {},
   "outputs": [],
   "source": [
    "result=add_num(10000,50000)"
   ]
  },
  {
   "cell_type": "code",
   "execution_count": 72,
   "id": "19e75a55",
   "metadata": {},
   "outputs": [
    {
     "name": "stdout",
     "output_type": "stream",
     "text": [
      "60000\n"
     ]
    }
   ],
   "source": [
    "print(result)"
   ]
  },
  {
   "cell_type": "code",
   "execution_count": 73,
   "id": "e2b5666c",
   "metadata": {},
   "outputs": [],
   "source": [
    "def add():\n",
    "    a=20\n",
    "    b=10\n",
    "    result=a+b\n",
    "    return result"
   ]
  },
  {
   "cell_type": "code",
   "execution_count": 74,
   "id": "1e9b59b5",
   "metadata": {},
   "outputs": [
    {
     "data": {
      "text/plain": [
       "30"
      ]
     },
     "execution_count": 74,
     "metadata": {},
     "output_type": "execute_result"
    }
   ],
   "source": [
    "add()"
   ]
  },
  {
   "cell_type": "code",
   "execution_count": 75,
   "id": "10a3d267",
   "metadata": {},
   "outputs": [],
   "source": [
    "def add():\n",
    "    a=20\n",
    "    b=10\n",
    "    result=a+b\n",
    "    return result"
   ]
  },
  {
   "cell_type": "code",
   "execution_count": 76,
   "id": "84d71504",
   "metadata": {},
   "outputs": [],
   "source": [
    "res=add()"
   ]
  },
  {
   "cell_type": "code",
   "execution_count": 77,
   "id": "b3203cf1",
   "metadata": {},
   "outputs": [
    {
     "data": {
      "text/plain": [
       "30"
      ]
     },
     "execution_count": 77,
     "metadata": {},
     "output_type": "execute_result"
    }
   ],
   "source": [
    "res"
   ]
  },
  {
   "cell_type": "code",
   "execution_count": 78,
   "id": "0fbfd81b",
   "metadata": {},
   "outputs": [],
   "source": [
    "def subtraction():\n",
    "    g=10\n",
    "    value=res-g\n",
    "    print(value)"
   ]
  },
  {
   "cell_type": "code",
   "execution_count": 79,
   "id": "ffdda2f7",
   "metadata": {},
   "outputs": [
    {
     "name": "stdout",
     "output_type": "stream",
     "text": [
      "20\n"
     ]
    }
   ],
   "source": [
    "subtraction()"
   ]
  },
  {
   "cell_type": "code",
   "execution_count": 80,
   "id": "507d3a29",
   "metadata": {},
   "outputs": [],
   "source": [
    "def areaofcircel(radius):\n",
    "    pi=3.14\n",
    "    area=pi*(radius**2)\n",
    "    print('The area of circle with radius=',radius,\"=\", area)\n",
    "    return area"
   ]
  },
  {
   "cell_type": "code",
   "execution_count": 81,
   "id": "9e94618d",
   "metadata": {},
   "outputs": [
    {
     "name": "stdout",
     "output_type": "stream",
     "text": [
      "Enter any radius value5\n",
      "The area of circle with radius= 5 = 78.5\n"
     ]
    },
    {
     "data": {
      "text/plain": [
       "78.5"
      ]
     },
     "execution_count": 81,
     "metadata": {},
     "output_type": "execute_result"
    }
   ],
   "source": [
    "radius=int(input('Enter any radius value'))\n",
    "myareavalue=areaofcircel(radius)\n",
    "\n",
    "myareavalue"
   ]
  },
  {
   "cell_type": "code",
   "execution_count": 82,
   "id": "21f7abc4",
   "metadata": {},
   "outputs": [
    {
     "data": {
      "text/plain": [
       "78.5"
      ]
     },
     "execution_count": 82,
     "metadata": {},
     "output_type": "execute_result"
    }
   ],
   "source": [
    "myareavalue"
   ]
  },
  {
   "cell_type": "code",
   "execution_count": 85,
   "id": "cc9fb2b6",
   "metadata": {},
   "outputs": [],
   "source": [
    "def is_prime(num):\n",
    "    for n in range(2,num):\n",
    "        if num % n==0:\n",
    "            print('not prime')\n",
    "            break\n",
    "    else: #if never mod zero, then prime\n",
    "        print('prime')"
   ]
  },
  {
   "cell_type": "code",
   "execution_count": 86,
   "id": "3ed6d911",
   "metadata": {},
   "outputs": [
    {
     "name": "stdout",
     "output_type": "stream",
     "text": [
      "prime\n"
     ]
    }
   ],
   "source": [
    "is_prime(7)"
   ]
  },
  {
   "cell_type": "code",
   "execution_count": 3,
   "id": "218b3c37",
   "metadata": {},
   "outputs": [],
   "source": [
    "def add2(c,d):\n",
    "    result=c+d\n",
    "    print(result)"
   ]
  },
  {
   "cell_type": "code",
   "execution_count": 4,
   "id": "d9fd7825",
   "metadata": {},
   "outputs": [
    {
     "name": "stdout",
     "output_type": "stream",
     "text": [
      "150\n"
     ]
    }
   ],
   "source": [
    "c=100\n",
    "d=50\n",
    "add2(c,d)"
   ]
  },
  {
   "cell_type": "code",
   "execution_count": 5,
   "id": "ddd33d30",
   "metadata": {},
   "outputs": [
    {
     "name": "stdout",
     "output_type": "stream",
     "text": [
      "90\n"
     ]
    }
   ],
   "source": [
    "add2(50,40)"
   ]
  },
  {
   "cell_type": "code",
   "execution_count": 6,
   "id": "e44d9c8f",
   "metadata": {},
   "outputs": [],
   "source": [
    "def add2(a,b,c):\n",
    "    result=a+b+c\n",
    "    print(result)"
   ]
  },
  {
   "cell_type": "code",
   "execution_count": 7,
   "id": "cd0d9dfb",
   "metadata": {},
   "outputs": [
    {
     "name": "stdout",
     "output_type": "stream",
     "text": [
      "150\n"
     ]
    }
   ],
   "source": [
    "add2(60,40,50)"
   ]
  },
  {
   "cell_type": "markdown",
   "id": "0fe54dd7",
   "metadata": {},
   "source": [
    "Variable number of arguments\n",
    "\n",
    "*arg takes multiple inputs"
   ]
  },
  {
   "cell_type": "code",
   "execution_count": 9,
   "id": "8643e7ac",
   "metadata": {},
   "outputs": [],
   "source": [
    "def plusfunction(*args):\n",
    "    return sum(args)"
   ]
  },
  {
   "cell_type": "code",
   "execution_count": 10,
   "id": "361976c2",
   "metadata": {},
   "outputs": [
    {
     "data": {
      "text/plain": [
       "20"
      ]
     },
     "execution_count": 10,
     "metadata": {},
     "output_type": "execute_result"
    }
   ],
   "source": [
    "# calling a function\n",
    "plusfunction(6,10,4)"
   ]
  },
  {
   "cell_type": "code",
   "execution_count": 11,
   "id": "8c12c903",
   "metadata": {},
   "outputs": [
    {
     "data": {
      "text/plain": [
       "40"
      ]
     },
     "execution_count": 11,
     "metadata": {},
     "output_type": "execute_result"
    }
   ],
   "source": [
    "plusfunction(2,4,6,8,20)"
   ]
  },
  {
   "cell_type": "code",
   "execution_count": 12,
   "id": "f6f6ff88",
   "metadata": {},
   "outputs": [],
   "source": [
    "def maxfunction(*args):\n",
    "    return max(args)"
   ]
  },
  {
   "cell_type": "code",
   "execution_count": 13,
   "id": "1cb587aa",
   "metadata": {},
   "outputs": [
    {
     "data": {
      "text/plain": [
       "100"
      ]
     },
     "execution_count": 13,
     "metadata": {},
     "output_type": "execute_result"
    }
   ],
   "source": [
    "maxfunction(20,40,60,100,90)"
   ]
  },
  {
   "cell_type": "code",
   "execution_count": 14,
   "id": "15ddbf82",
   "metadata": {},
   "outputs": [],
   "source": [
    "def minfunction(*args):\n",
    "    return min(args)"
   ]
  },
  {
   "cell_type": "code",
   "execution_count": 15,
   "id": "ee0690ae",
   "metadata": {},
   "outputs": [
    {
     "data": {
      "text/plain": [
       "5"
      ]
     },
     "execution_count": 15,
     "metadata": {},
     "output_type": "execute_result"
    }
   ],
   "source": [
    "minfunction(5,10,7,50,200)"
   ]
  },
  {
   "cell_type": "code",
   "execution_count": 17,
   "id": "32bb3f45",
   "metadata": {},
   "outputs": [],
   "source": [
    "# s=s+n   for s+=n\n",
    "def sumfunction(*numbers):\n",
    "    s=0\n",
    "    for n in numbers:\n",
    "        s+=n    # or s=s+n\n",
    "    return s    \n",
    "        "
   ]
  },
  {
   "cell_type": "code",
   "execution_count": 18,
   "id": "69d8026f",
   "metadata": {},
   "outputs": [
    {
     "name": "stdout",
     "output_type": "stream",
     "text": [
      "3\n"
     ]
    }
   ],
   "source": [
    "print(sumfunction(1,2))"
   ]
  },
  {
   "cell_type": "code",
   "execution_count": 19,
   "id": "cac7734d",
   "metadata": {},
   "outputs": [
    {
     "name": "stdout",
     "output_type": "stream",
     "text": [
      "6\n"
     ]
    }
   ],
   "source": [
    "print(sumfunction(1,2,3))"
   ]
  },
  {
   "cell_type": "code",
   "execution_count": 20,
   "id": "3c7d4991",
   "metadata": {},
   "outputs": [
    {
     "name": "stdout",
     "output_type": "stream",
     "text": [
      "10\n"
     ]
    }
   ],
   "source": [
    "print(sumfunction(1,2,3,4))"
   ]
  },
  {
   "cell_type": "code",
   "execution_count": 21,
   "id": "f6a5006b",
   "metadata": {},
   "outputs": [],
   "source": [
    "def subsfunction(*numbers):\n",
    "    s=0\n",
    "    for n in numbers:\n",
    "        s=s-n\n",
    "    return s "
   ]
  },
  {
   "cell_type": "code",
   "execution_count": 23,
   "id": "9d0af453",
   "metadata": {},
   "outputs": [
    {
     "data": {
      "text/plain": [
       "-3"
      ]
     },
     "execution_count": 23,
     "metadata": {},
     "output_type": "execute_result"
    }
   ],
   "source": [
    "subsfunction(1,2)"
   ]
  },
  {
   "cell_type": "code",
   "execution_count": null,
   "id": "30ce0408",
   "metadata": {},
   "outputs": [],
   "source": []
  },
  {
   "cell_type": "code",
   "execution_count": null,
   "id": "401a8b5f",
   "metadata": {},
   "outputs": [],
   "source": []
  },
  {
   "cell_type": "code",
   "execution_count": 87,
   "id": "ec787168",
   "metadata": {},
   "outputs": [],
   "source": [
    "def my_fun(*args):\n",
    "    for i in args:\n",
    "        print('my args', i)"
   ]
  },
  {
   "cell_type": "code",
   "execution_count": 88,
   "id": "367736fd",
   "metadata": {},
   "outputs": [
    {
     "name": "stdout",
     "output_type": "stream",
     "text": [
      "my args Test arguments\n",
      "my args 56\n",
      "my args India\n",
      "my args one more\n",
      "my args 1234567\n"
     ]
    }
   ],
   "source": [
    "my_fun('Test arguments', 56,'India','one more',1234567)"
   ]
  },
  {
   "cell_type": "markdown",
   "id": "cb56a55e",
   "metadata": {},
   "source": [
    "**kwarg"
   ]
  },
  {
   "cell_type": "code",
   "execution_count": 89,
   "id": "063db4b6",
   "metadata": {},
   "outputs": [],
   "source": [
    "def my_kwargs(**kwargs):\n",
    "    for key,value in kwargs.items():\n",
    "        print(key,value)"
   ]
  },
  {
   "cell_type": "code",
   "execution_count": 90,
   "id": "c13af2cd",
   "metadata": {},
   "outputs": [
    {
     "name": "stdout",
     "output_type": "stream",
     "text": [
      "Name ['Ranjan', 'Chandan']\n",
      "Occupation ['Salary Job', 'Businessman']\n"
     ]
    }
   ],
   "source": [
    "my_kwargs(Name=['Ranjan','Chandan'], Occupation=['Salary Job','Businessman'])"
   ]
  },
  {
   "cell_type": "markdown",
   "id": "a9ab8eae",
   "metadata": {},
   "source": [
    "Global and local variable"
   ]
  },
  {
   "cell_type": "code",
   "execution_count": 91,
   "id": "1f1bc8db",
   "metadata": {},
   "outputs": [],
   "source": [
    "# Global\n",
    "p=1000"
   ]
  },
  {
   "cell_type": "code",
   "execution_count": 92,
   "id": "3eab5a08",
   "metadata": {},
   "outputs": [
    {
     "data": {
      "text/plain": [
       "1000"
      ]
     },
     "execution_count": 92,
     "metadata": {},
     "output_type": "execute_result"
    }
   ],
   "source": [
    "p"
   ]
  },
  {
   "cell_type": "code",
   "execution_count": 93,
   "id": "571aa02a",
   "metadata": {},
   "outputs": [],
   "source": [
    "# local\n",
    "def testy():\n",
    "    p=100\n",
    "    print(p)"
   ]
  },
  {
   "cell_type": "code",
   "execution_count": 94,
   "id": "fb2d902d",
   "metadata": {},
   "outputs": [
    {
     "name": "stdout",
     "output_type": "stream",
     "text": [
      "100\n"
     ]
    }
   ],
   "source": [
    "testy()"
   ]
  },
  {
   "cell_type": "code",
   "execution_count": 95,
   "id": "fcfcb4ff",
   "metadata": {},
   "outputs": [],
   "source": [
    "# local\n",
    "def testy():\n",
    "    global p\n",
    "    print(p)"
   ]
  },
  {
   "cell_type": "code",
   "execution_count": 96,
   "id": "bc01b7be",
   "metadata": {},
   "outputs": [
    {
     "name": "stdout",
     "output_type": "stream",
     "text": [
      "1000\n"
     ]
    }
   ],
   "source": [
    "testy()"
   ]
  },
  {
   "cell_type": "code",
   "execution_count": 97,
   "id": "b5fae179",
   "metadata": {},
   "outputs": [],
   "source": [
    "# local & Global\n",
    "def testy():\n",
    "    global p\n",
    "    print(p)\n",
    "    p=40\n",
    "    print(p)"
   ]
  },
  {
   "cell_type": "code",
   "execution_count": 98,
   "id": "5ecb0c85",
   "metadata": {},
   "outputs": [
    {
     "name": "stdout",
     "output_type": "stream",
     "text": [
      "1000\n",
      "40\n"
     ]
    }
   ],
   "source": [
    "testy()"
   ]
  },
  {
   "cell_type": "markdown",
   "id": "62e13f08",
   "metadata": {},
   "source": [
    "Anonymous functions lambda"
   ]
  },
  {
   "cell_type": "code",
   "execution_count": 24,
   "id": "78a5424e",
   "metadata": {},
   "outputs": [
    {
     "data": {
      "text/plain": [
       "10"
      ]
     },
     "execution_count": 24,
     "metadata": {},
     "output_type": "execute_result"
    }
   ],
   "source": [
    "test=lambda x:x*2\n",
    "test(5)"
   ]
  },
  {
   "cell_type": "code",
   "execution_count": 25,
   "id": "bc7585f5",
   "metadata": {},
   "outputs": [
    {
     "data": {
      "text/plain": [
       "16"
      ]
     },
     "execution_count": 25,
     "metadata": {},
     "output_type": "execute_result"
    }
   ],
   "source": [
    "test(8)"
   ]
  },
  {
   "cell_type": "code",
   "execution_count": 26,
   "id": "95bc2b08",
   "metadata": {},
   "outputs": [
    {
     "data": {
      "text/plain": [
       "7"
      ]
     },
     "execution_count": 26,
     "metadata": {},
     "output_type": "execute_result"
    }
   ],
   "source": [
    "testadd1=lambda x,y:x+y\n",
    "testadd1(3,4)"
   ]
  },
  {
   "cell_type": "code",
   "execution_count": 27,
   "id": "e9509eca",
   "metadata": {},
   "outputs": [
    {
     "data": {
      "text/plain": [
       "6"
      ]
     },
     "execution_count": 27,
     "metadata": {},
     "output_type": "execute_result"
    }
   ],
   "source": [
    "m=lambda x,y,z:x+y+z\n",
    "m(1,2,3)"
   ]
  },
  {
   "cell_type": "code",
   "execution_count": 28,
   "id": "492d8594",
   "metadata": {},
   "outputs": [
    {
     "data": {
      "text/plain": [
       "16"
      ]
     },
     "execution_count": 28,
     "metadata": {},
     "output_type": "execute_result"
    }
   ],
   "source": [
    "# find square\n",
    "t=lambda x:x**2\n",
    "t(4)"
   ]
  },
  {
   "cell_type": "code",
   "execution_count": 30,
   "id": "12622b3d",
   "metadata": {},
   "outputs": [
    {
     "data": {
      "text/plain": [
       "8.0"
      ]
     },
     "execution_count": 30,
     "metadata": {},
     "output_type": "execute_result"
    }
   ],
   "source": [
    "# find squareroot\n",
    "sqroot=lambda x:x**(1/2)\n",
    "sqroot(64)"
   ]
  },
  {
   "cell_type": "code",
   "execution_count": 31,
   "id": "9bad4748",
   "metadata": {},
   "outputs": [
    {
     "data": {
      "text/plain": [
       "5.0"
      ]
     },
     "execution_count": 31,
     "metadata": {},
     "output_type": "execute_result"
    }
   ],
   "source": [
    "sqroot(25)"
   ]
  },
  {
   "cell_type": "code",
   "execution_count": 33,
   "id": "0d5b6631",
   "metadata": {},
   "outputs": [
    {
     "data": {
      "text/plain": [
       "64"
      ]
     },
     "execution_count": 33,
     "metadata": {},
     "output_type": "execute_result"
    }
   ],
   "source": [
    "# find cube\n",
    "cube=lambda x:x**3\n",
    "cube(4)"
   ]
  },
  {
   "cell_type": "code",
   "execution_count": 39,
   "id": "154910a6",
   "metadata": {},
   "outputs": [
    {
     "data": {
      "text/plain": [
       "3.0"
      ]
     },
     "execution_count": 39,
     "metadata": {},
     "output_type": "execute_result"
    }
   ],
   "source": [
    "# find cuberoot\n",
    "w=lambda x:x**(1/3)\n",
    "w(27)"
   ]
  },
  {
   "cell_type": "code",
   "execution_count": 40,
   "id": "f00eddad",
   "metadata": {},
   "outputs": [
    {
     "data": {
      "text/plain": [
       "7.999999999999999"
      ]
     },
     "execution_count": 40,
     "metadata": {},
     "output_type": "execute_result"
    }
   ],
   "source": [
    "# find cuberoot\n",
    "a=lambda x:x**(1/3)\n",
    "a(512)"
   ]
  },
  {
   "cell_type": "code",
   "execution_count": 41,
   "id": "c10d6d63",
   "metadata": {},
   "outputs": [
    {
     "data": {
      "text/plain": [
       "3.9999999999999996"
      ]
     },
     "execution_count": 41,
     "metadata": {},
     "output_type": "execute_result"
    }
   ],
   "source": [
    "# find cuberoot\n",
    "b=lambda x:x**(1/3)\n",
    "b(64)"
   ]
  },
  {
   "cell_type": "code",
   "execution_count": 43,
   "id": "5c6813dd",
   "metadata": {},
   "outputs": [
    {
     "name": "stdout",
     "output_type": "stream",
     "text": [
      "value of total: 15\n",
      "value of todal: 70\n"
     ]
    }
   ],
   "source": [
    "addvar=lambda arg1,arg2:arg1+arg2\n",
    "print('value of total:',addvar(5,10))\n",
    "print('value of todal:',addvar (50,20))"
   ]
  },
  {
   "cell_type": "code",
   "execution_count": 1,
   "id": "8525d553",
   "metadata": {},
   "outputs": [],
   "source": [
    "# converting temperture in fahrenheit\n",
    "def fahrenheit(T):\n",
    "    return ((9/5)*T+32)"
   ]
  },
  {
   "cell_type": "code",
   "execution_count": 3,
   "id": "8b6421b0",
   "metadata": {},
   "outputs": [
    {
     "data": {
      "text/plain": [
       "95.0"
      ]
     },
     "execution_count": 3,
     "metadata": {},
     "output_type": "execute_result"
    }
   ],
   "source": [
    "f=fahrenheit(35)\n",
    "f"
   ]
  },
  {
   "cell_type": "code",
   "execution_count": 6,
   "id": "f18f9f81",
   "metadata": {},
   "outputs": [],
   "source": [
    "# converting temperture in celcius\n",
    "def celcius(T):\n",
    "    return ((5/9)*(T-32))"
   ]
  },
  {
   "cell_type": "code",
   "execution_count": 7,
   "id": "c73500c4",
   "metadata": {},
   "outputs": [
    {
     "data": {
      "text/plain": [
       "35.0"
      ]
     },
     "execution_count": 7,
     "metadata": {},
     "output_type": "execute_result"
    }
   ],
   "source": [
    "c=celcius(95)\n",
    "c"
   ]
  },
  {
   "cell_type": "code",
   "execution_count": 12,
   "id": "d89c44a1",
   "metadata": {},
   "outputs": [],
   "source": [
    "def testin():\n",
    "    x=int(input('Enter x'))\n",
    "    y=int(input('Enter y'))\n",
    "    t=lambda x,y:x**y\n",
    "    print(t(x,y))"
   ]
  },
  {
   "cell_type": "code",
   "execution_count": 14,
   "id": "85f9b1fa",
   "metadata": {},
   "outputs": [
    {
     "name": "stdout",
     "output_type": "stream",
     "text": [
      "Enter x8\n",
      "Enter y3\n",
      "512\n"
     ]
    }
   ],
   "source": [
    "testin()"
   ]
  },
  {
   "cell_type": "code",
   "execution_count": 15,
   "id": "d4592631",
   "metadata": {},
   "outputs": [],
   "source": [
    "def test(x,y):\n",
    "    t=lambda x,y:x**y\n",
    "    print(t(x,y))"
   ]
  },
  {
   "cell_type": "code",
   "execution_count": 17,
   "id": "0cf73caa",
   "metadata": {},
   "outputs": [
    {
     "name": "stdout",
     "output_type": "stream",
     "text": [
      "512\n"
     ]
    }
   ],
   "source": [
    "test(8,3)"
   ]
  },
  {
   "cell_type": "code",
   "execution_count": 19,
   "id": "231e681a",
   "metadata": {},
   "outputs": [
    {
     "data": {
      "text/plain": [
       "214.16"
      ]
     },
     "execution_count": 19,
     "metadata": {},
     "output_type": "execute_result"
    }
   ],
   "source": [
    "# Lambda with fahrenheit\n",
    "F= lambda x:(9/5)*x+32\n",
    "F(101.2)"
   ]
  },
  {
   "cell_type": "markdown",
   "id": "b94457e4",
   "metadata": {},
   "source": [
    "map in lambda ---------> it applies on list"
   ]
  },
  {
   "cell_type": "code",
   "execution_count": 1,
   "id": "84d2325e",
   "metadata": {},
   "outputs": [
    {
     "data": {
      "text/plain": [
       "<map at 0x1aa6e77a9d0>"
      ]
     },
     "execution_count": 1,
     "metadata": {},
     "output_type": "execute_result"
    }
   ],
   "source": [
    "mylist = [1,2,3,4,5]\n",
    "map(lambda x:x*2,mylist)"
   ]
  },
  {
   "cell_type": "code",
   "execution_count": 2,
   "id": "e1eb8b1f",
   "metadata": {},
   "outputs": [
    {
     "data": {
      "text/plain": [
       "[2, 4, 6, 8, 10]"
      ]
     },
     "execution_count": 2,
     "metadata": {},
     "output_type": "execute_result"
    }
   ],
   "source": [
    "list(map(lambda x:x*2,mylist))"
   ]
  },
  {
   "cell_type": "code",
   "execution_count": 3,
   "id": "6041ccbf",
   "metadata": {},
   "outputs": [],
   "source": [
    "c=[35.2, 36.5, 37.3, 38, 39.8]"
   ]
  },
  {
   "cell_type": "code",
   "execution_count": 5,
   "id": "a04858f0",
   "metadata": {},
   "outputs": [
    {
     "name": "stdout",
     "output_type": "stream",
     "text": [
      "[95.36000000000001, 97.7, 99.14, 100.4, 103.64]\n"
     ]
    }
   ],
   "source": [
    "F=list(map(lambda x:9/5*x+32,c))\n",
    "print(F)"
   ]
  },
  {
   "cell_type": "code",
   "execution_count": 8,
   "id": "9fe9f30e",
   "metadata": {},
   "outputs": [
    {
     "name": "stdout",
     "output_type": "stream",
     "text": [
      "[35.20000000000001, 36.5, 37.300000000000004, 38.00000000000001, 39.800000000000004]\n"
     ]
    }
   ],
   "source": [
    "C=list(map(lambda x:(5/9)*(x-32),F))\n",
    "print(C)"
   ]
  },
  {
   "cell_type": "code",
   "execution_count": 10,
   "id": "99c3ffd3",
   "metadata": {},
   "outputs": [
    {
     "data": {
      "text/plain": [
       "[35.2, 36.5, 37.3, 38.0, 39.8]"
      ]
     },
     "execution_count": 10,
     "metadata": {},
     "output_type": "execute_result"
    }
   ],
   "source": [
    "newclist=[round(x,2) for x in C]\n",
    "newclist"
   ]
  },
  {
   "cell_type": "code",
   "execution_count": 12,
   "id": "7f04bfd4",
   "metadata": {},
   "outputs": [
    {
     "data": {
      "text/plain": [
       "['35.20', '36.50', '37.30', '38.00', '39.80']"
      ]
     },
     "execution_count": 12,
     "metadata": {},
     "output_type": "execute_result"
    }
   ],
   "source": [
    "newlist=['%.2f'% j for j in C]\n",
    "newlist"
   ]
  },
  {
   "cell_type": "markdown",
   "id": "d000f5ea",
   "metadata": {},
   "source": [
    "# FILTER IN LAMBDA"
   ]
  },
  {
   "cell_type": "code",
   "execution_count": 13,
   "id": "6f9b82f0",
   "metadata": {},
   "outputs": [
    {
     "data": {
      "text/plain": [
       "[3, 4, 5, 6, 7, 8]"
      ]
     },
     "execution_count": 13,
     "metadata": {},
     "output_type": "execute_result"
    }
   ],
   "source": [
    "mylist=[1,2,3,4,5,6,7,8]\n",
    "list(filter(lambda x:x>2,mylist))"
   ]
  },
  {
   "cell_type": "code",
   "execution_count": 14,
   "id": "eaa39737",
   "metadata": {},
   "outputs": [
    {
     "data": {
      "text/plain": [
       "[0, 2, 4, 6, 8, 10]"
      ]
     },
     "execution_count": 14,
     "metadata": {},
     "output_type": "execute_result"
    }
   ],
   "source": [
    "even=lambda x: x%2==0\n",
    "list(filter(even,range(11)))"
   ]
  },
  {
   "cell_type": "code",
   "execution_count": 15,
   "id": "e81bdd54",
   "metadata": {},
   "outputs": [
    {
     "data": {
      "text/plain": [
       "[0, 2, 4, 6, 8, 10]"
      ]
     },
     "execution_count": 15,
     "metadata": {},
     "output_type": "execute_result"
    }
   ],
   "source": [
    "# we can do it by list comprehension\n",
    "[x for x in range (11) if x%2==0]"
   ]
  },
  {
   "cell_type": "code",
   "execution_count": null,
   "id": "88cb6d9a",
   "metadata": {},
   "outputs": [],
   "source": []
  }
 ],
 "metadata": {
  "kernelspec": {
   "display_name": "Python 3 (ipykernel)",
   "language": "python",
   "name": "python3"
  },
  "language_info": {
   "codemirror_mode": {
    "name": "ipython",
    "version": 3
   },
   "file_extension": ".py",
   "mimetype": "text/x-python",
   "name": "python",
   "nbconvert_exporter": "python",
   "pygments_lexer": "ipython3",
   "version": "3.9.7"
  }
 },
 "nbformat": 4,
 "nbformat_minor": 5
}
