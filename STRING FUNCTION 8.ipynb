{
 "cells": [
  {
   "cell_type": "markdown",
   "id": "c5b36f2b",
   "metadata": {},
   "source": [
    "# STRING FUNCTION IN PYTHON"
   ]
  },
  {
   "cell_type": "code",
   "execution_count": 1,
   "id": "cd73e725",
   "metadata": {},
   "outputs": [
    {
     "data": {
      "text/plain": [
       "'machine'"
      ]
     },
     "execution_count": 1,
     "metadata": {},
     "output_type": "execute_result"
    }
   ],
   "source": [
    "word1=\"MACHINE\"\n",
    "word1.lower()"
   ]
  },
  {
   "cell_type": "code",
   "execution_count": 2,
   "id": "74df94a1",
   "metadata": {},
   "outputs": [],
   "source": [
    "word1=\"machine\"\n",
    "w=word1.upper()"
   ]
  },
  {
   "cell_type": "code",
   "execution_count": 3,
   "id": "1b42daca",
   "metadata": {
    "scrolled": true
   },
   "outputs": [
    {
     "data": {
      "text/plain": [
       "'MACHINE'"
      ]
     },
     "execution_count": 3,
     "metadata": {},
     "output_type": "execute_result"
    }
   ],
   "source": [
    "w"
   ]
  },
  {
   "cell_type": "code",
   "execution_count": 4,
   "id": "986938f9",
   "metadata": {},
   "outputs": [
    {
     "data": {
      "text/plain": [
       "True"
      ]
     },
     "execution_count": 4,
     "metadata": {},
     "output_type": "execute_result"
    }
   ],
   "source": [
    "w.isupper()"
   ]
  },
  {
   "cell_type": "code",
   "execution_count": 5,
   "id": "810beb21",
   "metadata": {},
   "outputs": [
    {
     "data": {
      "text/plain": [
       "False"
      ]
     },
     "execution_count": 5,
     "metadata": {},
     "output_type": "execute_result"
    }
   ],
   "source": [
    "w.islower()"
   ]
  },
  {
   "cell_type": "code",
   "execution_count": 6,
   "id": "64a034be",
   "metadata": {},
   "outputs": [
    {
     "data": {
      "text/plain": [
       "'rAnJaN'"
      ]
     },
     "execution_count": 6,
     "metadata": {},
     "output_type": "execute_result"
    }
   ],
   "source": [
    "p='RaNjAn'\n",
    "p.swapcase()"
   ]
  },
  {
   "cell_type": "code",
   "execution_count": 7,
   "id": "92eb08f6",
   "metadata": {},
   "outputs": [
    {
     "data": {
      "text/plain": [
       "'Tesla'"
      ]
     },
     "execution_count": 7,
     "metadata": {},
     "output_type": "execute_result"
    }
   ],
   "source": [
    "c='tesla'\n",
    "c.capitalize()"
   ]
  },
  {
   "cell_type": "code",
   "execution_count": 8,
   "id": "602500dd",
   "metadata": {},
   "outputs": [
    {
     "data": {
      "text/plain": [
       "'Elon musk soon holds twitter'"
      ]
     },
     "execution_count": 8,
     "metadata": {},
     "output_type": "execute_result"
    }
   ],
   "source": [
    "a='elon musk soon holds twitter'\n",
    "a.capitalize()"
   ]
  },
  {
   "cell_type": "code",
   "execution_count": 9,
   "id": "135befea",
   "metadata": {},
   "outputs": [
    {
     "data": {
      "text/plain": [
       "'Elon Musk Soon Holds Twitter'"
      ]
     },
     "execution_count": 9,
     "metadata": {},
     "output_type": "execute_result"
    }
   ],
   "source": [
    "a.title()"
   ]
  },
  {
   "cell_type": "code",
   "execution_count": 10,
   "id": "2967da8b",
   "metadata": {},
   "outputs": [
    {
     "data": {
      "text/plain": [
       "['elon', 'musk', 'soon', 'holds', 'twitter']"
      ]
     },
     "execution_count": 10,
     "metadata": {},
     "output_type": "execute_result"
    }
   ],
   "source": [
    "a.split()"
   ]
  },
  {
   "cell_type": "code",
   "execution_count": 11,
   "id": "84e1e030",
   "metadata": {},
   "outputs": [
    {
     "data": {
      "text/plain": [
       "['elonmusksoonholdstwitter']"
      ]
     },
     "execution_count": 11,
     "metadata": {},
     "output_type": "execute_result"
    }
   ],
   "source": [
    "b='elonmusksoonholdstwitter'\n",
    "b.split()"
   ]
  },
  {
   "cell_type": "code",
   "execution_count": 12,
   "id": "7a7da1dc",
   "metadata": {},
   "outputs": [
    {
     "data": {
      "text/plain": [
       "'machine'"
      ]
     },
     "execution_count": 12,
     "metadata": {},
     "output_type": "execute_result"
    }
   ],
   "source": [
    " word1"
   ]
  },
  {
   "cell_type": "code",
   "execution_count": 13,
   "id": "6907dc78",
   "metadata": {},
   "outputs": [
    {
     "data": {
      "text/plain": [
       "False"
      ]
     },
     "execution_count": 13,
     "metadata": {},
     "output_type": "execute_result"
    }
   ],
   "source": [
    "word1.isupper()"
   ]
  },
  {
   "cell_type": "code",
   "execution_count": 14,
   "id": "3c638568",
   "metadata": {},
   "outputs": [
    {
     "data": {
      "text/plain": [
       "True"
      ]
     },
     "execution_count": 14,
     "metadata": {},
     "output_type": "execute_result"
    }
   ],
   "source": [
    "word1.islower()"
   ]
  },
  {
   "cell_type": "code",
   "execution_count": 15,
   "id": "e24bee31",
   "metadata": {},
   "outputs": [
    {
     "data": {
      "text/plain": [
       "'tesla'"
      ]
     },
     "execution_count": 15,
     "metadata": {},
     "output_type": "execute_result"
    }
   ],
   "source": [
    "c"
   ]
  },
  {
   "cell_type": "code",
   "execution_count": 16,
   "id": "0a5927a9",
   "metadata": {},
   "outputs": [
    {
     "data": {
      "text/plain": [
       "True"
      ]
     },
     "execution_count": 16,
     "metadata": {},
     "output_type": "execute_result"
    }
   ],
   "source": [
    "c.isalpha()"
   ]
  },
  {
   "cell_type": "code",
   "execution_count": 17,
   "id": "c3600753",
   "metadata": {},
   "outputs": [
    {
     "data": {
      "text/plain": [
       "'Apple123'"
      ]
     },
     "execution_count": 17,
     "metadata": {},
     "output_type": "execute_result"
    }
   ],
   "source": [
    "e=\"Apple123\"\n",
    "e"
   ]
  },
  {
   "cell_type": "code",
   "execution_count": 18,
   "id": "b1686716",
   "metadata": {},
   "outputs": [
    {
     "data": {
      "text/plain": [
       "True"
      ]
     },
     "execution_count": 18,
     "metadata": {},
     "output_type": "execute_result"
    }
   ],
   "source": [
    "e.isalnum()"
   ]
  },
  {
   "cell_type": "code",
   "execution_count": 19,
   "id": "04d73caa",
   "metadata": {},
   "outputs": [
    {
     "data": {
      "text/plain": [
       "'123456'"
      ]
     },
     "execution_count": 19,
     "metadata": {},
     "output_type": "execute_result"
    }
   ],
   "source": [
    "e1=\"123456\"\n",
    "e1"
   ]
  },
  {
   "cell_type": "code",
   "execution_count": 20,
   "id": "fcfdb7a8",
   "metadata": {},
   "outputs": [
    {
     "data": {
      "text/plain": [
       "False"
      ]
     },
     "execution_count": 20,
     "metadata": {},
     "output_type": "execute_result"
    }
   ],
   "source": [
    "e1.isalpha()"
   ]
  },
  {
   "cell_type": "code",
   "execution_count": 21,
   "id": "04ca4b3b",
   "metadata": {},
   "outputs": [
    {
     "data": {
      "text/plain": [
       "True"
      ]
     },
     "execution_count": 21,
     "metadata": {},
     "output_type": "execute_result"
    }
   ],
   "source": [
    "e1.isdigit()"
   ]
  },
  {
   "cell_type": "code",
   "execution_count": 22,
   "id": "2056fdab",
   "metadata": {},
   "outputs": [
    {
     "data": {
      "text/plain": [
       "True"
      ]
     },
     "execution_count": 22,
     "metadata": {},
     "output_type": "execute_result"
    }
   ],
   "source": [
    "e1.isalnum()"
   ]
  },
  {
   "cell_type": "code",
   "execution_count": 23,
   "id": "f361e212",
   "metadata": {},
   "outputs": [
    {
     "data": {
      "text/plain": [
       "'elon musk soon holds twitter'"
      ]
     },
     "execution_count": 23,
     "metadata": {},
     "output_type": "execute_result"
    }
   ],
   "source": [
    "a"
   ]
  },
  {
   "cell_type": "code",
   "execution_count": 24,
   "id": "1d44ff52",
   "metadata": {},
   "outputs": [
    {
     "data": {
      "text/plain": [
       "True"
      ]
     },
     "execution_count": 24,
     "metadata": {},
     "output_type": "execute_result"
    }
   ],
   "source": [
    "a.startswith('elon')"
   ]
  },
  {
   "cell_type": "code",
   "execution_count": 25,
   "id": "511e5967",
   "metadata": {},
   "outputs": [
    {
     "data": {
      "text/plain": [
       "False"
      ]
     },
     "execution_count": 25,
     "metadata": {},
     "output_type": "execute_result"
    }
   ],
   "source": [
    "a.startswith('Elon')"
   ]
  },
  {
   "cell_type": "code",
   "execution_count": 26,
   "id": "79d8b30c",
   "metadata": {},
   "outputs": [
    {
     "data": {
      "text/plain": [
       "True"
      ]
     },
     "execution_count": 26,
     "metadata": {},
     "output_type": "execute_result"
    }
   ],
   "source": [
    "a.endswith('twitter')"
   ]
  },
  {
   "cell_type": "code",
   "execution_count": 27,
   "id": "4d7121e2",
   "metadata": {},
   "outputs": [
    {
     "data": {
      "text/plain": [
       "False"
      ]
     },
     "execution_count": 27,
     "metadata": {},
     "output_type": "execute_result"
    }
   ],
   "source": [
    "a.endswith('facebook')"
   ]
  },
  {
   "cell_type": "code",
   "execution_count": 28,
   "id": "26e90791",
   "metadata": {},
   "outputs": [
    {
     "data": {
      "text/plain": [
       "28"
      ]
     },
     "execution_count": 28,
     "metadata": {},
     "output_type": "execute_result"
    }
   ],
   "source": [
    "len(a)"
   ]
  },
  {
   "cell_type": "code",
   "execution_count": 29,
   "id": "e05f54b8",
   "metadata": {},
   "outputs": [
    {
     "data": {
      "text/plain": [
       "10"
      ]
     },
     "execution_count": 29,
     "metadata": {},
     "output_type": "execute_result"
    }
   ],
   "source": [
    "a.find('soon')"
   ]
  },
  {
   "cell_type": "code",
   "execution_count": 30,
   "id": "c8c372e7",
   "metadata": {},
   "outputs": [
    {
     "data": {
      "text/plain": [
       "15"
      ]
     },
     "execution_count": 30,
     "metadata": {},
     "output_type": "execute_result"
    }
   ],
   "source": [
    "a.find('holds',15,25)"
   ]
  },
  {
   "cell_type": "code",
   "execution_count": 31,
   "id": "e0a23540",
   "metadata": {},
   "outputs": [
    {
     "data": {
      "text/plain": [
       "21"
      ]
     },
     "execution_count": 31,
     "metadata": {},
     "output_type": "execute_result"
    }
   ],
   "source": [
    "a.find('twitter',10,28)"
   ]
  },
  {
   "cell_type": "markdown",
   "id": "9cdbfd04",
   "metadata": {},
   "source": [
    "The count() methods returns the number of occurrences of a substring in the given string."
   ]
  },
  {
   "cell_type": "code",
   "execution_count": 32,
   "id": "eb843e88",
   "metadata": {},
   "outputs": [
    {
     "data": {
      "text/plain": [
       "3"
      ]
     },
     "execution_count": 32,
     "metadata": {},
     "output_type": "execute_result"
    }
   ],
   "source": [
    "a.count('s')"
   ]
  },
  {
   "cell_type": "code",
   "execution_count": 33,
   "id": "1cbf0404",
   "metadata": {},
   "outputs": [],
   "source": [
    "message='python$ is popular programming language$'"
   ]
  },
  {
   "cell_type": "code",
   "execution_count": 34,
   "id": "c5810e97",
   "metadata": {},
   "outputs": [
    {
     "data": {
      "text/plain": [
       "4"
      ]
     },
     "execution_count": 34,
     "metadata": {},
     "output_type": "execute_result"
    }
   ],
   "source": [
    "message.count('p')"
   ]
  },
  {
   "cell_type": "code",
   "execution_count": 35,
   "id": "3e768293",
   "metadata": {},
   "outputs": [
    {
     "data": {
      "text/plain": [
       "2"
      ]
     },
     "execution_count": 35,
     "metadata": {},
     "output_type": "execute_result"
    }
   ],
   "source": [
    "message.count('m')"
   ]
  },
  {
   "cell_type": "code",
   "execution_count": 36,
   "id": "db8fe4e8",
   "metadata": {},
   "outputs": [
    {
     "data": {
      "text/plain": [
       "2"
      ]
     },
     "execution_count": 36,
     "metadata": {},
     "output_type": "execute_result"
    }
   ],
   "source": [
    "message.count('i')"
   ]
  },
  {
   "cell_type": "code",
   "execution_count": 37,
   "id": "3b295ae9",
   "metadata": {},
   "outputs": [
    {
     "data": {
      "text/plain": [
       "2"
      ]
     },
     "execution_count": 37,
     "metadata": {},
     "output_type": "execute_result"
    }
   ],
   "source": [
    "message.count('$')"
   ]
  },
  {
   "cell_type": "code",
   "execution_count": 38,
   "id": "258bae28",
   "metadata": {},
   "outputs": [],
   "source": [
    "word2='NASA is building hotel project in Mars'"
   ]
  },
  {
   "cell_type": "code",
   "execution_count": 39,
   "id": "9c16df23",
   "metadata": {},
   "outputs": [
    {
     "data": {
      "text/plain": [
       "'SPACEX is building hotel project in Mars'"
      ]
     },
     "execution_count": 39,
     "metadata": {},
     "output_type": "execute_result"
    }
   ],
   "source": [
    "word2.replace('NASA','SPACEX')"
   ]
  },
  {
   "cell_type": "markdown",
   "id": "20b070d5",
   "metadata": {},
   "source": [
    "The joint()string method returns a string by joining all the elements of an iterable(list,string,tuple),separated by a string separator."
   ]
  },
  {
   "cell_type": "code",
   "execution_count": 40,
   "id": "97e5ef3c",
   "metadata": {},
   "outputs": [
    {
     "data": {
      "text/plain": [
       "['NASA', 'is', 'building', 'hotel', 'project', 'in', 'Mars']"
      ]
     },
     "execution_count": 40,
     "metadata": {},
     "output_type": "execute_result"
    }
   ],
   "source": [
    "text=['NASA', 'is', 'building', 'hotel', 'project', 'in', 'Mars']\n",
    "text"
   ]
  },
  {
   "cell_type": "code",
   "execution_count": 41,
   "id": "874aad73",
   "metadata": {},
   "outputs": [],
   "source": [
    "# join elements of text with nonspace"
   ]
  },
  {
   "cell_type": "code",
   "execution_count": 42,
   "id": "c00de0df",
   "metadata": {},
   "outputs": [
    {
     "data": {
      "text/plain": [
       "'NASAisbuildinghotelprojectinMars'"
      ]
     },
     "execution_count": 42,
     "metadata": {},
     "output_type": "execute_result"
    }
   ],
   "source": [
    "''.join(text)"
   ]
  },
  {
   "cell_type": "code",
   "execution_count": 43,
   "id": "cdf299a4",
   "metadata": {},
   "outputs": [],
   "source": [
    "# join elements of text with space"
   ]
  },
  {
   "cell_type": "code",
   "execution_count": 44,
   "id": "aa9b24cc",
   "metadata": {},
   "outputs": [
    {
     "data": {
      "text/plain": [
       "'NASA is building hotel project in Mars'"
      ]
     },
     "execution_count": 44,
     "metadata": {},
     "output_type": "execute_result"
    }
   ],
   "source": [
    "' '.join(text)"
   ]
  },
  {
   "cell_type": "code",
   "execution_count": 47,
   "id": "53eb5e09",
   "metadata": {},
   "outputs": [
    {
     "name": "stdout",
     "output_type": "stream",
     "text": [
      "The two strings are matching\n"
     ]
    }
   ],
   "source": [
    "# casefold ignores the matching of words by lowercase or uppercase\n",
    "string1='Tesla'\n",
    "string2='tesla'\n",
    "if string1.casefold()==string2.casefold():\n",
    "    print('The two strings are matching')\n",
    "else:\n",
    "    print('The strings are not matching')"
   ]
  },
  {
   "cell_type": "code",
   "execution_count": null,
   "id": "6051781d",
   "metadata": {},
   "outputs": [],
   "source": [
    "# string printing format\n",
    "C-style format\n",
    "string.format"
   ]
  },
  {
   "cell_type": "code",
   "execution_count": null,
   "id": "66c3b6d1",
   "metadata": {},
   "outputs": [],
   "source": [
    "C-style format"
   ]
  },
  {
   "cell_type": "code",
   "execution_count": 51,
   "id": "622f4478",
   "metadata": {
    "scrolled": true
   },
   "outputs": [
    {
     "name": "stdout",
     "output_type": "stream",
     "text": [
      "hi, my name is Ranjan\n"
     ]
    }
   ],
   "source": [
    "print('hi, my name is %s' %  'Ranjan')"
   ]
  },
  {
   "cell_type": "code",
   "execution_count": 55,
   "id": "76768481",
   "metadata": {},
   "outputs": [
    {
     "name": "stdout",
     "output_type": "stream",
     "text": [
      "Hello, John!\n"
     ]
    }
   ],
   "source": [
    "# This prints out \"Hello, John!\"\n",
    "Name='John'\n",
    "print('Hello, %s!' % Name)"
   ]
  },
  {
   "cell_type": "code",
   "execution_count": 60,
   "id": "77286043",
   "metadata": {},
   "outputs": [
    {
     "name": "stdout",
     "output_type": "stream",
     "text": [
      "Hello John !\n"
     ]
    }
   ],
   "source": [
    "print('Hello', Name,'!')"
   ]
  },
  {
   "cell_type": "code",
   "execution_count": 63,
   "id": "1c1cf7e1",
   "metadata": {},
   "outputs": [
    {
     "name": "stdout",
     "output_type": "stream",
     "text": [
      "John is 23 years old taking salary 8948.456000\n",
      "Salary = 8948.46\n"
     ]
    }
   ],
   "source": [
    "# This prints out 'John is 23 year old'\n",
    "Name='John'\n",
    "Age=23\n",
    "Salary=8948.456\n",
    "print('%s is %d years old taking salary %f' %(Name, Age, Salary))\n",
    "\n",
    "print('Salary = %0.2f' %(Salary))\n"
   ]
  },
  {
   "cell_type": "code",
   "execution_count": 64,
   "id": "358dbb44",
   "metadata": {},
   "outputs": [
    {
     "name": "stdout",
     "output_type": "stream",
     "text": [
      "I like to eat Apple, Mango and Banana\n"
     ]
    }
   ],
   "source": [
    "fruit1='Apple'\n",
    "fruit2='Mango'\n",
    "fruit3='Banana'\n",
    "print('I like to eat %s, %s and %s' %(fruit1,fruit2,fruit3))"
   ]
  },
  {
   "cell_type": "markdown",
   "id": "88a33697",
   "metadata": {},
   "source": [
    "string.format"
   ]
  },
  {
   "cell_type": "code",
   "execution_count": 65,
   "id": "28f8d690",
   "metadata": {},
   "outputs": [
    {
     "name": "stdout",
     "output_type": "stream",
     "text": [
      "People generally take coke with piza\n"
     ]
    }
   ],
   "source": [
    "print('People generally take {} with {}'.format('coke','piza'))"
   ]
  },
  {
   "cell_type": "code",
   "execution_count": 66,
   "id": "95d64a9a",
   "metadata": {},
   "outputs": [
    {
     "name": "stdout",
     "output_type": "stream",
     "text": [
      "People generally take coke with piza\n"
     ]
    }
   ],
   "source": [
    "print('People generally take {0} with {1}'.format('coke','piza'))"
   ]
  },
  {
   "cell_type": "code",
   "execution_count": 67,
   "id": "c6536b49",
   "metadata": {},
   "outputs": [
    {
     "name": "stdout",
     "output_type": "stream",
     "text": [
      "People generally take piza with coke\n"
     ]
    }
   ],
   "source": [
    "print('People generally take {1} with {0}'.format('coke','piza'))"
   ]
  },
  {
   "cell_type": "markdown",
   "id": "dde1a8de",
   "metadata": {},
   "source": [
    "LIST COMPREHENSION"
   ]
  },
  {
   "cell_type": "code",
   "execution_count": 69,
   "id": "04f62329",
   "metadata": {},
   "outputs": [],
   "source": [
    "p=[i for i in (11,12,13,14,15)]"
   ]
  },
  {
   "cell_type": "code",
   "execution_count": 70,
   "id": "19e81c07",
   "metadata": {},
   "outputs": [
    {
     "data": {
      "text/plain": [
       "[11, 12, 13, 14, 15]"
      ]
     },
     "execution_count": 70,
     "metadata": {},
     "output_type": "execute_result"
    }
   ],
   "source": [
    "p"
   ]
  },
  {
   "cell_type": "code",
   "execution_count": 71,
   "id": "266f8cfc",
   "metadata": {},
   "outputs": [],
   "source": [
    "k=[i for i in range(0,10)]"
   ]
  },
  {
   "cell_type": "code",
   "execution_count": 72,
   "id": "5af52362",
   "metadata": {},
   "outputs": [
    {
     "data": {
      "text/plain": [
       "[0, 1, 2, 3, 4, 5, 6, 7, 8, 9]"
      ]
     },
     "execution_count": 72,
     "metadata": {},
     "output_type": "execute_result"
    }
   ],
   "source": [
    "k"
   ]
  },
  {
   "cell_type": "code",
   "execution_count": 73,
   "id": "0b6fdcbe",
   "metadata": {},
   "outputs": [],
   "source": [
    "c=[i for i in range(0,10,2)]"
   ]
  },
  {
   "cell_type": "code",
   "execution_count": 74,
   "id": "b420c257",
   "metadata": {},
   "outputs": [
    {
     "data": {
      "text/plain": [
       "[0, 2, 4, 6, 8]"
      ]
     },
     "execution_count": 74,
     "metadata": {},
     "output_type": "execute_result"
    }
   ],
   "source": [
    "c"
   ]
  },
  {
   "cell_type": "code",
   "execution_count": 78,
   "id": "954b181c",
   "metadata": {},
   "outputs": [],
   "source": [
    "j=[i for i in range(0,10) if i%2==0]"
   ]
  },
  {
   "cell_type": "code",
   "execution_count": 79,
   "id": "aab88e95",
   "metadata": {},
   "outputs": [
    {
     "data": {
      "text/plain": [
       "[0, 2, 4, 6, 8]"
      ]
     },
     "execution_count": 79,
     "metadata": {},
     "output_type": "execute_result"
    }
   ],
   "source": [
    "j"
   ]
  },
  {
   "cell_type": "code",
   "execution_count": 80,
   "id": "b27b8b38",
   "metadata": {},
   "outputs": [],
   "source": [
    "j=[i for i in range(0,10) if i%2==1]"
   ]
  },
  {
   "cell_type": "code",
   "execution_count": 81,
   "id": "9998e256",
   "metadata": {},
   "outputs": [
    {
     "data": {
      "text/plain": [
       "[1, 3, 5, 7, 9]"
      ]
     },
     "execution_count": 81,
     "metadata": {},
     "output_type": "execute_result"
    }
   ],
   "source": [
    "j"
   ]
  },
  {
   "cell_type": "code",
   "execution_count": null,
   "id": "89dd79a7",
   "metadata": {},
   "outputs": [],
   "source": []
  }
 ],
 "metadata": {
  "kernelspec": {
   "display_name": "Python 3 (ipykernel)",
   "language": "python",
   "name": "python3"
  },
  "language_info": {
   "codemirror_mode": {
    "name": "ipython",
    "version": 3
   },
   "file_extension": ".py",
   "mimetype": "text/x-python",
   "name": "python",
   "nbconvert_exporter": "python",
   "pygments_lexer": "ipython3",
   "version": "3.9.7"
  }
 },
 "nbformat": 4,
 "nbformat_minor": 5
}
