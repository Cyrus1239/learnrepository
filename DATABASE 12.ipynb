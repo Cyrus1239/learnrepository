{
 "cells": [
  {
   "cell_type": "markdown",
   "id": "02c83125",
   "metadata": {},
   "source": [
    "Database"
   ]
  },
  {
   "cell_type": "code",
   "execution_count": 1,
   "id": "46875050",
   "metadata": {},
   "outputs": [],
   "source": [
    "import sqlite3"
   ]
  },
  {
   "cell_type": "code",
   "execution_count": 2,
   "id": "aab75789",
   "metadata": {},
   "outputs": [],
   "source": [
    "dbcon=sqlite3.connect('testdatabase.db')"
   ]
  },
  {
   "cell_type": "code",
   "execution_count": 3,
   "id": "69c1419c",
   "metadata": {},
   "outputs": [],
   "source": [
    "cur=dbcon.cursor()"
   ]
  },
  {
   "cell_type": "code",
   "execution_count": 4,
   "id": "c11be9a2",
   "metadata": {},
   "outputs": [
    {
     "data": {
      "text/plain": [
       "<sqlite3.Cursor at 0x11ef86062d0>"
      ]
     },
     "execution_count": 4,
     "metadata": {},
     "output_type": "execute_result"
    }
   ],
   "source": [
    "cur.execute('create table student (rollno int primary key, name text, marks int )')"
   ]
  },
  {
   "cell_type": "code",
   "execution_count": 6,
   "id": "57505cfa",
   "metadata": {},
   "outputs": [
    {
     "data": {
      "text/plain": [
       "<sqlite3.Cursor at 0x11ef86062d0>"
      ]
     },
     "execution_count": 6,
     "metadata": {},
     "output_type": "execute_result"
    }
   ],
   "source": [
    "cur.execute('insert into student(rollno,name,marks) values(1,\"John\",90)')"
   ]
  },
  {
   "cell_type": "code",
   "execution_count": 7,
   "id": "d19848e8",
   "metadata": {},
   "outputs": [
    {
     "name": "stdout",
     "output_type": "stream",
     "text": [
      "(1, 'John', 90)\n"
     ]
    }
   ],
   "source": [
    "results=cur.execute('select * from student')\n",
    "\n",
    "for res in results:\n",
    "    print(res)"
   ]
  },
  {
   "cell_type": "code",
   "execution_count": 8,
   "id": "98a62b04",
   "metadata": {},
   "outputs": [
    {
     "data": {
      "text/plain": [
       "<sqlite3.Cursor at 0x11ef86062d0>"
      ]
     },
     "execution_count": 8,
     "metadata": {},
     "output_type": "execute_result"
    }
   ],
   "source": [
    "cur.execute('insert into student(rollno,name,marks) values(2,\"Andrew\",95)')"
   ]
  },
  {
   "cell_type": "code",
   "execution_count": 9,
   "id": "9b8ae396",
   "metadata": {},
   "outputs": [
    {
     "data": {
      "text/plain": [
       "<sqlite3.Cursor at 0x11ef86062d0>"
      ]
     },
     "execution_count": 9,
     "metadata": {},
     "output_type": "execute_result"
    }
   ],
   "source": [
    "cur.execute('insert into student(rollno,name,marks) values(3,\"Skyli\",97)')"
   ]
  },
  {
   "cell_type": "code",
   "execution_count": 10,
   "id": "2e5ce282",
   "metadata": {},
   "outputs": [
    {
     "data": {
      "text/plain": [
       "<sqlite3.Cursor at 0x11ef86062d0>"
      ]
     },
     "execution_count": 10,
     "metadata": {},
     "output_type": "execute_result"
    }
   ],
   "source": [
    "cur.execute('insert into student(rollno,name,marks) values(4,\"Lee\",98)')"
   ]
  },
  {
   "cell_type": "code",
   "execution_count": 11,
   "id": "0499926e",
   "metadata": {},
   "outputs": [
    {
     "data": {
      "text/plain": [
       "<sqlite3.Cursor at 0x11ef86062d0>"
      ]
     },
     "execution_count": 11,
     "metadata": {},
     "output_type": "execute_result"
    }
   ],
   "source": [
    "cur.execute('insert into student(rollno,name,marks) values(5,\"John\",99)')"
   ]
  },
  {
   "cell_type": "code",
   "execution_count": 12,
   "id": "5b6171ef",
   "metadata": {},
   "outputs": [
    {
     "name": "stdout",
     "output_type": "stream",
     "text": [
      "(1, 'John', 90)\n",
      "(2, 'Andrew', 95)\n",
      "(3, 'Skyli', 97)\n",
      "(4, 'Lee', 98)\n",
      "(5, 'John', 99)\n"
     ]
    }
   ],
   "source": [
    "results=cur.execute('select * from student')\n",
    "\n",
    "for i in results:\n",
    "    print(i)"
   ]
  },
  {
   "cell_type": "code",
   "execution_count": 13,
   "id": "2b8a994c",
   "metadata": {},
   "outputs": [
    {
     "data": {
      "text/plain": [
       "<sqlite3.Cursor at 0x11ef86062d0>"
      ]
     },
     "execution_count": 13,
     "metadata": {},
     "output_type": "execute_result"
    }
   ],
   "source": [
    "cur.execute('insert into student values(6,\"Lily\",100)')"
   ]
  },
  {
   "cell_type": "code",
   "execution_count": 16,
   "id": "227d5701",
   "metadata": {},
   "outputs": [
    {
     "name": "stdout",
     "output_type": "stream",
     "text": [
      "(1, 'John', 90)\n",
      "(2, 'Andrew', 95)\n",
      "(3, 'Skyli', 97)\n",
      "(4, 'Lee', 98)\n",
      "(5, 'John', 99)\n",
      "(6, 'Lily', 100)\n"
     ]
    }
   ],
   "source": [
    "results=cur.execute('select * from student')\n",
    "\n",
    "for i in results:\n",
    "    print(i)"
   ]
  },
  {
   "cell_type": "code",
   "execution_count": 17,
   "id": "cee65beb",
   "metadata": {},
   "outputs": [
    {
     "name": "stdout",
     "output_type": "stream",
     "text": [
      "('John',)\n",
      "('Andrew',)\n",
      "('Skyli',)\n",
      "('Lee',)\n",
      "('John',)\n",
      "('Lily',)\n"
     ]
    }
   ],
   "source": [
    "results=cur.execute('select name from student')\n",
    "\n",
    "for i in results:\n",
    "    print(i)"
   ]
  },
  {
   "cell_type": "code",
   "execution_count": 18,
   "id": "b60fe6fd",
   "metadata": {},
   "outputs": [
    {
     "name": "stdout",
     "output_type": "stream",
     "text": [
      "(90,)\n",
      "(95,)\n",
      "(97,)\n",
      "(98,)\n",
      "(99,)\n",
      "(100,)\n"
     ]
    }
   ],
   "source": [
    "results=cur.execute('select marks from student')\n",
    "\n",
    "for i in results:\n",
    "    print(i)"
   ]
  },
  {
   "cell_type": "code",
   "execution_count": 19,
   "id": "210bb44d",
   "metadata": {},
   "outputs": [
    {
     "name": "stdout",
     "output_type": "stream",
     "text": [
      "('John', 90)\n",
      "('Andrew', 95)\n",
      "('Skyli', 97)\n",
      "('Lee', 98)\n",
      "('John', 99)\n",
      "('Lily', 100)\n"
     ]
    }
   ],
   "source": [
    "results=cur.execute('select name,marks from student')\n",
    "\n",
    "for i in results:\n",
    "    print(i)"
   ]
  },
  {
   "cell_type": "code",
   "execution_count": 20,
   "id": "af430863",
   "metadata": {
    "scrolled": true
   },
   "outputs": [
    {
     "name": "stdout",
     "output_type": "stream",
     "text": [
      "(1, 'John', 90)\n",
      "(2, 'Andrew', 95)\n",
      "(3, 'Skyli', 97)\n",
      "(4, 'Lee', 98)\n",
      "(5, 'John', 99)\n",
      "(6, 'Lily', 100)\n"
     ]
    }
   ],
   "source": [
    "results=cur.execute('select rollno,name,marks from student')\n",
    "\n",
    "for i in results:\n",
    "    print(i)"
   ]
  },
  {
   "cell_type": "code",
   "execution_count": 21,
   "id": "ec40757c",
   "metadata": {},
   "outputs": [
    {
     "name": "stdout",
     "output_type": "stream",
     "text": [
      "(1, 'John', 90)\n",
      "(2, 'Andrew', 95)\n",
      "(3, 'Skyli', 97)\n",
      "(4, 'Lee', 98)\n",
      "(5, 'John', 99)\n",
      "(6, 'Lily', 100)\n"
     ]
    }
   ],
   "source": [
    "results=cur.execute('select * from student')\n",
    "\n",
    "for i in results:\n",
    "    print(i)"
   ]
  },
  {
   "cell_type": "code",
   "execution_count": 22,
   "id": "ddf6c59c",
   "metadata": {},
   "outputs": [
    {
     "name": "stdout",
     "output_type": "stream",
     "text": [
      "(1, 'John', 90)\n"
     ]
    }
   ],
   "source": [
    "results=cur.execute('select * from student where rollno=1')\n",
    "\n",
    "for i in results:\n",
    "    print(i)"
   ]
  },
  {
   "cell_type": "code",
   "execution_count": 23,
   "id": "f9573255",
   "metadata": {},
   "outputs": [
    {
     "name": "stdout",
     "output_type": "stream",
     "text": [
      "(2, 'Andrew', 95)\n"
     ]
    }
   ],
   "source": [
    "results=cur.execute('select * from student where rollno=2')\n",
    "\n",
    "for i in results:\n",
    "    print(i)"
   ]
  },
  {
   "cell_type": "code",
   "execution_count": 24,
   "id": "147b3e08",
   "metadata": {},
   "outputs": [
    {
     "name": "stdout",
     "output_type": "stream",
     "text": [
      "('Andrew',)\n"
     ]
    }
   ],
   "source": [
    "results=cur.execute('select name from student where rollno=2')\n",
    "\n",
    "for i in results:\n",
    "    print(i)"
   ]
  },
  {
   "cell_type": "code",
   "execution_count": 25,
   "id": "421168c0",
   "metadata": {},
   "outputs": [
    {
     "data": {
      "text/plain": [
       "(1, 'John', 90)"
      ]
     },
     "execution_count": 25,
     "metadata": {},
     "output_type": "execute_result"
    }
   ],
   "source": [
    "results=cur.execute('select * from student where name=\"John\"')\n",
    "\n",
    "results.fetchone()"
   ]
  },
  {
   "cell_type": "code",
   "execution_count": 26,
   "id": "12975b9a",
   "metadata": {},
   "outputs": [
    {
     "data": {
      "text/plain": [
       "(2, 'Andrew', 95)"
      ]
     },
     "execution_count": 26,
     "metadata": {},
     "output_type": "execute_result"
    }
   ],
   "source": [
    "results=cur.execute('select * from student where name=\"Andrew\"')\n",
    "\n",
    "results.fetchone()"
   ]
  },
  {
   "cell_type": "code",
   "execution_count": 29,
   "id": "b637810e",
   "metadata": {},
   "outputs": [
    {
     "data": {
      "text/plain": [
       "[(1, 'John', 90),\n",
       " (2, 'Andrew', 95),\n",
       " (3, 'Skyli', 97),\n",
       " (4, 'Lee', 98),\n",
       " (5, 'John', 99),\n",
       " (6, 'Lily', 100)]"
      ]
     },
     "execution_count": 29,
     "metadata": {},
     "output_type": "execute_result"
    }
   ],
   "source": [
    "results=cur.execute('select * from student')\n",
    "\n",
    "results.fetchall()"
   ]
  },
  {
   "cell_type": "code",
   "execution_count": 31,
   "id": "3c257a08",
   "metadata": {},
   "outputs": [
    {
     "data": {
      "text/plain": [
       "[(1, 'John', 90), (2, 'Andrew', 95), (3, 'Skyli', 97)]"
      ]
     },
     "execution_count": 31,
     "metadata": {},
     "output_type": "execute_result"
    }
   ],
   "source": [
    "results=cur.execute('select * from student limit 3')\n",
    "results.fetchall()"
   ]
  },
  {
   "cell_type": "code",
   "execution_count": 32,
   "id": "6e66d3e6",
   "metadata": {},
   "outputs": [
    {
     "data": {
      "text/plain": [
       "[(1, 'John', 90), (2, 'Andrew', 95), (3, 'Skyli', 97), (4, 'Lee', 98)]"
      ]
     },
     "execution_count": 32,
     "metadata": {},
     "output_type": "execute_result"
    }
   ],
   "source": [
    "results=cur.execute('select * from student limit 4')\n",
    "results.fetchall()"
   ]
  },
  {
   "cell_type": "code",
   "execution_count": 33,
   "id": "00b3eedd",
   "metadata": {},
   "outputs": [
    {
     "data": {
      "text/plain": [
       "[(2, 'Andrew', 95),\n",
       " (1, 'John', 90),\n",
       " (5, 'John', 99),\n",
       " (4, 'Lee', 98),\n",
       " (6, 'Lily', 100),\n",
       " (3, 'Skyli', 97)]"
      ]
     },
     "execution_count": 33,
     "metadata": {},
     "output_type": "execute_result"
    }
   ],
   "source": [
    "results=cur.execute('select * from student order by name asc')\n",
    "results.fetchall()"
   ]
  },
  {
   "cell_type": "code",
   "execution_count": 34,
   "id": "f2de42bc",
   "metadata": {},
   "outputs": [
    {
     "data": {
      "text/plain": [
       "[(3, 'Skyli', 97),\n",
       " (6, 'Lily', 100),\n",
       " (4, 'Lee', 98),\n",
       " (1, 'John', 90),\n",
       " (5, 'John', 99),\n",
       " (2, 'Andrew', 95)]"
      ]
     },
     "execution_count": 34,
     "metadata": {},
     "output_type": "execute_result"
    }
   ],
   "source": [
    "results=cur.execute('select * from student order by name desc')\n",
    "results.fetchall()"
   ]
  },
  {
   "cell_type": "code",
   "execution_count": 36,
   "id": "90bda9be",
   "metadata": {},
   "outputs": [
    {
     "name": "stdout",
     "output_type": "stream",
     "text": [
      "(1, 'John', 90)\n",
      "(2, 'Andrew', 95)\n",
      "(3, 'Skyli', 97)\n"
     ]
    }
   ],
   "source": [
    "results=cur.execute('select * from student where rollno in (1,2,3)')\n",
    "\n",
    "for i in results:\n",
    "    print(i)"
   ]
  },
  {
   "cell_type": "code",
   "execution_count": 37,
   "id": "6c29e3be",
   "metadata": {},
   "outputs": [
    {
     "name": "stdout",
     "output_type": "stream",
     "text": [
      "(2, 'Andrew', 95)\n",
      "(4, 'Lee', 98)\n",
      "(6, 'Lily', 100)\n"
     ]
    }
   ],
   "source": [
    "results=cur.execute('select * from student where name in (\"Andrew\",\"Lee\",\"Lily\")')\n",
    "\n",
    "for i in results:\n",
    "    print(i)"
   ]
  },
  {
   "cell_type": "code",
   "execution_count": 38,
   "id": "13dfc1bf",
   "metadata": {},
   "outputs": [
    {
     "name": "stdout",
     "output_type": "stream",
     "text": [
      "(1, 'John', 90)\n",
      "(2, 'Andrew', 95)\n",
      "(3, 'Skyli', 97)\n",
      "(4, 'Lee', 98)\n"
     ]
    }
   ],
   "source": [
    "results=cur.execute('select * from student where marks between 90 and 98')\n",
    "\n",
    "for i in results:\n",
    "    print(i)"
   ]
  }
 ],
 "metadata": {
  "kernelspec": {
   "display_name": "Python 3 (ipykernel)",
   "language": "python",
   "name": "python3"
  },
  "language_info": {
   "codemirror_mode": {
    "name": "ipython",
    "version": 3
   },
   "file_extension": ".py",
   "mimetype": "text/x-python",
   "name": "python",
   "nbconvert_exporter": "python",
   "pygments_lexer": "ipython3",
   "version": "3.9.7"
  }
 },
 "nbformat": 4,
 "nbformat_minor": 5
}
